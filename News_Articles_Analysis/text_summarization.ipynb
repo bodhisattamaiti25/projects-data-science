{
 "cells": [
  {
   "cell_type": "code",
   "execution_count": 1,
   "metadata": {},
   "outputs": [],
   "source": [
    "import warnings\n",
    "warnings.filterwarnings('ignore')"
   ]
  },
  {
   "cell_type": "code",
   "execution_count": 2,
   "metadata": {},
   "outputs": [],
   "source": [
    "from gensim.models import KeyedVectors\n",
    "import numpy as np\n",
    "import spacy\n",
    "import networkx as nx\n",
    "from sklearn.metrics.pairwise import cosine_similarity\n",
    "from spacy.lang.en.stop_words import STOP_WORDS"
   ]
  },
  {
   "cell_type": "code",
   "execution_count": 3,
   "metadata": {},
   "outputs": [],
   "source": [
    "nlp = spacy.load('en_core_web_lg')"
   ]
  },
  {
   "cell_type": "markdown",
   "metadata": {},
   "source": [
    "At the time of doing this project, spacy's english language model (en_core_web_lg) has problem in recognizing stop words. This can be seen in the following example."
   ]
  },
  {
   "cell_type": "code",
   "execution_count": 4,
   "metadata": {},
   "outputs": [
    {
     "name": "stdout",
     "output_type": "stream",
     "text": [
      "This False\n",
      "is False\n",
      "a False\n",
      "sentence False\n",
      ". False\n",
      "And False\n",
      "the False\n",
      "cat False\n",
      "jumped False\n",
      "over False\n",
      "the False\n",
      "dog False\n",
      ". False\n",
      "The False\n",
      "cat False\n",
      "returned False\n",
      "as False\n",
      "the False\n",
      "prisoner False\n",
      "of False\n",
      "Azkaban False\n",
      ". False\n"
     ]
    }
   ],
   "source": [
    "doc = nlp('This is a sentence. And the cat jumped over the dog. The cat returned as the prisoner of Azkaban.')\n",
    "for token in doc:\n",
    "    print(token.text, token.is_stop)"
   ]
  },
  {
   "cell_type": "markdown",
   "metadata": {},
   "source": [
    "As you can see above, it doesn't recognize 'This', 'is', 'a', 'the', etc. as stop words, we are going to address this issue, by the following steps."
   ]
  },
  {
   "cell_type": "code",
   "execution_count": 5,
   "metadata": {},
   "outputs": [],
   "source": [
    "def add_stop_words(stop_words):\n",
    "    for stop_word in stop_words:\n",
    "        for word in (stop_word, stop_word.capitalize(), stop_word.upper()):\n",
    "            lex = nlp.vocab[word]\n",
    "            lex.is_stop = True\n",
    "    "
   ]
  },
  {
   "cell_type": "code",
   "execution_count": 6,
   "metadata": {},
   "outputs": [],
   "source": [
    "add_stop_words(STOP_WORDS)"
   ]
  },
  {
   "cell_type": "markdown",
   "metadata": {},
   "source": [
    "Let us recheck the above scenario again and see whether the model is recognizing stop words or not."
   ]
  },
  {
   "cell_type": "code",
   "execution_count": 7,
   "metadata": {},
   "outputs": [
    {
     "name": "stdout",
     "output_type": "stream",
     "text": [
      "This True\n",
      "is True\n",
      "a True\n",
      "sentence False\n",
      ". False\n",
      "And True\n",
      "the True\n",
      "cat False\n",
      "jumped False\n",
      "over True\n",
      "the True\n",
      "dog False\n",
      ". False\n",
      "The True\n",
      "cat False\n",
      "returned False\n",
      "as True\n",
      "the True\n",
      "prisoner False\n",
      "of True\n",
      "Azkaban False\n",
      ". False\n"
     ]
    }
   ],
   "source": [
    "doc = nlp('This is a sentence. And the cat jumped over the dog. The cat returned as the prisoner of Azkaban.')\n",
    "for token in doc:\n",
    "    print(token.text, token.is_stop)"
   ]
  },
  {
   "cell_type": "markdown",
   "metadata": {},
   "source": [
    "Since, we will be working with news articles in this project, there are words that can be marked as stop words."
   ]
  },
  {
   "cell_type": "code",
   "execution_count": 8,
   "metadata": {},
   "outputs": [],
   "source": [
    "custom_stop_words = ['say', 'says', 'said', 'saying', '\\'s', 'n\\'t','mr', 'ms', 'mr.', 'ms.', 'people']\n",
    "add_stop_words(custom_stop_words)"
   ]
  },
  {
   "cell_type": "code",
   "execution_count": 9,
   "metadata": {},
   "outputs": [
    {
     "name": "stdout",
     "output_type": "stream",
     "text": [
      "Mr. True\n",
      "Washington False\n",
      "said True\n",
      "that True\n",
      "climate False\n",
      "change False\n",
      "is True\n",
      "a True\n",
      "serious True\n",
      "issue False\n",
      "and True\n",
      "needs False\n",
      "to True\n",
      "be True\n",
      "addressed False\n",
      ". False\n"
     ]
    }
   ],
   "source": [
    "doc2 = nlp('Mr. Washington said that climate change is a serious issue and needs to be addressed.')\n",
    "for token in doc2:\n",
    "    print(token.text, token.is_stop)"
   ]
  },
  {
   "cell_type": "markdown",
   "metadata": {},
   "source": [
    "In this project we are going to work on the extractive text summarization of news articles. Let us build the functions that will be used in the summarization."
   ]
  },
  {
   "cell_type": "markdown",
   "metadata": {},
   "source": [
    "We will be using pre-trained word vectors by Google. It can be downloaded from here: https://code.google.com/archive/p/word2vec/"
   ]
  },
  {
   "cell_type": "code",
   "execution_count": 10,
   "metadata": {},
   "outputs": [],
   "source": [
    "model = KeyedVectors.load_word2vec_format('GoogleNews-vectors-negative300.bin', binary=True)"
   ]
  },
  {
   "cell_type": "code",
   "execution_count": 11,
   "metadata": {},
   "outputs": [
    {
     "data": {
      "text/plain": [
       "[('superb', 0.7657862901687622),\n",
       " ('marvelous', 0.7389472723007202),\n",
       " ('splendid', 0.7077070474624634),\n",
       " ('terrific', 0.6837816834449768),\n",
       " ('masterful', 0.6830281615257263),\n",
       " ('magnificent', 0.6709308624267578),\n",
       " ('dazzling', 0.6706756353378296),\n",
       " ('brilliantly', 0.6550824046134949),\n",
       " ('brilliance', 0.6550251245498657),\n",
       " ('scintillating', 0.6493905782699585)]"
      ]
     },
     "execution_count": 11,
     "metadata": {},
     "output_type": "execute_result"
    }
   ],
   "source": [
    "model.most_similar('brilliant')"
   ]
  },
  {
   "cell_type": "code",
   "execution_count": 12,
   "metadata": {},
   "outputs": [
    {
     "data": {
      "text/plain": [
       "[('terrible', 0.8467271327972412),\n",
       " ('horrible', 0.8412425518035889),\n",
       " ('dreadful', 0.8110991716384888),\n",
       " ('atrocious', 0.8046820163726807),\n",
       " ('horrific', 0.7891628742218018),\n",
       " ('horrid', 0.7628018856048584),\n",
       " ('appalling', 0.7606023550033569),\n",
       " ('awful', 0.6970030069351196),\n",
       " ('hideous', 0.6831786632537842),\n",
       " ('ghastly', 0.6630186438560486)]"
      ]
     },
     "execution_count": 12,
     "metadata": {},
     "output_type": "execute_result"
    }
   ],
   "source": [
    "model.most_similar('horrendous')"
   ]
  },
  {
   "cell_type": "code",
   "execution_count": 13,
   "metadata": {},
   "outputs": [
    {
     "data": {
      "text/plain": [
       "0.84672713"
      ]
     },
     "execution_count": 13,
     "metadata": {},
     "output_type": "execute_result"
    }
   ],
   "source": [
    "cosine_similarity(model['horrendous'].reshape(1,300), model['terrible'].reshape(1,300))[0][0]"
   ]
  },
  {
   "cell_type": "code",
   "execution_count": 14,
   "metadata": {},
   "outputs": [],
   "source": [
    "def read_file(fileName):\n",
    "    with open(fileName, 'r') as file:\n",
    "        text = file.read()\n",
    "        text = text.replace('\\n', ' ')\n",
    "        \n",
    "    return text\n",
    "        "
   ]
  },
  {
   "cell_type": "code",
   "execution_count": 25,
   "metadata": {},
   "outputs": [],
   "source": [
    "def get_sentences(text):\n",
    "    doc = nlp(text)\n",
    "    original_sentences = []\n",
    "    cleaned_sentences = []\n",
    "    \n",
    "    for sentence in doc.sents:\n",
    "        original_sentences.append(sentence)\n",
    "        \n",
    "    clean_text = text[:]\n",
    "    doc2 = nlp(clean_text)\n",
    "    \n",
    "    for sentence in doc2.sents:\n",
    "        words = []\n",
    "        for token in sentence:\n",
    "            if not token.is_stop and not token.is_punct and not token.is_space:\n",
    "                words.append(token.text)\n",
    "        cleaned_sentence = ' '.join(words)\n",
    "        cleaned_sentences.append(cleaned_sentence)\n",
    "        \n",
    "    return (original_sentences, cleaned_sentences)"
   ]
  },
  {
   "cell_type": "code",
   "execution_count": 23,
   "metadata": {},
   "outputs": [],
   "source": [
    "def get_sentence_vector(sentence):\n",
    "    # iterate through words in a sentence, each word will have a vector associated with it, \n",
    "    #the word vector we will get from Google's pre-trained word vector, take the mean of the word vectors in a sentence \n",
    "    #and that will be the sentence vector. return the sentence vector.\n",
    "    words = sentence.split(' ')\n",
    "    num_words = len(words)\n",
    "    sentence_vector = np.zeros((300,))\n",
    "    for word in words:\n",
    "        try:\n",
    "            sentence_vector += model[word]\n",
    "        except:\n",
    "            sentence_vector += np.zeros((300,))\n",
    "\n",
    "    return sentence_vector/num_words"
   ]
  },
  {
   "cell_type": "code",
   "execution_count": 17,
   "metadata": {},
   "outputs": [],
   "source": [
    "def get_similarity_score(sentence_vector_1, sentence_vector_2):\n",
    "    #input to the function will be 2 sentence vectors, we will calculate the cosine similarity and return the value\n",
    "    return cosine_similarity(sentence_vector_1.reshape(1,300), sentence_vector_2.reshape(1,300))[0][0]"
   ]
  },
  {
   "cell_type": "code",
   "execution_count": 60,
   "metadata": {},
   "outputs": [],
   "source": [
    "def create_similarity_matrix(sentences):\n",
    "    num_of_sentences = len(sentences)\n",
    "    similarity_matrix = np.zeros((num_of_sentences, num_of_sentences))\n",
    "    for index1 in range(num_of_sentences):\n",
    "        sentence_vector_1 = get_sentence_vector(sentences[index1])\n",
    "        for index2 in range(num_of_sentences):\n",
    "            if index1 == index2:\n",
    "                continue\n",
    "            sentence_vector_2 = get_sentence_vector(sentences[index2])\n",
    "            similarity_score = get_similarity_score(sentence_vector_1, sentence_vector_2)\n",
    "            similarity_matrix[index1][index2] = similarity_score\n",
    "    \n",
    "    return similarity_matrix"
   ]
  },
  {
   "cell_type": "code",
   "execution_count": 19,
   "metadata": {},
   "outputs": [],
   "source": [
    "def get_sentence_rankings(similarity_matrix):\n",
    "    similarity_graph = nx.from_numpy_array(similarity_matrix)\n",
    "    return nx.pagerank(similarity_graph)"
   ]
  },
  {
   "cell_type": "code",
   "execution_count": 44,
   "metadata": {},
   "outputs": [],
   "source": [
    "def get_text_summarization(fileName, numOfSentencesInSummary=5):\n",
    "    text = read_file(fileName)\n",
    "    (original_sentences, cleaned_sentences) = get_sentences(text)\n",
    "    similarity_matrix = create_similarity_matrix(cleaned_sentences)\n",
    "    sentence_rankings = get_sentence_rankings(similarity_matrix)\n",
    "    list_of_sentences_and_scores = sorted([(sentence, sentence_rankings[index]) for index, sentence in enumerate(original_sentences)], key= lambda sent:sent[1], reverse=True)\n",
    "    num_of_sentences_to_display = min(len(original_sentences), numOfSentencesInSummary)\n",
    "    sorted_sentences = [sentence[0] for sentence in list_of_sentences_and_scores]\n",
    "    sorted_sentences_for_user = sorted_sentences[0:num_of_sentences_to_display]\n",
    "    sorted_sentences_as_paragraph = \"\".join([str(sentence) for sentence in sorted_sentences_for_user])\n",
    "    return \"Text Summary: \" + '\\n' + sorted_sentences_as_paragraph"
   ]
  },
  {
   "cell_type": "markdown",
   "metadata": {},
   "source": [
    "Let us read one of the Atlantic articles which we had obtained by web scraping"
   ]
  },
  {
   "cell_type": "code",
   "execution_count": 67,
   "metadata": {},
   "outputs": [
    {
     "name": "stdout",
     "output_type": "stream",
     "text": [
      "The Massive Mystery of Saturn’s Rings Astronomers have produced the best measure yet of the planet’s signature bands. Saturn has confounded scientists since Galileo, who found that the planet was “not alone,” as he put it. “I do not know what to say in a case so surprising, so unlooked-for, and so novel,” he wrote. He didn’t realize it then, but he had seen the planet’s rings, a cosmic garland of icy material. From Earth, the rings look solid, but up close, they are translucent bands made of countless particles, mostly ice, some rock. Some are no larger than a grain of sugar, others as enormous as mountains. Around and around they go, held in place by a delicate balance between Saturn’s gravity and their orbiting speed, which pulls them out toward space. Scientists got their best look at the planet nearly 400 years after Galileo’s discovery, using a NASA spacecraft called Cassini. Cassini spent 13 years looping around Saturn until, in September 2017, it ran out of fuel and engineers deliberately plunged it into the planet, destroying it. More than a year later, scientists are still sorting through the data from its final moments, hoping to extract answers to the many questions that remain about Saturn. The latest findings, published Thursday in a study in Science, answer a fundamental but surprisingly evasive question: How much stuff is actually in those stunning rings? Estimates of the mass of the rings have varied wildly for decades, starting with the twin Voyager spacecraft, which whizzed by Saturn in the late 1970s and early 1980s on their way through the solar system. Even Cassini, nestled inside Saturn’s orbit, couldn’t provide accurate measurements until the very end. For most of its life, Cassini’s orbit was outside both Saturn and its rings. “You got a combined mass of Saturn plus the rings, and there was really no way to separate it out,” says Linda Spilker, the lead scientist for the Cassini mission, who was not involved in the latest research. “Here was our first chance.” In its last maneuvers, Cassini wove in and out of Saturn’s rings. The spacecraft was jostled by the gravity of the bands, as well as powerful winds emanating from deep within the planet’s atmosphere. Scientists used the data produced by these effects to calculate the mass of the rings. They say that the mass is about 40 percent that of Mimas, a moon of Saturn, which is about 2,000 times as small as Earth’s moon. In more earthly terms, the rings are about half the mass of the entire Antarctic ice shelf, spread across a surface area 80 times that of Earth. “It is the most accurate measurement of the rings of Saturn,” says Bonnie Buratti, a planetary scientist at NASA’s Jet Propulsion Laboratory who worked on the Cassini mission but who was not involved in the study. “The error margins are kind of pretty big—there’s about a 25 percent, almost 30 percent uncertainty—but it’s way more accurate than anything we’ve had before.” The new estimate helps to answer another Saturnian question that has puzzled scientists: How old are the rings? For decades, the scientific community was split into two camps. One believed that the ring system formed when Saturn did, 4.6 billion years ago, when the solar system as we know it emerged from swirling clouds of dust left over from the fiery birth of the sun. The other suggested the rings were a youthful feature, formed only 100 million years ago, when dinosaurs walked the Earth. The latest research bolsters the case for a more recent origin. According to current models, the more massive the rings, the older they must be, and vice versa. The new study suggests that the rings are less massive than scientists suspected, which means they’re also younger. The study authors say their new estimate, combined with previous research, suggests the rings are 10 million to 100 million years old. There’s plenty of wiggle room in that range. Other analyses focused on the margins of error in Cassini data suggest that parts of the ring system may be as old as 1.5 billion years. Still, most scientists now agree that the rings did not form alongside Saturn. This leads us to yet another unresolved question: Where did the rings come from? A primordial origin story would have been a very convenient one: The young solar system was a chaotic mess of flying debris, and it would have been possible for Saturn to lasso some of it into a lasting orbit. Scientists now suspect the rings are the fragmented bits of a cosmic interloper. A moon, a comet, or an asteroid must have strayed too close to the planet. Trapped between two gravitational forces—one tugging it toward Saturn, and the other drawing it away—the object broke into shards. Over time, the pieces flattened out into a delicate disk. “It’s like a graveyard spread around the planet,” says James O’Donoghue, a scientist at NASA’s Goddard Space Flight Center, who studies the Saturn system. To truly probe the rings’ origins, scientists could use another Cassini. “If money was of no object—and it is a big object—you could send a probe over there and excavate a bit of the rings,” O’Donoghue said. “You could pick up the boulders and look inside them and really narrow down the composition.” The youthfulness of the rings raises yet another question, Spilker said. “Were there other ring systems, perhaps that were older and then just, over time, slowly disappeared?” she said. If that’s right, the one we see now could be only the latest in a series of ring systems, the most recent victim of Saturn’s massive pull. As majestic and eternal as they seem now, Saturn’s rings are constantly shedding material. Sunlight and other cosmic effects can transform idle, icy debris into electrically charged particles. In their new state, the particles are less able to resist the tug of Saturn’s gravity and become swept into its atmosphere, where they vaporize, “raining” water onto the planet. According to O’Donoghue’s research, this process dumps as much as 4,400 pounds of water onto Saturn every second. He predicts the rings will vanish in 300 million years. If the thought of Saturn losing its trademark feature is disappointing, consider that there are others out there. Not just Jupiter, Uranus, and Neptune, which have very thin rings of their own, though they pale in comparison to the grandeur of Saturn’s. If there’s one thing that the study of exoplanets—planets beyond our solar system—has taught us, it’s that our planets aren’t special. Buratti is convinced that someday, with telescope technology powerful enough, we’ll make out the curves of the rings around a distant planet, in another solar system. There are other Earths, other Jupiters, other Neptunes, a cornucopia of rocky and gaseous planets coasting through the cosmos. Surely there must be other Saturns, too. \n"
     ]
    }
   ],
   "source": [
    "text = read_file('atlantic/science/15.txt')\n",
    "print(text)"
   ]
  },
  {
   "cell_type": "markdown",
   "metadata": {},
   "source": [
    "Now let us see what the summarized version looks like:"
   ]
  },
  {
   "cell_type": "code",
   "execution_count": 68,
   "metadata": {},
   "outputs": [
    {
     "name": "stdout",
     "output_type": "stream",
     "text": [
      "Text Summary: \n",
      "Estimates of the mass of the rings have varied wildly for decades, starting with the twin Voyager spacecraft, which whizzed by Saturn in the late 1970s and early 1980s on their way through the solar system.You got a combined mass of Saturn plus the rings, and there was really no way to separate it out,” says Linda Spilker, the lead scientist for the Cassini mission, who was not involved in the latest research.A primordial origin story would have been a very convenient one: The young solar system was a chaotic mess of flying debris, and it would have been possible for Saturn to lasso some of it into a lasting orbit.One believed that the ring system formed when Saturn did, 4.6 billion years ago, when the solar system as we know it emerged from swirling clouds of dust left over from the fiery birth of the sun.Buratti is convinced that someday, with telescope technology powerful enough, we’ll make out the curves of the rings around a distant planet, in another solar system.\n"
     ]
    }
   ],
   "source": [
    "print(get_text_summarization('atlantic/science/15.txt'))"
   ]
  },
  {
   "cell_type": "markdown",
   "metadata": {},
   "source": [
    "Let us read another Atlantic article which we had obtained by web scraping"
   ]
  },
  {
   "cell_type": "code",
   "execution_count": 62,
   "metadata": {},
   "outputs": [
    {
     "name": "stdout",
     "output_type": "stream",
     "text": [
      "The Unprecedented Surge in Fear About Climate Change More Americans than ever are worried about climate change, but they’re not willing to pay much to stop it. A surging number of Americans understand that climate change is happening and believe that it could harm their family and the country, according to a new poll from Yale and George Mason University. But at the same time, Americans are not any more willing to pay money to fight climate change than they were three years ago, says another new poll, conducted by the Associated Press and the University of Chicago. The polls suggest that public opinion about climate change is in a state of upheaval. Even as President Donald Trump has cast doubt on climate change, most Americans have rejected his position. Record numbers of Americans describe climate change as a real and present danger. Nearly a quarter of the country says they already see its tidings in their day-to-day life, saying “personal observations of weather” helped convince them of climate change’s reality. Despite this increasing acceptance, there is no clear political path forward. Last year, the Intergovernmental Panel on Climate Change warned that “rapid, far-reaching and unprecedented changes” were needed to keep the Earth’s temperature from rising 1.5 degrees Celsius. Such a transformation would be, in other words, expensive. But almost 70 percent of Americans say they wouldn’t pay $10 every month to help cool the warming planet. The data are still striking, suggesting that U.S. concern about climate change has leapt by several points in just the past year. More than seven out of 10 Americans now say that global warming is “personally important” to them, an increase of nine points since March 2018, according to the Yale poll. More Americans than ever—29 percent—also say they are “very worried” about climate change, an eight-point increase. These changes are basically unprecedented. “We’ve not seen anything like that in the 10 years we’ve been conducting the study,” says Anthony Leiserowitz, a senior research scientist at Yale who helped oversee the poll. It reflects a large shift, as an outright majority of Americans—a record-high number—believe that climate change could endanger their loved ones. Historically, most Americans have said that global warming “will harm people in the United States” while insisting that it would “not harm me, personally.” Now 57 percent of Americans say global warming will harm their neighbors, 56 percent say it will harm their family, and 49 percent say it will harm them personally. These changes show up in both new polls. The AP survey found that seven out of 10 of Americans understand climate change is happening. Even more notable: A slim majority of Republicans—52 percent—understand that climate change is real. (The AP asked questions about “climate change,” while Yale polled about “global warming.” The difference in language didn’t seem to change how people replied.) Climate change itself may be driving this remarkable shift. Nearly half of Americans say that the science supporting climate change is “more convincing” now than it was five years ago, the AP poll found. The vast majority cited “recent extreme weather events”—such as hurricanes, droughts, and heat waves—as especially persuasive. Yet it’s not clear that Americans are willing to do anything about fighting climate change. Many economists support a carbon tax, a policy that makes polluters pay for emitting greenhouse gases into the atmosphere. Forty-four percent of Americans say they would support such a tax, according to the AP. Americans become more supportive of a carbon tax, though, when they know where the money it collects will go. Sixty-seven percent of Americans would support a carbon tax if it were used to restore forests and wetlands. Majorities also endorse a tax that would support renewable-energy R&D or public-transit improvements. But even then, most people are not willing to spend much. Seventy percent say they would vote against a $10 monthly fee tacked on to their power bill. Forty percent would oppose a $1 monthly increase. These results don’t lend themselves to straightforward answers about what actions to take next. Recently, some oil companies and Washington elite have endorsed a deficit-neutral carbon fee, a type of carbon tax that regularly mails revenue collected back to every American as a check. The same proposal would also roll back Environmental Protection Agency rules. The AP poll found Americans were least supportive of this plan: Three out of four said they would oppose a carbon tax that “eases climate-related regulation,” and only half liked the idea of a monthly rebate. Yet the opposite strategy hasn’t worked either. In November, voters in Washington State considered a carbon tax that would have supported forest restoration, wind and solar energy, and public transit—everything that people just told the AP pollsters they like. Oil companies spent $31 million to defeat the measure, and voters rejected it by a 12-point margin. The AP and the University of Chicago did not directly ask people about a Green New Deal, a still-hazy progressive plan to fight climate change while expanding federal programs. “But this [poll] sort of supports the idea that it could be politically popular among voters,” says Sam Ori, the executive director of the Energy Policy Institute at the University of Chicago. So what’s going on here? One possibility is that Americans are slowly, grindingly, coming around to the reality of climate change. But political scientists talk about an idea called “thermostatic opinion.” It holds that U.S. public mood works like a seesaw: When one party occupies the White House, voters immediately start to turn against its favored policies and outlook. Though more of an observation than a law, it helps explain why Americans were more conservative in 2013—just after Barack Obama’s second victory—than they had been in decades. Since Trump is both unpopular and linked to climate denial, isn’t it possible that the public mood will just shift again once he leaves office? Leiserowitz, the Yale scientist, isn’t so sure. Americans are more certain about climate change now than they have been since 2008, he said. But 2008 was a different moment: Both major parties endorsed the reality of climate change, and the Republican candidate in that year’s election, John McCain, even had his own climate plan. So strong cues from both parties’ political elite suggested that it was okay to accept climate change—and public opinion followed. Now the country’s president has vacillated on the reality of climate change, calling it an “expensive hoax,” then revising his view. Climate change “is one of the most politically polarized issues in Americans,” Leiserowitz said. “So the fact that Trump is now a hoaxer in chief and yet these numbers are going up is actually really interesting.” \n"
     ]
    }
   ],
   "source": [
    "text2 = read_file('atlantic/science/7.txt')\n",
    "print(text2)"
   ]
  },
  {
   "cell_type": "markdown",
   "metadata": {},
   "source": [
    "Now let us read the summarized version of the article. Here, I want to read the top 6 sentences in the article."
   ]
  },
  {
   "cell_type": "code",
   "execution_count": 63,
   "metadata": {},
   "outputs": [
    {
     "name": "stdout",
     "output_type": "stream",
     "text": [
      "Text Summary: \n",
      "A surging number of Americans understand that climate change is happening and believe that it could harm their family and the country, according to a new poll from Yale and George Mason University.More Americans than ever—29 percent—also say they are “very worried” about climate change, an eight-point increase.It reflects a large shift, as an outright majority of Americans—a record-high number—believe that climate change could endanger their loved ones.The AP poll found Americans were least supportive of this plan: Three out of four said they would oppose a carbon tax that “eases climate-related regulation,” and only half liked the idea of a monthly rebate.The AP survey found that seven out of 10 of Americans understand climate change is happening.But at the same time, Americans are not any more willing to pay money to fight climate change than they were three years ago, says another new poll, conducted by the Associated Press and the University of Chicago.\n"
     ]
    }
   ],
   "source": [
    "print(get_text_summarization('atlantic/science/7.txt', 6))"
   ]
  },
  {
   "cell_type": "code",
   "execution_count": null,
   "metadata": {},
   "outputs": [],
   "source": []
  }
 ],
 "metadata": {
  "kernelspec": {
   "display_name": "Python 3",
   "language": "python",
   "name": "python3"
  },
  "language_info": {
   "codemirror_mode": {
    "name": "ipython",
    "version": 3
   },
   "file_extension": ".py",
   "mimetype": "text/x-python",
   "name": "python",
   "nbconvert_exporter": "python",
   "pygments_lexer": "ipython3",
   "version": "3.7.0"
  }
 },
 "nbformat": 4,
 "nbformat_minor": 2
}
