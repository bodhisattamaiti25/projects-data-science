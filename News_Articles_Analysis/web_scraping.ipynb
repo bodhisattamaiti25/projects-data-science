{
 "cells": [
  {
   "cell_type": "code",
   "execution_count": 1,
   "metadata": {},
   "outputs": [],
   "source": [
    "from bs4 import BeautifulSoup\n",
    "from urllib import request"
   ]
  },
  {
   "cell_type": "markdown",
   "metadata": {},
   "source": [
    "we are going to scrape the atlantic's website. let us start with the science section of their website"
   ]
  },
  {
   "cell_type": "code",
   "execution_count": 2,
   "metadata": {},
   "outputs": [],
   "source": [
    "base_url_atlantic = 'https://www.theatlantic.com'"
   ]
  },
  {
   "cell_type": "code",
   "execution_count": 3,
   "metadata": {},
   "outputs": [],
   "source": [
    "url_atlantic_science = base_url_atlantic + '/science/'\n",
    "html_res = ''\n",
    "with request.urlopen(url_atlantic_science) as response:\n",
    "   html_res = response.read()"
   ]
  },
  {
   "cell_type": "markdown",
   "metadata": {},
   "source": [
    "Uncomment the print statement to see the prettified version of the html response."
   ]
  },
  {
   "cell_type": "code",
   "execution_count": 4,
   "metadata": {},
   "outputs": [],
   "source": [
    "soup_atlantic_science = BeautifulSoup(html_res, 'html.parser')\n",
    "#print(soup_atlantic_science.prettify())"
   ]
  },
  {
   "cell_type": "code",
   "execution_count": 5,
   "metadata": {},
   "outputs": [],
   "source": [
    "science_hrefs = []"
   ]
  },
  {
   "cell_type": "markdown",
   "metadata": {},
   "source": [
    "Now if we go to the original website, we can see a list of articles related to the science domain, if we want to read an article, we need to click those article links. Our objective here is to extract the content of the listed articles. So, our first step would be to get all the href attributes of the anchor (<a></a>) tags from the parsed html"
   ]
  },
  {
   "cell_type": "code",
   "execution_count": 6,
   "metadata": {},
   "outputs": [
    {
     "data": {
      "text/plain": [
       "[<div class=\"hero\" data-omni-click=\"r'channel',r' ',d,r'hero',r' ',r'581218'\">\n",
       " <a data-omni-click=\"inherit\" href=\"/science/archive/2019/01/neanderthal-spears-threw-pretty-well/581218/\">\n",
       " <figure>\n",
       " <img class=\"lazyload\" data-src=\"https://cdn.theatlantic.com/assets/media/img/mt/2019/01/Javelin_Athlete_Throwing/hero_wide_640.jpg?1548429624\"/>\n",
       " <figcaption>\n",
       "                 Annemieke Milks\n",
       "             </figcaption>\n",
       " </figure>\n",
       " <h2 class=\"hed\">\n",
       "     When Modern Men Throw Ancient Weapons\n",
       "   </h2>\n",
       " </a>\n",
       " <p class=\"dek has-dek\">\n",
       "     Scientists have shown that Neanderthals’ spears weren’t half bad, in capable hands.\n",
       " </p>\n",
       " <ul class=\"metadata\">\n",
       " <li class=\"byline\"><a href=\"/author/ed-yong/\" title=\"Ed Yong\">Ed Yong</a></li>\n",
       " <li class=\"date\">\n",
       " <time datetime=\"2019-01-25\">\n",
       "         \n",
       "             Jan 25, 2019\n",
       "         \n",
       "         </time>\n",
       " </li>\n",
       " </ul>\n",
       " </div>]"
      ]
     },
     "execution_count": 6,
     "metadata": {},
     "output_type": "execute_result"
    }
   ],
   "source": [
    "div_hero = soup_atlantic_science.find_all('div', class_='hero')\n",
    "div_hero"
   ]
  },
  {
   "cell_type": "code",
   "execution_count": 7,
   "metadata": {},
   "outputs": [],
   "source": [
    "science_hrefs.append(div_hero[0].find('a').get('href'))"
   ]
  },
  {
   "cell_type": "code",
   "execution_count": 8,
   "metadata": {},
   "outputs": [
    {
     "name": "stdout",
     "output_type": "stream",
     "text": [
      "/science/archive/2019/01/500-year-long-science-experiment/581155/\n",
      "/science/archive/2019/01/nasa-noaa-shutdown-2018-warmest-climate-record/581221/\n",
      "/science/archive/2019/01/trump-mars-nasa-moon/581023/\n",
      "/science/archive/2019/01/why-whales-seals-and-penguins-thrive-cold/581149/\n",
      "/science/archive/2019/01/hagfish-slime/581002/\n",
      "/science/archive/2019/01/do-most-americans-believe-climate-change-polls-say-yes/580957/\n",
      "/science/archive/2019/01/oumuamua-interstellar-harvard-astrophysicist/580948/\n",
      "/science/archive/2019/01/ocean-cleanup-project-could-destroy-neuston/580693/\n",
      "/science/archive/2019/01/indias-monsoon-powerful-agent-climate-change/579940/\n",
      "/science/archive/2019/01/its-cold-so-trump-is-doubting-climate-change/580885/\n",
      "/science/archive/2019/01/what-its-like-be-allergic-corn/580594/\n",
      "/science/archive/2019/01/same-neurons-may-map-physical-space-and-memories/580357/\n",
      "/science/archive/2019/01/first-fight-about-democrats-climate-green-new-deal/580543/\n",
      "/science/archive/2019/01/saturn-rings-cassini/580696/\n",
      "/science/archive/2019/01/how-lichens-explain-and-re-explain-world/580681/\n",
      "/science/archive/2019/01/sixth-extinction-pop-up-book/580291/\n",
      "/science/archive/2019/01/spacex-shutdown-nasa-commercial-crew/580342/\n",
      "/science/archive/2019/01/north-pole-moving-shutdown/580330/\n",
      "/science/archive/2019/01/young-trans-children-know-who-they-are/580366/\n",
      "/science/archive/2019/01/rcp-85-the-climate-change-disaster-scenario/579700/\n"
     ]
    }
   ],
   "source": [
    "liEls = soup_atlantic_science.find_all('li', class_='article blog-article ')\n",
    "for li in liEls:\n",
    "    print(li.find('a').get('href'))\n",
    "    href = li.find('a').get('href')\n",
    "    science_hrefs.append(href)"
   ]
  },
  {
   "cell_type": "code",
   "execution_count": 9,
   "metadata": {},
   "outputs": [],
   "source": [
    "soup_contents = []\n",
    "for science_href in science_hrefs:\n",
    "    url_science_content = base_url_atlantic + science_href\n",
    "    with request.urlopen(url_science_content) as response:\n",
    "        html_content_res = response.read()\n",
    "        soup_science_content = BeautifulSoup(html_content_res, 'html.parser')\n",
    "        soup_contents.append(soup_science_content)"
   ]
  },
  {
   "cell_type": "markdown",
   "metadata": {},
   "source": [
    "Uncomment the print statement below to see the prettified version of the html document of first article in the list"
   ]
  },
  {
   "cell_type": "code",
   "execution_count": 10,
   "metadata": {},
   "outputs": [],
   "source": [
    "#print(soup_contents[0].prettify())"
   ]
  },
  {
   "cell_type": "markdown",
   "metadata": {},
   "source": [
    "Extract the title of the article"
   ]
  },
  {
   "cell_type": "code",
   "execution_count": 11,
   "metadata": {},
   "outputs": [
    {
     "data": {
      "text/plain": [
       "'When Modern Men Throw Ancient Weapons'"
      ]
     },
     "execution_count": 11,
     "metadata": {},
     "output_type": "execute_result"
    }
   ],
   "source": [
    "soup_contents[0].find('h1', class_='c-article-header__hed').get_text()"
   ]
  },
  {
   "cell_type": "code",
   "execution_count": 12,
   "metadata": {},
   "outputs": [
    {
     "data": {
      "text/plain": [
       "[<p class=\"c-dek\" itemprop=\"description\">Scientists have shown that Neanderthals’ spears weren’t half bad, in capable hands.</p>,\n",
       " <p>On a very cold January morning, in an athletic field in central England, <a data-omni-click=\"r'article',r'',d,r'intext',r'0',r'None'\" href=\"https://twitter.com/AnnemiekeMilks?ref_src=twsrc%5Egoogle%7Ctwcamp%5Eserp%7Ctwgr%5Eauthor\">Annemieke Milks</a> watched as six javelin-throwers <a data-omni-click=\"r'article',r'',d,r'intext',r'1',r'None'\" href=\"http://dx.doi.org/10.1038/s41598-018-37904-w\">hurled a pair of wooden spears</a>. Their target was a hay bale, “meant to approximate the kill zone of a large animal, like a horse,” says Milks, an archaeologist at University College London. And their spears were replicas of the oldest complete hunting weapons ever found—a set of 300,000-year-old, six-and-a-half-foot sticks found in a mine at Schöningen, Germany.</p>,\n",
       " <p>The athletes managed to throw their replicas over distances of 65 feet. That’s a far cry from modern javelin feats—the world record for men, set in 1996, is 323.1 feet. But it’s twice what many scientists thought that primitive spears were capable of. It suggests that, contrary to popular belief, early spear-makers—Neanderthals, or perhaps other ancient species like <em>Homo heidelbergensis</em>—could probably have hunted their prey from afar.  </p>,\n",
       " <p>“This experiment convincingly shows that in the hands of skilled users, spears are capable of killing at greater distances than previously thought,” says <a data-omni-click=\"r'article',r'',d,r'intext',r'2',r'None'\" href=\"http://www.archaeology.uct.ac.za/age/faculty-and-staff/jayne-wilkins\">Jayne Wilkins</a>, an archaeologist at the University of Cape Town. “This matters because it challenges a long-held idea” about the evolution of human weaponry.  </p>,\n",
       " <p>It’s abundantly clear that Neanderthals and other early hominins were capable hunters who made and used spears. But many researchers have argued that such weapons were too heavy and clunky to be thrown quickly or accurately, and could only be thrust into prey from close range. “The general consensus has been that they were limited to ranges of 10 meters,” or about 32 feet, Milks says.</p>,\n",
       " <p>According to this view, long-distance kills became possible only when modern humans invented specialized tools like spear-throwers, <a data-omni-click=\"r'article',r'',d,r'intext',r'3',r'None'\" href=\"http://waa.basketmakeratlatl.com/?page_id=177\">atlatls</a>, or bows. Those superior weapons gave their bearers—our ancestors—an advantage over other hominin species, allowing them to safely bring down dangerous game that Neanderthals were forced to engage at close quarters. Perhaps <a data-omni-click=\"r'article',r'',d,r'intext',r'4',r'None'\" href=\"http://www.nbcnews.com/id/28663444/ns/technology_and_science-science/t/neanderthals-lacked-projectile-weapons/#.XEiVglxKjIU\">that partly explains why the latter went extinct</a>, while modern humans thrived.</p>,\n",
       " <p class=\"c-recirculation-link\" data-id=\"injected-recirculation-link\" id=\"injected-recirculation-link-0\"><a data-omni-click=\"r'article',r'',d,r'intext',r'5',r'None'\" href=\"https://www.theatlantic.com/science/archive/2018/07/neanderthals-fire-mystery/565514/\">Read: The mystery of how Neanderthals got fire</a></p>,\n",
       " <p>But to Milks, this narrative always had a glaring problem. “We don’t have good data on how hand-delivered spears performed, so we can’t make a valid comparison,” she says. “The 10-meter distance was repeated over and over again, but not backed up with much evidence.” It came from an influential ethnographic review that considered the spear-throwing skills of many modern populations, but didn’t include adept groups such as the Tasmanian and Tiwi peoples of Australia. And it was bolstered by studies and anecdotal reports in which spears were thrown by anthropologists—hardly a decent stand-in for a skilled Neanderthal hunter.</p>,\n",
       " <p>For example, <a data-omni-click=\"r'article',r'',d,r'intext',r'6',r'None'\" href=\"https://www.stonybrook.edu/experts/profile.php?name=john-shea\">John Shea</a>, an archaeologist at Stony Brook University, told me that he regularly takes his students into an athletic field and asks them to throw replica Schöningen spears at him. “If they hit me, I pledge to give them $20,” he said. “I’ve been doing this ‘experiment’ for 25 years, and I’ve neither got so much as a scratch on me nor parted with any cash. The spears come sailing in so low and slow I can usually just step sideways out of the way, bat them away with a stick, or if I am feeling really cocky, catch them in midair.”</p>,\n",
       " <p>A German sport scientist and javelin-thrower named Hermann Rieder had more success: In a small study, he managed to hit targets from around 16 feet away and suggested that the spears were useful weapons at longer distances. (A <a data-omni-click=\"r'article',r'',d,r'intext',r'7',r'None'\" href=\"https://en.wikipedia.org/wiki/Sch%C3%B6ningen_spears\">Wikipedia entry</a> that cites his study and claims that “athletes could throw replicas up to 70 meters” is almost certainly wrong.)</p>,\n",
       " <p>To get more thorough data, Milks asked Owen O’Donnell, an expert in reconstructing ancient technology, to create the best possible replicas. He made two from spruce—the same wood as in the Schöningen spears. He built them to the same weight—1.67 and 1.76 pounds, respectively. And he finished them with stone tools to give them an authentic texture.</p>,\n",
       " <p>“I’ve been asked a lot if I threw in my own experiments,” Milks says. “But that wouldn’t tell us anything, other than that I’m a bad thrower.” Instead, she gave the spears to six trained javelin-throwers, whom she filmed with high-speed cameras. The participants hurled the spears both far and fast. It’s sometimes said that heavy spears would slow mid-flight and hit their targets with dull thuds. But Milks found that the replicas slowed very little, and landed with a kinetic wallop comparable to projectiles launched by bows or spear-throwing tools.</p>,\n",
       " <p class=\"c-recirculation-link\" data-id=\"injected-recirculation-link\" id=\"injected-recirculation-link-1\"><a data-omni-click=\"r'article',r'',d,r'intext',r'8',r'None'\" href=\"https://www.theatlantic.com/technology/archive/2012/03/todays-high-tech-archery-isnt-much-like-the-hunger-games-version/255041/\">Read: Today’s high-tech archery isn’t much like the Hunger Games version</a></p>,\n",
       " <p>But <a data-omni-click=\"r'article',r'',d,r'intext',r'9',r'None'\" href=\"https://evolutionaryanthropology.duke.edu/people/steven-e-churchill\">Steve Churchill</a>, an anthropologist from Duke University, notes that the javelin-throwers only hit their target a quarter of the time, and less so at the farthest distances. He’s also unclear as to how many of those “hits” would have been strong enough to, say, penetrate an animal’s hide. In his own experience (and he freely admits that he’s not a trained thrower), Schöningen replicas wobble a lot and tend to strike targets at glancing angles. They might fly far, in other words, but do they fly <em>true</em>? “This is a very good study,” he says, but “I don’t see a lot here to convince me that the Schöningen spears were effective long-range weapons.”</p>,\n",
       " <p>Milks counters that professional javelin-throwers go for distance, and aren’t trained to hit targets. Despite that, some of them clearly got the sense that the heavy spears behave unusually, vibrating along their axis and flexing on impact. The more experienced athletes compensated for this by putting spin on the spears. “That brought home how important it is to use skilled throwers,” Milks says. “What I really want to do now is to go to hunter-forager groups and have <em>them</em> show us what these spears are capable of. They use spears from age 6, which is something I can’t replicate with javelin athletes.”</p>,\n",
       " <p>“There’s also a hypothesis that these spears required a lot of training, and a big robust body to use them properly,” she adds. Spear-throwers and bows may have given their users an edge not because they launched projectiles farther or faster, but because they could be picked up more easily, by more members of a group. As technology, they weren’t inherently superior, just more user-friendly. “That’s an idea that’s worth going forward with,” Milks says.  </p>,\n",
       " <p class=\"c-recirculation-link\" data-id=\"injected-recirculation-link\" id=\"injected-recirculation-link-2\"><a data-omni-click=\"r'article',r'',d,r'intext',r'10',r'None'\" href=\"https://www.theatlantic.com/science/archive/2018/03/ancient-dna-history/554798/\">Read: Ancient DNA is rewriting human (and Neanderthal) history</a></p>,\n",
       " <p>This isn’t to say that Neanderthals would have <em>always </em>thrown their spears. Last year, the archaeologist Sabine Gaudzinski-Windheuser analyzed Neanderthal-inflicted wounds on the fossil remains of two deer; <a data-omni-click=\"r'article',r'',d,r'intext',r'11',r'None'\" href=\"https://arstechnica.com/science/2018/06/archaeologists-armed-with-spears-demonstrate-how-neanderthals-hunted/\">after a whirlwind forensic analysis</a>, she concluded that the animals were killed by spears thrust from below, not thrown from above. Neanderthals, she told me, hunted cattle in their prime, hibernating cave bears, and entire herds of horses or reindeer. “That these very different prey species, living in very different environments, necessitated very high flexibility in hunting tactics is a given,” she said.</p>,\n",
       " <p>Indeed, the Schöningen finds attest to that flexibility. Some spears could have been thrown, but others had kinks in them and were tapered only at one end. “That wasn’t a throwing spear,” Milks says. “It looks like [Neanderthals] had a collection of different technology at that site.”</p>,\n",
       " <p>The weapons are only half the story, too. There’s also the matter of their wielders, and some researchers have argued that Neanderthals were anatomically incapable of a strong throw. Milks believes that the “evidence for that is quite weak,” although she admits that her study of human javelin-throwers says nothing about the throwing arm of Neanderthals.</p>,\n",
       " <p>Despite that, experiments like hers are very welcome, says <a data-omni-click=\"r'article',r'',d,r'intext',r'12',r'None'\" href=\"https://uni-tuebingen.de/fakultaeten/mathematisch-naturwissenschaftliche-fakultaet/fachbereiche/geowissenschaften/arbeitsgruppen-kontakte/urgeschichte-naturwissenschaftliche-archaeologie/forschungsbereich/palaeoanthropologie/mitarbeiter/harvati-papatheodorou-katerina/\">Katerina Harvati</a> of the University of Tubingen. “It is really essential to understanding the behavior of Neanderthals and other Pleistocene ancestors, and to accurately interpreting archaeological findings such as the extremely rare spears from Schöningen. This study goes a long way to clarifying how those spears may have been used.”</p>,\n",
       " <p>Last year, Harvati and her colleagues busted another common misperception <a data-omni-click=\"r'article',r'',d,r'intext',r'13',r'None'\" href=\"https://www.theatlantic.com/science/archive/2018/11/myth-traumatized-neanderthal/575776/\">about Neanderthals</a>: that they were especially prone to traumatic head injuries, perhaps because of their proclivity for close-range hunts. In fact, they were no more likely to get bonked on the head than contemporaneous humans. “Studies like these,” Jayne Wilkins says, “add to a mounting body of evidence against the old-fashioned idea that Neanderthals had only subhuman capacities, employed ineffective technologies, and were continuously struggling for survival.”</p>,\n",
       " <p class=\"c-letters-cta__text\">We want to hear what you think about this article. <a class=\"c-letters-cta__link\" href=\"https://www.theatlantic.com/contact/letters/\">Submit a letter</a> to the editor or write to letters@theatlantic.com.</p>,\n",
       " <p class=\"c-footer__copyright\">TheAtlantic.com Copyright (c) 2019 by The Atlantic Monthly Group. All Rights Reserved.</p>,\n",
       " <p class=\"c-footer__logo\"><a class=\"c-logo\" href=\"/\"><span class=\"u-element-invisible c-logo__name\">The Atlantic</span> <svg class=\"o-icon\" viewbox=\"0 0 256 84\"><use xlink:href=\"#icon-logo-atl\"></use></svg></a></p>]"
      ]
     },
     "execution_count": 12,
     "metadata": {},
     "output_type": "execute_result"
    }
   ],
   "source": [
    "soup_contents[0].find_all('p')"
   ]
  },
  {
   "cell_type": "code",
   "execution_count": 13,
   "metadata": {},
   "outputs": [
    {
     "name": "stdout",
     "output_type": "stream",
     "text": [
      "Scientists have shown that Neanderthals’ spears weren’t half bad, in capable hands.\n",
      "\n",
      "\n",
      "On a very cold January morning, in an athletic field in central England, Annemieke Milks watched as six javelin-throwers hurled a pair of wooden spears. Their target was a hay bale, “meant to approximate the kill zone of a large animal, like a horse,” says Milks, an archaeologist at University College London. And their spears were replicas of the oldest complete hunting weapons ever found—a set of 300,000-year-old, six-and-a-half-foot sticks found in a mine at Schöningen, Germany.\n",
      "\n",
      "\n",
      "The athletes managed to throw their replicas over distances of 65 feet. That’s a far cry from modern javelin feats—the world record for men, set in 1996, is 323.1 feet. But it’s twice what many scientists thought that primitive spears were capable of. It suggests that, contrary to popular belief, early spear-makers—Neanderthals, or perhaps other ancient species like Homo heidelbergensis—could probably have hunted their prey from afar.  \n",
      "\n",
      "\n",
      "“This experiment convincingly shows that in the hands of skilled users, spears are capable of killing at greater distances than previously thought,” says Jayne Wilkins, an archaeologist at the University of Cape Town. “This matters because it challenges a long-held idea” about the evolution of human weaponry.  \n",
      "\n",
      "\n",
      "It’s abundantly clear that Neanderthals and other early hominins were capable hunters who made and used spears. But many researchers have argued that such weapons were too heavy and clunky to be thrown quickly or accurately, and could only be thrust into prey from close range. “The general consensus has been that they were limited to ranges of 10 meters,” or about 32 feet, Milks says.\n",
      "\n",
      "\n",
      "According to this view, long-distance kills became possible only when modern humans invented specialized tools like spear-throwers, atlatls, or bows. Those superior weapons gave their bearers—our ancestors—an advantage over other hominin species, allowing them to safely bring down dangerous game that Neanderthals were forced to engage at close quarters. Perhaps that partly explains why the latter went extinct, while modern humans thrived.\n",
      "\n",
      "\n",
      "But to Milks, this narrative always had a glaring problem. “We don’t have good data on how hand-delivered spears performed, so we can’t make a valid comparison,” she says. “The 10-meter distance was repeated over and over again, but not backed up with much evidence.” It came from an influential ethnographic review that considered the spear-throwing skills of many modern populations, but didn’t include adept groups such as the Tasmanian and Tiwi peoples of Australia. And it was bolstered by studies and anecdotal reports in which spears were thrown by anthropologists—hardly a decent stand-in for a skilled Neanderthal hunter.\n",
      "\n",
      "\n",
      "For example, John Shea, an archaeologist at Stony Brook University, told me that he regularly takes his students into an athletic field and asks them to throw replica Schöningen spears at him. “If they hit me, I pledge to give them $20,” he said. “I’ve been doing this ‘experiment’ for 25 years, and I’ve neither got so much as a scratch on me nor parted with any cash. The spears come sailing in so low and slow I can usually just step sideways out of the way, bat them away with a stick, or if I am feeling really cocky, catch them in midair.”\n",
      "\n",
      "\n",
      "A German sport scientist and javelin-thrower named Hermann Rieder had more success: In a small study, he managed to hit targets from around 16 feet away and suggested that the spears were useful weapons at longer distances. (A Wikipedia entry that cites his study and claims that “athletes could throw replicas up to 70 meters” is almost certainly wrong.)\n",
      "\n",
      "\n",
      "To get more thorough data, Milks asked Owen O’Donnell, an expert in reconstructing ancient technology, to create the best possible replicas. He made two from spruce—the same wood as in the Schöningen spears. He built them to the same weight—1.67 and 1.76 pounds, respectively. And he finished them with stone tools to give them an authentic texture.\n",
      "\n",
      "\n",
      "“I’ve been asked a lot if I threw in my own experiments,” Milks says. “But that wouldn’t tell us anything, other than that I’m a bad thrower.” Instead, she gave the spears to six trained javelin-throwers, whom she filmed with high-speed cameras. The participants hurled the spears both far and fast. It’s sometimes said that heavy spears would slow mid-flight and hit their targets with dull thuds. But Milks found that the replicas slowed very little, and landed with a kinetic wallop comparable to projectiles launched by bows or spear-throwing tools.\n",
      "\n",
      "\n",
      "But Steve Churchill, an anthropologist from Duke University, notes that the javelin-throwers only hit their target a quarter of the time, and less so at the farthest distances. He’s also unclear as to how many of those “hits” would have been strong enough to, say, penetrate an animal’s hide. In his own experience (and he freely admits that he’s not a trained thrower), Schöningen replicas wobble a lot and tend to strike targets at glancing angles. They might fly far, in other words, but do they fly true? “This is a very good study,” he says, but “I don’t see a lot here to convince me that the Schöningen spears were effective long-range weapons.”\n",
      "\n",
      "\n",
      "Milks counters that professional javelin-throwers go for distance, and aren’t trained to hit targets. Despite that, some of them clearly got the sense that the heavy spears behave unusually, vibrating along their axis and flexing on impact. The more experienced athletes compensated for this by putting spin on the spears. “That brought home how important it is to use skilled throwers,” Milks says. “What I really want to do now is to go to hunter-forager groups and have them show us what these spears are capable of. They use spears from age 6, which is something I can’t replicate with javelin athletes.”\n",
      "\n",
      "\n",
      "“There’s also a hypothesis that these spears required a lot of training, and a big robust body to use them properly,” she adds. Spear-throwers and bows may have given their users an edge not because they launched projectiles farther or faster, but because they could be picked up more easily, by more members of a group. As technology, they weren’t inherently superior, just more user-friendly. “That’s an idea that’s worth going forward with,” Milks says.  \n",
      "\n",
      "\n",
      "This isn’t to say that Neanderthals would have always thrown their spears. Last year, the archaeologist Sabine Gaudzinski-Windheuser analyzed Neanderthal-inflicted wounds on the fossil remains of two deer; after a whirlwind forensic analysis, she concluded that the animals were killed by spears thrust from below, not thrown from above. Neanderthals, she told me, hunted cattle in their prime, hibernating cave bears, and entire herds of horses or reindeer. “That these very different prey species, living in very different environments, necessitated very high flexibility in hunting tactics is a given,” she said.\n",
      "\n",
      "\n",
      "Indeed, the Schöningen finds attest to that flexibility. Some spears could have been thrown, but others had kinks in them and were tapered only at one end. “That wasn’t a throwing spear,” Milks says. “It looks like [Neanderthals] had a collection of different technology at that site.”\n",
      "\n",
      "\n",
      "The weapons are only half the story, too. There’s also the matter of their wielders, and some researchers have argued that Neanderthals were anatomically incapable of a strong throw. Milks believes that the “evidence for that is quite weak,” although she admits that her study of human javelin-throwers says nothing about the throwing arm of Neanderthals.\n",
      "\n",
      "\n",
      "Despite that, experiments like hers are very welcome, says Katerina Harvati of the University of Tubingen. “It is really essential to understanding the behavior of Neanderthals and other Pleistocene ancestors, and to accurately interpreting archaeological findings such as the extremely rare spears from Schöningen. This study goes a long way to clarifying how those spears may have been used.”\n",
      "\n",
      "\n",
      "Last year, Harvati and her colleagues busted another common misperception about Neanderthals: that they were especially prone to traumatic head injuries, perhaps because of their proclivity for close-range hunts. In fact, they were no more likely to get bonked on the head than contemporaneous humans. “Studies like these,” Jayne Wilkins says, “add to a mounting body of evidence against the old-fashioned idea that Neanderthals had only subhuman capacities, employed ineffective technologies, and were continuously struggling for survival.”\n",
      "\n",
      "\n"
     ]
    }
   ],
   "source": [
    "pEls = soup_contents[0].find_all('p')\n",
    "#some paragraph elements contain content that are not relevant to the actual content, so we can skip these paragraph elements\n",
    "filter_pClasses = ['c-recirculation-link', 'c-letters-cta__text', 'c-footer__copyright', 'c-footer__logo']\n",
    "for pEl in pEls:\n",
    "    pClass = pEl.get('class')\n",
    "    if pClass is None or pClass[0] not in filter_pClasses:\n",
    "        print(pEl.get_text())\n",
    "        print('\\n')"
   ]
  },
  {
   "cell_type": "code",
   "execution_count": 15,
   "metadata": {},
   "outputs": [],
   "source": [
    "import os"
   ]
  },
  {
   "cell_type": "markdown",
   "metadata": {},
   "source": [
    "Now we would like to save the content of these articles which can be later used for different text analytics"
   ]
  },
  {
   "cell_type": "code",
   "execution_count": 16,
   "metadata": {},
   "outputs": [],
   "source": [
    "directory = 'atlantic/science/'\n",
    "if not os.path.exists(directory):\n",
    "    os.makedirs(directory)"
   ]
  },
  {
   "cell_type": "code",
   "execution_count": 17,
   "metadata": {},
   "outputs": [],
   "source": [
    "for idx, content in enumerate(soup_contents):\n",
    "    paraEls = content.find_all('p')\n",
    "    article_title = content.find('h1', class_='c-article-header__hed').get_text()\n",
    "    fileName = str(idx+1) + '.txt'\n",
    "    with open(directory + fileName, \"w\") as file:\n",
    "        file.write(article_title+'\\n')\n",
    "        for pEl in paraEls:\n",
    "            pClass = pEl.get('class')\n",
    "            if pClass is None or pClass[0] not in filter_pClasses:\n",
    "                file.write(pEl.get_text()+'\\n')"
   ]
  },
  {
   "cell_type": "markdown",
   "metadata": {},
   "source": [
    "Now let us read some files at random which we have created and saved."
   ]
  },
  {
   "cell_type": "code",
   "execution_count": 18,
   "metadata": {},
   "outputs": [
    {
     "name": "stdout",
     "output_type": "stream",
     "text": [
      "Current Article\n",
      "\n",
      "The 500-Year-Long Science Experiment\n",
      "In 2014, microbiologists began a study that they hope will continue long after they’re dead.\n",
      "In the year 2514, some future scientist will arrive at the University of Edinburgh (assuming the university still exists), open a wooden box (assuming the box has not been lost), and break apart a set of glass vials in order to grow the 500-year-old dried bacteria inside. This all assumes the entire experiment has not been forgotten, the instructions have not been garbled, and science—or some version of it—still exists in 2514.\n",
      "By then, the scientists who dreamed up this 500-year experiment—Ralf Möller, a microbiologist at the German Aerospace Center, and his U.K. and American collaborators—will be long dead. They’ll never know the answers to the questions that intrigued them back in 2014, about the longevity of bacteria. Möller’s collaborator at the University of Edinburgh, Charles Cockell, once forgot about a dried petri dish of Chroococcidiopsis for 10 years, only to find the cells were still viable. Scientists have revived bacteria from 118-year-old cans of meat and, more controversially, from amber and salt crystals millions of years old.\n",
      "All this suggests, says Möller, that “life on our planet is not limited by human standards.” Understanding what that means requires work that goes well beyond the human life span.\n",
      "Physically, the 500-year experiment consists of 800 simple glass vials containing either Chroococcidiopsis or another bacterium, Bacillus subtilis. The glass vials have been hermetically sealed with a flame. Half are shielded with lead, to protect them from the radiation of radon or cosmic rays, which can cause DNA damage. (A duplicate set of the vials sits in the Natural History Museum in London for backup.) Every other year for the first 24 years, and then every quarter century for the next 475, scientists are supposed to come test the dried bacteria for viability and DNA damage. The first set of data from the experiment was published last month.\n",
      "[ Read: The quest to kill the superbug that can survive in outer space ]\n",
      "Opening vials, adding water, and counting colonies that grow from rehydrated bacteria is easy. The hard part is ensuring someone will continue doing this on schedule well into the future. The team left a USB stick with instructions, which Möller realizes is far from adequate, given how quickly digital technology becomes obsolete. They also left a hard copy, on paper. “But think about 500-year-old paper,” he says, how it would yellow and crumble. “Should we carve it in stone? Do we have to carve it in a metal plate?” But what if someone who cannot read the writing comes along and decides to take the metal plate as a cool, shiny relic, as tomb raiders once did when looting ancient tombs?\n",
      "No strategy is likely to be completely foolproof 500 years later. So the team asks that researchers at each 25-year time point copy the instructions so that they remain linguistically and technologically up to date.\n",
      "Möller and his colleagues are among the most ambitious scientists to plan a long-term experiment, but there have been others. In 1927, a physicist named Thomas Parnell poured tar pitch into a funnel and waited for the highly viscous substance to slowly drip down. When Parnell died, custodianship of the pitch-drop experiment passed along a chain of physicists, who dutifully recorded each drop. The last one fell in April 2014, and the experiment can last as long as there is more pitch in the funnel.\n",
      "[ Read: ‘The pitch dropped’ ]\n",
      "Plant biology has several long-term studies, too. At a fertilizer magnate’s country estate in England, scientists have been studying how different fertilizers affect the particular crops grown in the same fields year after year since 1843. In Illinois, agricultural scientists have been carrying out a corn-breeding study since 1896. And at Michigan State University, a botanist in 1879 buried 20 glass bottles of 50 seeds to be dug up at regular intervals and tested for viability. The location of the bottles is kept secret to prevent tampering. The last bottle will be dug up in 2020.\n",
      "Michigan State University also houses an E. coli experiment that could run for centuries. Since February 1988, the lab of the microbiologist Richard Lenski has been watching how E. coli acquire mutations and evolve over the generations. They’re currently on generation 70,500. Because E. coli replicates so quickly, it’s like watching evolution on hyper-speed.\n",
      "Despite the time-warping nature of this experiment, Lenski didn’t start out thinking about the far-off future. He thought the experiment would run a few years, and at one point, when he felt he had gleaned as much as he could, he considered shuttering it. “But whenever I mentioned to people I might end the experiment,” he recalls, “they said, ‘You can’t.’ That made me realize people were appreciating it for its longevity and for the potential of surprises.” And in 2003, his lab made one of its most surprising findings yet. The E. coli suddenly evolved the ability to eat a molecule called citrate. By looking at previous generations that his lab had frozen and archived, Lenski’s graduate student was able to reconstruct the series of mutations that gradually led to what had looked like a quick switch.\n",
      "Every day someone in Lenski’s lab transfers the E. coli into a new flask, using the same type of glassware and the same growth media they’ve been using for 30 years. Like the bacteria, the techniques for studying them have evolved—scientists can now sequence E. coli’s entire genome, for instance—and they will keep changing. Lenski has identified a scientist he will bequeath the experiment to when he retires.\n",
      "“Of course, for an experiment to go on like this, I’m assuming that science still looks somewhat like today, in the sense that universities will exist, there will be professors with labs, and so on,” says Lenski. “Yet if one looks not so far into the past, that isn’t how science was done.” Just a few hundred years ago, money for scientific research came largely from wealthy patrons, not government agencies.\n",
      "A centuries-long experiment needs a long-term financial plan, too, and Lenski has been looking for a wealthy patron of his own. His experiment has enjoyed government funding, but he knows it’s unreliable, especially if public support for science erodes. Ideally, he’d like to create an endowment, and he’s done the math: A $2.5 million endowment would provide returns of about $100,000 a year, which should cover the costs of materials and the salary of a technician to work on the experiment every day. “So any shout-out for a big donor would be much appreciated,” he wrote at the end of an email to me.\n",
      "Möller’s 500-year-long microbiology experiment is far cheaper and less involved, as it requires only a researcher to work on it once every 25 years. But it does require people to remember, to value science as an endeavor, and to have the resources to carry it out. Because the experiment began in 2014—before certain world events made everyone realize a collaboration among the U.K., Germany, and the United States perhaps should not be taken for granted—I mentioned to Möller that even planning for a 500-year experiment seems to require a certain optimism about the stability of our current world.\n",
      "Imagine, he said, the first human who set out exploring: “What is behind the next hill? What is behind the next river? What is behind the next ocean? Our curiosity is always optimistic.” To continue venturing into the unknown is to be continually optimistic.\n",
      "\n",
      "==========================================================================================================\n",
      "\n",
      "Current Article\n",
      "\n",
      "No One Is Prepared for Hagfish Slime\n",
      "It expands by 10,000 times in a fraction of a second, it’s 100,000 times softer than Jell-O, and it fends off sharks and Priuses alike.\n",
      "At first glance, the hagfish—a sinuous, tubular animal with pink-grey skin and a paddle-shaped tail—looks very much like an eel. Naturalists can tell the two apart because hagfish, unlike other fish, lack backbones (and, also, jaws). For everyone else, there’s an even easier method. “Look at the hand holding the fish,” the marine biologist Andrew Thaler once noted. “Is it completely covered in slime? Then, it’s a hagfish.”\n",
      "Hagfish produce slime the way humans produce opinions—readily, swiftly, defensively, and prodigiously. They slime when attacked or simply when stressed. On July 14, 2017, a truck full of hagfish overturned on an Oregon highway. The animals were destined for South Korea, where they are eaten as a delicacy, but instead, they were strewn across a stretch of Highway 101, covering the road (and at least one unfortunate car) in slime.\n",
      "Typically, a hagfish will release less than a teaspoon of gunk from the 100 or so slime glands that line its flanks. And in less than half a second, that little amount will expand by 10,000 times—enough to fill a sizable bucket. Reach in, and every move of your hand will drag the water with it. “It doesn’t feel like much at first, as if a spider has built a web underwater,” says Douglas Fudge of Chapman University. But try to lift your hand out, and it’s as if the bucket’s contents are now attached to you.\n",
      "The slime looks revolting, but it’s also one of nature’s more wondrous substances, unlike anything else that’s been concocted by either evolution or engineers. Fudge, who has been studying its properties for two decades, says that when people first touch it, they are invariably surprised. “It looks like a bunch of mucus that someone just sneezed out of their nose,” he says. “That’s not at all what it’s like.”\n",
      "For a start, it’s not sticky. If there wasn’t so damn much of it, you’d be able to wipe it off your skin with ease. The hagfish themselves scrape the slime off their skin by tying a knot in their bodies and sliding it from head to tail.\n",
      "The slime also “has a very strange sensation of not quite being there,” says Fudge. It consists of two main components—mucus and protein threads. The threads spread out and entangle one another, creating a fast-expanding net that traps both mucus and water. Astonishingly, to create a liter of slime, a hagfish has to release only 40 milligrams of mucus and protein—1,000 times less dry material than human saliva contains. That’s why the slime, though strong and elastic enough to coat a hand, feels so incorporeal.\n",
      "Indeed, it’s one of the softest materials ever measured. “Jell-O is between 10,000 and 100,000 times stiffer than hagfish slime,” says Randy Ewoldt from the University of Illinois at Urbana-Champaign, who had to invent new methods for assessing the substance’s properties after conventional instruments failed to cope with its nature. “When you see it in a bucket, it almost still looks like water. Only when you stick your hand in and pick it up do you find that it’s a coherent thing.”\n",
      "The proteins threads that give the slime cohesion are incredible in their own right. Each is one-100th the width of a human hair, but can stretch for four to six inches. And within the slime glands, each thread is coiled like a ball of yarn within its own tiny cell—a feat akin to stuffing a kilometer of Christmas lights into a shoebox without a single knot or tangle. No one knows how the hagfish achieves this miracle of packaging, but Fudge just got a grant to test one idea. He thinks that the thread cells use their nuclei—the DNA-containing structures at their core—like a spindle, turning them to wind the growing protein threads into a single continuous loop.\n",
      "Once these cells are expelled from the slime glands, they rupture, releasing the threads within them. Ewoldt’s colleague Gaurav Chaudhury found that despite their length, the threads can fully unspool in a fraction of a second. The pull of flowing water is enough to unwind them. But the process is even quicker if the loose end snags on a surface, like another thread, or a predator’s mouth.  \n",
      "Being extremely soft, the slime is very good at filling crevices, and scientists had long assumed that hagfish use it to clog the gills of would-be predators. That hypothesis was only confirmed in 2011, when Vincent Zintzen from the Museum of New Zealand Te Papa Tongarewa finally captured footage of hagfish sliming conger eels, wreckfish, and more. Even a shark was forced to retreat, visibly gagging on the cloud of slime in its jaws.\n",
      "“We were blown away by those videos,” Fudge says, “but when we really looked carefully, we noticed that the slime is released after the hagfish is bitten.” So how does the animal survive that initial attack? His colleague Sarah Boggett showed that the answer lies in their skin. It’s exceptionally loose, and attaches to the rest of the body at only a few places. It’s also very flaccid: You could inject a hagfish with an extra 40 percent of its body volume without stretching the skin. The animal is effectively wearing a set of extremely loose pajamas, Fudge says. If a shark bites down, “the body sort of squishes out of the way.”\n",
      "That ability makes hagfish not only hard to bite, but also hard to defend against. Calli Freedman, another member of Fudge’s team, showed that these animals can wriggle through slits less than half the width of their bodies. In the wild, they use that ability to great effect. They can hunt live fish by pulling them out of sandy burrows. And if disturbed by predators, they can dive into the nearest nook they find. Perhaps that’s why, in 2013, the Italian researcher Daniela Silvia Pace spotted a bottlenose dolphin with a hagfish stuck in its blowhole.\n",
      "More commonly, these creatures burrow into dead or dying animals, in search of flesh to scavenge. They can’t bite; instead, they rasp away at carcasses with a plate of toothy cartilage in their mouths. The same traveling knots they use to de-slime themselves also help them eat. They grab into a cadaver, then move a knot from tail to head, using the leverage to yank out mouthfuls of meat. They can also eat by simply sitting inside a corpse, and absorbing nutrients directly through their skin and gills. The entire hagfish is effectively a large gut, and even that is understating matters: Their skin is actually more efficient at absorbing nutrients than their own intestines.\n",
      "Hagfish are so thoroughly odd that biologists have struggled to clearly work out how they’re related to other fish, and to the other backboned vertebrates. Based on their simple anatomy, many researchers billed the creatures as primitive precursors to vertebrates—an intermediate form that existed before the evolution of jaws and spinal columns.\n",
      "But a new fossil called Tethymyxine complicates that story. Hailing from a Lebanese quarry, and purchased by researchers at a fossil show in Tucson, Arizona, the Cretaceous-age creature is clearly a hagfish. It has a raspy cartilage plate in its mouth, slime glands dotting its flanks, and even chemicals within those glands that match the composition of modern slime. By comparing Tethymyxine to other hagfish, Tetsuto Miyashita from the University of Chicago concluded that these creatures (along with another group of jawless fish, the lampreys) are not precursors to vertebrates, but actual vertebrates themselves.\n",
      "Such work is always contentious, but it fits with the results of genetic studies. If it’s right, then hagfish aren’t primitive evolutionary throwbacks at all. Instead, they represent a lineage of vertebrates that diverged from all the others about 550 million years ago, and lost several traits such as complex eyes, taste buds, scales, and perhaps even bones. Maybe those losses were adaptations to a life spent infiltrating carcasses in the dark, deep ocean, much like their flaccid, nutrient-absorbing skins are. “Hagfishes might look primitive; they’re actually very specialized,” Miyashita adds.\n",
      "Their signature slime might have also evolved as a result of that lifestyle, as a way of fending off predators that were competing for cadavers. “Everything about hagfish is weird,” says Fudge, “but it all kind of fits.”  \n",
      "\n",
      "==========================================================================================================\n",
      "\n",
      "Current Article\n",
      "\n",
      "What Life Is Like When Corn Is off the Table\n",
      "Corn lurks in so many surprising places, from table salt to apples to IV bags.\n",
      "When Christine Robinson was first diagnosed with a corn allergy 17 years ago, she remembers thinking, “No more popcorn, no more tacos. I can do this.”\n",
      "Then she tried to put salt on her tomatoes. (Table salt has dextrose, a sugar derived from corn.) She tried drinking bottled iced tea. (It contains citric acid, which often comes from mold grown in corn-derived sugar.) She tried bottled water. (Added minerals in some brands can be processed with a corn derivative.) She ultimately gave up on supermarket meat (sprayed with lactic acid from fermented corn sugars), bagged salads (citric acid, again), fish (dipped in cornstarch or syrup before freezing), grains (cross-contaminated in processing facilities), fruits like apples and citrus (waxed with corn-derived chemicals), tomatoes (ripened with ethylene gas from corn), milk (added vitamins processed with corn derivatives). And that’s not even getting to all the processed foods made with high-fructose corn syrup, modified food starch, xanthan gum, artificial flavorings, corn alcohol, maltodextrin—all of which are or contain derivatives of corn.\n",
      "“It’s such a useful plant,” Robinson says of corn. “It can be made into so very, very many things that are, from my perspective, trying to kill me.”\n",
      "[ Read: The ancient origins of dieting]\n",
      "Corn allergies are relatively rare, and ones as severe as Robinson’s are rarer still. (Many people unable to eat whole corn can still tolerate more processed corn derivatives.) But to live with a corn allergy is to understand very intimately how corn is everywhere. Most of the 14.6 billion bushels of corn grown in the U.S. are not destined to be eaten on the cob. Rather, as @SwiftOnSecurity observed in a viral corn thread, the plant is a raw source of useful starches that are ubiquitous in the supply chain.\n",
      "It’s not just food. Robinson told me she is currently hoarding her favorite olive-oil soap, which she had been using for 17 years but recently went out of stock everywhere. (A number of soap ingredients, such as glycerin, can come from corn.) She’s been reading up on DIY soapmaking. A year ago, the brand of dish soap she liked was reformulated to include citric acid, so she had to give that up, too. And navigating the hospital with a corn allergy can be particularly harrowing. Corn can lurk in the hand sanitizer (made from corn ethanol), pills (made with corn starch as filler), and IV solutions (made with dextrose). A couple years ago, she went to see a specialist for a migraine, and her doctor insisted she get an IV that contained dextrose.\n",
      "“And while in the midst of a migraine I had to argue with a doctor about the fact [that] I really could not have a dextrose IV,” she said. In the moment, she realized how absurd it was for her to be telling a world-class specialist to change her treatment.\n",
      "[ Read: The allergens in natural beauty products ]\n",
      "Because corn allergies are rare, many doctors are not familiar with the potential scope. Robinson said she was the first case her original doctor had ever seen in 38 years of practice, and he didn’t know to advise her against corn derivatives. Even official sources of medical information can be confusing, telling corn-allergy patients that they do not need to avoid cornstarch and high-fructose corn syrup. Misinformation abounds in the other direction, too, because corn allergies can be easy to misdiagnose and easy to self-diagnose incorrectly. All this means that corn-allergy sufferers encounter a good deal of skepticism. But Robert Wood, president of the American Academy of Allergy, Asthma & Immunology and a pediatric allergist at Johns Hopkins, told me that derivatives such as corn syrup can indeed cause problems for certain people.\n",
      "People with corn allergies have naturally been finding one another on the Internet. A Facebook group called Corn Allergy & Intolerance (Maize, Zea Mays) now has nearly 8,500 members. Becca, a tech worker in Washington State, writes a fairly prominent blog called Corn Allergy Girl. (She asked I not use her last name because she doesn't want her health status to affect her professional life.) The blog collates years of Becca’s research into corn allergies, as well as resources inherited from other, now-defunct corn-allergy blogs.\n",
      "Members of the Facebook group have also forged ties with individual farms. Once a year, Robinson said, a farmer in California sends members of the group a big box of avocados that have not been exposed to corn-derived ethylene gas or waxes. “It’s a great month when you’re trying to get through all of them,” she said. For the rest of the time, she gets most of her food from a CSA with a local farm in Pennsylvania.\n",
      "Becca, who writes Corn Allergy Girl, also gets a lot of her produce from local farms. The rest she grows. She goes to a specific butcher and meat processor who will custom-process whole animals for her without using lactic acid or citric acid. She has two fridges and several freezers to store food for the winter, when fresh vegetables are less abundant. “I go all Little House on the Prairie on the weekend,” she said, “pickling things and shredding them and baking them.” She counts herself lucky to live in the Pacific Northwest, where there are many organic, local farms. It’s harder to find fresh food in many other parts of the country, and it’s much harder to do so on a budget. “Your dollars just don’t go as far as if you’re getting a bunch of Chef Boyardee. It’s very cheap to eat canned, preserved food,” Becca said. She had to run GoFundMe campaigns, for example, for friends who couldn’t afford to buy chicken from a source they can tolerate.\n",
      "The diet of someone with a severe corn allergy is in some ways the ideal diet for a certain type of foodie: fresh, local, free of preservatives and processed foods, the provenance of every ingredient intensely cataloged. It’s just not exactly by choice.\n",
      "Knowing how to avoid foods with corn is one thing; knowing how to navigate social situations where danger lurks in every corner is another.\n",
      "Robinson said that she has two rules when eating out with friends now. First, eat beforehand. Second, order a San Pellegrino and an appetizer for the table to share, which deflects the inevitable concern from the waitstaff. “They’re nice, but people really feel they can find something, and they try. You have to keep saying, ‘No, I can’t, I can’t,’ and everybody feels bad.”\n",
      "Cassandra Wiselka, whose 5-year-old is allergic to corn, has written about the problem of Halloween. Virtually all mass-produced candy contains high-fructose corn syrup. Her son still goes trick-or-treating, but she switches out the candy he collects with corn-free alternatives: lollipops, gummy bears, and “fancy expensive chocolate that we don’t even buy for ourselves.” She makes and freezes big batches of corn-free cupcakes and pizza to bring to birthday parties. It’s hard, she says. “He still gets upset at birthday parties and things where he has to have his own special food.” They recently had to turn down a birthday party that was moved to a pizza place at the last minute because they didn’t have time to make safe pizza to bring.\n",
      "Wiselka’s family moved from Germany to California when her son was 18 months old. He seemed to get worse after the move. It’s hard to say exactly why, but Wiselka noticed that “in Germany, things are a lot less processed, food-wise. At least not processed as much with things like corn.”\n",
      "The one thing Robinson told me she really misses is being able to travel without worry. She did make a trip to Hawaii recently, after much advance planning. She picked Hawaii for the scuba diving. When she dives, she has to watch out for a few specific things—that her wetsuit has not been washed with a corn-containing detergent, that her dive partners have not been eating corn chips. But once she’s in the water, she’s calm. Sure, scuba diving can kill you if you aren’t careful (the most recent data show that 40 to 50 people die while diving in North America every year), but she can be sure there is no corn in water.\n",
      "“You don’t realize you’re carrying around this extreme sense of alertness,” she said. “That level of hypervigilance that you have for things that you could touch or breathe in is gone. You’re breathing air that you know is safe and you know the actual oxygen content of. It’s just incredibly freeing.”\n",
      "\n",
      "==========================================================================================================\n",
      "\n",
      "Current Article\n",
      "\n",
      "What Might Animals Look Like Thousands of Years From Now?\n",
      "A new pop-up book imagines how Chicago’s ecosystem might evolve in a world with fewer humans.\n",
      "It’s early May of the year 4847, and Willek Muriday, a chief scientist and regional director of a far-reaching biological survey, has just submitted a report on the Cagoan District, the ruins of an ancient urban center. These ruins, southwest of Lake Mishkin, were long thought to be lifeless, but year-round tropical temperatures and high levels of background radiation have led to the rapid evolution of a number of new species. “The district of Cago is alive and thriving!” Muriday writes.\n",
      "This is the premise of Beyond the Sixth Extinction, a creepily beautiful new pop-up book by Chicago paper artist Shawn Sheehy. The large-format book is ostensibly for older tweens and younger teenagers, and lavish bogeymen literally leap from its pages: Its bestiary includes a mobile, nearly life-size representation of the rex roach, a species evolved from the common cockroach; a massive snapping turtle called the Cagoan dragon; and a flightless pigeon large and fierce enough to eat small mammals. Then there’s the mudmop, a descendant of the catfish. Inconsistencies in counts of the mudmop’s mouth tentacles, Muriday soberly reports, were not clarified “until biologists realized that some of the ‘tentacles’ were not what they appeared to be.” The extra tentacles turned out to be parasitic leeches. Gross!\n",
      "Though Beyond the Sixth Extinction can be enjoyed solely for its dystopian yuks, its elegant paper sculptures tell a deeper story. The book doesn’t spend much time blaming humans for the world it imagines, or spell out exactly what has befallen Homo sapiens during the nearly three millennia between 2019 and 4847. But it does hint at a world in which the human footprint has been radically reduced. Chicago transformed into the diminished district of Cago, and life to some extent has moved on without us.\n",
      "All the creatures in Muriday’s imaginary field guide have evolved to take advantage of—and to some extent compensate for—human misrule. Rex roach, which like its smaller forerunners has a high tolerance for radioactivity, can neutralize the radioactive particles it digests. The clam fungus, whose ancestors lived on trees, now clusters on the surfaces of ancient landfills, where it gleans from methane gas the same elements its bracket fungus ancestors mined from wood. (The clam fungus prudently closes its brackets at sunrise, partly to protect its tender inner flesh from those hungry giant pigeons.) The mudmop sequesters heavy metals, as does the Cagoan dragon. The Peteybug’s name derives “from PT bug, for polymertrophic”—a synthetics feeder, it eats compact discs. The bloomworm, the naturalized descendant of a “genetically engineered chimera” that 21st-century researchers hoped would fight cancer, takes root in the cracks in buildings and sidewalks, absorbing calcium and aluminum from the cement and causing “concrete-based structures to deteriorate at an accelerated rate.”\n",
      "Sheehy’s project was initially inspired by paleoanthropologist Richard Leakey’s 1995 book The Sixth Extinction (not to be confused with Elizabeth Kolbert’s 2014 book of the same name). “That was the first time I’d ever thought about the Earth’s five big extinction events, and that the sixth one, which might have the same sort of drama, is our fault,” Sheehy says. “That had a profound impact on me.”\n",
      "Sheehy, a former elementary-school teacher, is careful not to burden his young readers with real horrors. As in his previous pop-up book Welcome to the Neighborwood, a much cuddlier tale about real-life animal builders, his primary goal is to provoke curiosity about “what else is out there that we don’t know about yet”—whether “out there” is the backyard or the distant future. The creatures of Beyond the Sixth Extinction, like the scientifically informed inventions of novelists Paolo Bacigalupi and Jeff VanderMeer, are just familiar enough, and plausible enough, to root in the imagination, and its passing place references—the “Cagoan District” includes the “Ohare Site,” infamous among 21st-century travelers—add to its eerie believability. As a contemplation of adaptability, resilience, and the many possible consequences of the present for the future, Beyond the Sixth Extinction can be an adventure for former teenagers, too.\n",
      "\n",
      "==========================================================================================================\n",
      "\n"
     ]
    }
   ],
   "source": [
    "random_articles = ['2.txt', '6.txt', '12.txt', '17.txt']\n",
    "for article in random_articles:\n",
    "    with open(directory+article, 'r') as file:\n",
    "        print(\"Current Article\"+'\\n')\n",
    "        print(file.read())\n",
    "        print(\"==========================================================================================================\\n\")"
   ]
  },
  {
   "cell_type": "markdown",
   "metadata": {},
   "source": [
    "Next we will save the article titles in a separate file, in the future if we want to scrape further articles from the science section, articles that are already present should not be added again to our folder"
   ]
  },
  {
   "cell_type": "code",
   "execution_count": 19,
   "metadata": {},
   "outputs": [],
   "source": [
    "science_titles_fileName = 'article_titles.txt'\n",
    "with open(directory + science_titles_fileName, \"w\") as file:\n",
    "    for content in soup_contents:\n",
    "        article_title = content.find('h1', class_='c-article-header__hed').get_text()\n",
    "        file.write(article_title+'\\n')"
   ]
  },
  {
   "cell_type": "code",
   "execution_count": 20,
   "metadata": {},
   "outputs": [
    {
     "name": "stdout",
     "output_type": "stream",
     "text": [
      "When Modern Men Throw Ancient Weapons\n",
      "The 500-Year-Long Science Experiment\n",
      "The World Just Experienced the Four Hottest Years on Record\n",
      "Trump’s Space Ambitions Are Too Big for One President\n",
      "Why Whales, Seals, and Penguins Like Their Food Cold\n",
      "No One Is Prepared for Hagfish Slime\n",
      "The Unprecedented Surge in Fear About Climate Change\n",
      "When a Harvard Professor Talks About Aliens\n",
      "How Plastic Cleanup Threatens the Ocean’s Living Islands\n",
      "Pollution in India Could Reshape Monsoons\n",
      "There’s Snow on TV, so Trump’s Tweeting About Climate Change\n",
      "What Life Is Like When Corn Is off the Table\n",
      "A Hexagonal Theory of Memory\n",
      "The Green New Deal Hits Its First Major Snag\n",
      "The Massive Mystery of Saturn’s Rings\n",
      "The Overlooked Organisms That Keep Challenging Our Assumptions About Life\n",
      "What Might Animals Look Like Thousands of Years From Now?\n",
      "Don’t Blame the Government Shutdown for SpaceX Delays\n",
      "Where Did the North Pole Go?\n",
      "Young Trans Children Know Who They Are\n",
      "Are We Living Through Climate Change’s Worst-Case Scenario?\n",
      "\n"
     ]
    }
   ],
   "source": [
    "with open(directory + science_titles_fileName, 'r') as file:\n",
    "    print(file.read())"
   ]
  },
  {
   "cell_type": "code",
   "execution_count": null,
   "metadata": {},
   "outputs": [],
   "source": []
  }
 ],
 "metadata": {
  "kernelspec": {
   "display_name": "Python 3",
   "language": "python",
   "name": "python3"
  },
  "language_info": {
   "codemirror_mode": {
    "name": "ipython",
    "version": 3
   },
   "file_extension": ".py",
   "mimetype": "text/x-python",
   "name": "python",
   "nbconvert_exporter": "python",
   "pygments_lexer": "ipython3",
   "version": "3.7.0"
  }
 },
 "nbformat": 4,
 "nbformat_minor": 2
}
