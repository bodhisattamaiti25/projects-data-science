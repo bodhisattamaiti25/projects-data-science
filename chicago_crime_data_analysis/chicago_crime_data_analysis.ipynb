{
 "cells": [
  {
   "cell_type": "code",
   "execution_count": 1,
   "metadata": {
    "collapsed": true
   },
   "outputs": [],
   "source": [
    "import pandas as pd\n",
    "import numpy as np\n",
    "import matplotlib.pyplot as plt"
   ]
  },
  {
   "cell_type": "code",
   "execution_count": 2,
   "metadata": {
    "collapsed": false
   },
   "outputs": [
    {
     "name": "stderr",
     "output_type": "stream",
     "text": [
      "Skipping line 1513591: expected 23 fields, saw 24\n",
      "\n",
      "/anaconda/lib/python2.7/site-packages/IPython/core/interactiveshell.py:2718: DtypeWarning: Columns (17,20) have mixed types. Specify dtype option on import or set low_memory=False.\n",
      "  interactivity=interactivity, compiler=compiler, result=result)\n"
     ]
    },
    {
     "name": "stdout",
     "output_type": "stream",
     "text": [
      "('crimes_2001_04 shape', (1923515, 22))\n"
     ]
    },
    {
     "name": "stderr",
     "output_type": "stream",
     "text": [
      "Skipping line 533719: expected 23 fields, saw 24\n",
      "\n"
     ]
    },
    {
     "name": "stdout",
     "output_type": "stream",
     "text": [
      "('crimes_2005_07 shape', (1872343, 22))\n"
     ]
    },
    {
     "name": "stderr",
     "output_type": "stream",
     "text": [
      "Skipping line 1149094: expected 23 fields, saw 41\n",
      "\n"
     ]
    },
    {
     "name": "stdout",
     "output_type": "stream",
     "text": [
      "('crimes_2008_11 shape', (2688710, 22))\n",
      "('crimes_2012_17 shape', (1456714, 22))\n"
     ]
    }
   ],
   "source": [
    "chicago_crimes_2001_04 = pd.read_csv('Chicago_Crimes_2001_to_2004.csv', error_bad_lines=False, index_col=0)\n",
    "print('crimes_2001_04 shape',chicago_crimes_2001_04.shape)\n",
    "chicago_crimes_2005_07 = pd.read_csv('Chicago_Crimes_2005_to_2007.csv', error_bad_lines=False, index_col=0)\n",
    "print('crimes_2005_07 shape', chicago_crimes_2005_07.shape)\n",
    "chicago_crimes_2008_11 = pd.read_csv('Chicago_Crimes_2008_to_2011.csv', error_bad_lines=False, index_col=0)\n",
    "print('crimes_2008_11 shape', chicago_crimes_2008_11.shape)\n",
    "chicago_crimes_2012_17 = pd.read_csv('Chicago_Crimes_2012_to_2017.csv', error_bad_lines=False, index_col=0)\n",
    "print('crimes_2012_17 shape', chicago_crimes_2012_17.shape)"
   ]
  },
  {
   "cell_type": "code",
   "execution_count": 3,
   "metadata": {
    "collapsed": false
   },
   "outputs": [],
   "source": [
    "crimes_2001_17 = pd.concat([chicago_crimes_2001_04, chicago_crimes_2005_07, chicago_crimes_2008_11, chicago_crimes_2012_17])"
   ]
  },
  {
   "cell_type": "code",
   "execution_count": 4,
   "metadata": {
    "collapsed": false
   },
   "outputs": [
    {
     "data": {
      "text/plain": [
       "(7941282, 22)"
      ]
     },
     "execution_count": 4,
     "metadata": {},
     "output_type": "execute_result"
    }
   ],
   "source": [
    "crimes_2001_17.shape"
   ]
  },
  {
   "cell_type": "code",
   "execution_count": 5,
   "metadata": {
    "collapsed": false
   },
   "outputs": [
    {
     "data": {
      "text/plain": [
       "Index([u'ID', u'Case Number', u'Date', u'Block', u'IUCR', u'Primary Type',\n",
       "       u'Description', u'Location Description', u'Arrest', u'Domestic',\n",
       "       u'Beat', u'District', u'Ward', u'Community Area', u'FBI Code',\n",
       "       u'X Coordinate', u'Y Coordinate', u'Year', u'Updated On', u'Latitude',\n",
       "       u'Longitude', u'Location'],\n",
       "      dtype='object')"
      ]
     },
     "execution_count": 5,
     "metadata": {},
     "output_type": "execute_result"
    }
   ],
   "source": [
    "crimes_2001_17.columns"
   ]
  },
  {
   "cell_type": "code",
   "execution_count": 6,
   "metadata": {
    "collapsed": false
   },
   "outputs": [
    {
     "name": "stdout",
     "output_type": "stream",
     "text": [
      "           ID Case Number                    Date                    Block  \\\n",
      "879   4786321    HM399414  01/01/2004 12:01:00 AM        082XX S COLES AVE   \n",
      "2544  4676906    HM278933  03/01/2003 12:00:00 AM          004XX W 42ND PL   \n",
      "2919  4789749    HM402220  06/20/2004 11:00:00 AM      025XX N KIMBALL AVE   \n",
      "2927  4789765    HM402058  12/30/2004 08:00:00 PM       045XX W MONTANA ST   \n",
      "3302  4677901    HM275615  05/01/2003 01:00:00 AM       111XX S NORMAL AVE   \n",
      "3633  4838048    HM440266  08/01/2004 12:01:00 AM      012XX S HARDING AVE   \n",
      "3756  4791194    HM403711  01/01/2001 11:00:00 AM  114XX S ST LAWRENCE AVE   \n",
      "4502  4679521    HM216293  03/15/2003 12:00:00 AM       090XX S RACINE AVE   \n",
      "4564  4792195    HM405396  09/16/2004 10:00:00 AM       003XX W HUBBARD ST   \n",
      "4904  4680124    HM282389  01/01/2003 12:00:00 AM    009XX S SPAULDING AVE   \n",
      "\n",
      "      IUCR                Primary Type                     Description  \\\n",
      "879   0840                       THEFT   FINANCIAL ID THEFT: OVER $300   \n",
      "2544  2825               OTHER OFFENSE         HARASSMENT BY TELEPHONE   \n",
      "2919  1752  OFFENSE INVOLVING CHILDREN   AGG CRIM SEX ABUSE FAM MEMBER   \n",
      "2927  0840                       THEFT   FINANCIAL ID THEFT: OVER $300   \n",
      "3302  0841                       THEFT  FINANCIAL ID THEFT:$300 &UNDER   \n",
      "3633  0841                       THEFT  FINANCIAL ID THEFT:$300 &UNDER   \n",
      "3756  0266         CRIM SEXUAL ASSAULT                       PREDATORY   \n",
      "4502  5007               OTHER OFFENSE         OTHER WEAPONS VIOLATION   \n",
      "4564  0890                       THEFT                   FROM BUILDING   \n",
      "4904  0840                       THEFT   FINANCIAL ID THEFT: OVER $300   \n",
      "\n",
      "         Location Description Arrest Domestic              ...                \\\n",
      "879                 RESIDENCE  False    False              ...                 \n",
      "2544                RESIDENCE  False     True              ...                 \n",
      "2919                RESIDENCE  False    False              ...                 \n",
      "2927                    OTHER  False    False              ...                 \n",
      "3302                RESIDENCE  False    False              ...                 \n",
      "3633                APARTMENT  False    False              ...                 \n",
      "3756                RESIDENCE   True     True              ...                 \n",
      "4502  RESIDENCE PORCH/HALLWAY  False    False              ...                 \n",
      "4564                RESIDENCE  False    False              ...                 \n",
      "4904                RESIDENCE  False    False              ...                 \n",
      "\n",
      "      Ward  Community Area  FBI Code  X Coordinate Y Coordinate    Year  \\\n",
      "879    7.0            46.0        06           NaN          NaN  2004.0   \n",
      "2544  11.0            61.0        26     1173974.0  1.87676e+06  2003.0   \n",
      "2919  35.0            22.0        20           NaN          NaN  2004.0   \n",
      "2927  31.0            20.0        06           NaN          NaN  2004.0   \n",
      "3302  34.0            49.0        06     1174948.0  1.83105e+06  2003.0   \n",
      "3633  24.0            29.0        06           NaN          NaN  2004.0   \n",
      "3756   9.0            50.0        02     1182247.0  1.82938e+06  2001.0   \n",
      "4502  21.0            73.0        26     1169911.0  1.84483e+06  2003.0   \n",
      "4564  42.0             8.0        06           NaN          NaN  2004.0   \n",
      "4904  24.0            29.0        06     1154521.0  1.89576e+06  2003.0   \n",
      "\n",
      "                  Updated On  Latitude  Longitude  \\\n",
      "879   08/17/2015 03:03:40 PM       NaN        NaN   \n",
      "2544  04/15/2016 08:55:02 AM   41.8172 -87.637328   \n",
      "2919  08/17/2015 03:03:40 PM       NaN        NaN   \n",
      "2927  08/17/2015 03:03:40 PM       NaN        NaN   \n",
      "3302  04/15/2016 08:55:02 AM   41.6918 -87.635116   \n",
      "3633  08/17/2015 03:03:40 PM       NaN        NaN   \n",
      "3756  08/29/2006 03:46:28 AM    41.687 -87.608445   \n",
      "4502  04/15/2016 08:55:02 AM   41.7297 -87.653159   \n",
      "4564  08/17/2015 03:03:40 PM       NaN        NaN   \n",
      "4904  04/15/2016 08:55:02 AM   41.8698 -87.708180   \n",
      "\n",
      "                           Location  \n",
      "879                             NaN  \n",
      "2544  (41.817229156, -87.637328162)  \n",
      "2919                            NaN  \n",
      "2927                            NaN  \n",
      "3302  (41.691784636, -87.635115968)  \n",
      "3633                            NaN  \n",
      "3756   (41.687020002, -87.60844523)  \n",
      "4502  (41.729712374, -87.653158513)  \n",
      "4564                            NaN  \n",
      "4904  (41.869772159, -87.708180162)  \n",
      "\n",
      "[10 rows x 22 columns]\n"
     ]
    }
   ],
   "source": [
    "print(crimes_2001_17.head(10))"
   ]
  },
  {
   "cell_type": "code",
   "execution_count": 7,
   "metadata": {
    "collapsed": false
   },
   "outputs": [
    {
     "data": {
      "text/plain": [
       "ID                        int64\n",
       "Case Number              object\n",
       "Date                     object\n",
       "Block                    object\n",
       "IUCR                     object\n",
       "Primary Type             object\n",
       "Description              object\n",
       "Location Description     object\n",
       "Arrest                     bool\n",
       "Domestic                   bool\n",
       "Beat                      int64\n",
       "District                float64\n",
       "Ward                    float64\n",
       "Community Area          float64\n",
       "FBI Code                 object\n",
       "X Coordinate            float64\n",
       "Y Coordinate             object\n",
       "Year                    float64\n",
       "Updated On               object\n",
       "Latitude                 object\n",
       "Longitude               float64\n",
       "Location                 object\n",
       "dtype: object"
      ]
     },
     "execution_count": 7,
     "metadata": {},
     "output_type": "execute_result"
    }
   ],
   "source": [
    "crimes_2001_17.dtypes"
   ]
  },
  {
   "cell_type": "code",
   "execution_count": 8,
   "metadata": {
    "collapsed": false
   },
   "outputs": [
    {
     "data": {
      "text/plain": [
       "ID                           0\n",
       "Case Number                  7\n",
       "Date                         0\n",
       "Block                        0\n",
       "IUCR                         0\n",
       "Primary Type                 0\n",
       "Description                  0\n",
       "Location Description      1990\n",
       "Arrest                       0\n",
       "Domestic                     0\n",
       "Beat                         0\n",
       "District                    91\n",
       "Ward                    700224\n",
       "Community Area          702091\n",
       "FBI Code                     0\n",
       "X Coordinate            105573\n",
       "Y Coordinate            105573\n",
       "Year                         0\n",
       "Updated On                   0\n",
       "Latitude                105573\n",
       "Longitude               105574\n",
       "Location                105574\n",
       "dtype: int64"
      ]
     },
     "execution_count": 8,
     "metadata": {},
     "output_type": "execute_result"
    }
   ],
   "source": [
    "crimes_2001_17.isnull().sum()"
   ]
  },
  {
   "cell_type": "code",
   "execution_count": 27,
   "metadata": {
    "collapsed": false
   },
   "outputs": [
    {
     "data": {
      "text/plain": [
       "[('THEFT', 1640506),\n",
       " ('BATTERY', 1442716),\n",
       " ('CRIMINAL DAMAGE', 923000),\n",
       " ('NARCOTICS', 885431),\n",
       " ('OTHER OFFENSE', 491922),\n",
       " ('ASSAULT', 481661),\n",
       " ('BURGLARY', 470958),\n",
       " ('MOTOR VEHICLE THEFT', 370548),\n",
       " ('ROBBERY', 300453),\n",
       " ('DECEPTIVE PRACTICE', 280931),\n",
       " ('CRIMINAL TRESPASS', 229366),\n",
       " ('PROSTITUTION', 86401),\n",
       " ('WEAPONS VIOLATION', 77429),\n",
       " ('PUBLIC PEACE VIOLATION', 58548),\n",
       " ('OFFENSE INVOLVING CHILDREN', 51441),\n",
       " ('CRIM SEXUAL ASSAULT', 29868),\n",
       " ('SEX OFFENSE', 28707),\n",
       " ('GAMBLING', 18806),\n",
       " ('LIQUOR LAW VIOLATION', 17513),\n",
       " ('INTERFERENCE WITH PUBLIC OFFICER', 15710),\n",
       " ('ARSON', 13097),\n",
       " ('HOMICIDE', 9051),\n",
       " ('KIDNAPPING', 7756),\n",
       " ('INTIMIDATION', 4636),\n",
       " ('STALKING', 3734),\n",
       " ('OBSCENITY', 496),\n",
       " ('PUBLIC INDECENCY', 163),\n",
       " ('OTHER NARCOTIC VIOLATION', 144),\n",
       " ('NON-CRIMINAL', 97),\n",
       " ('CONCEALED CARRY LICENSE VIOLATION', 90),\n",
       " ('NON - CRIMINAL', 38),\n",
       " ('RITUALISM', 31),\n",
       " ('HUMAN TRAFFICKING', 28),\n",
       " ('NON-CRIMINAL (SUBJECT SPECIFIED)', 4),\n",
       " ('DOMESTIC VIOLENCE', 2)]"
      ]
     },
     "execution_count": 27,
     "metadata": {},
     "output_type": "execute_result"
    }
   ],
   "source": [
    "primary_crime_type_counts = crimes_2001_17['Primary Type'].value_counts()\n",
    "primary_crime_type_counts = primary_crime_type_counts.to_dict()\n",
    "primary_crime_type_counts = sorted(primary_crime_type_counts.items(), key=lambda x:x[1], reverse=True)\n",
    "primary_crime_type_counts"
   ]
  },
  {
   "cell_type": "code",
   "execution_count": 28,
   "metadata": {
    "collapsed": false
   },
   "outputs": [
    {
     "name": "stdout",
     "output_type": "stream",
     "text": [
      "('THEFT', 'BATTERY', 'CRIMINAL DAMAGE', 'NARCOTICS', 'OTHER OFFENSE', 'ASSAULT', 'BURGLARY', 'MOTOR VEHICLE THEFT', 'ROBBERY', 'DECEPTIVE PRACTICE', 'CRIMINAL TRESPASS', 'PROSTITUTION', 'WEAPONS VIOLATION', 'PUBLIC PEACE VIOLATION', 'OFFENSE INVOLVING CHILDREN', 'CRIM SEXUAL ASSAULT', 'SEX OFFENSE', 'GAMBLING', 'LIQUOR LAW VIOLATION', 'INTERFERENCE WITH PUBLIC OFFICER', 'ARSON', 'HOMICIDE', 'KIDNAPPING', 'INTIMIDATION', 'STALKING', 'OBSCENITY', 'PUBLIC INDECENCY', 'OTHER NARCOTIC VIOLATION', 'NON-CRIMINAL', 'CONCEALED CARRY LICENSE VIOLATION', 'NON - CRIMINAL', 'RITUALISM', 'HUMAN TRAFFICKING', 'NON-CRIMINAL (SUBJECT SPECIFIED)', 'DOMESTIC VIOLENCE')\n",
      "(1640506, 1442716, 923000, 885431, 491922, 481661, 470958, 370548, 300453, 280931, 229366, 86401, 77429, 58548, 51441, 29868, 28707, 18806, 17513, 15710, 13097, 9051, 7756, 4636, 3734, 496, 163, 144, 97, 90, 38, 31, 28, 4, 2)\n"
     ]
    }
   ],
   "source": [
    "unzip_crime_data = zip(*primary_crime_type_counts)\n",
    "print(unzip_crime_data[0])\n",
    "print(unzip_crime_data[1])"
   ]
  },
  {
   "cell_type": "code",
   "execution_count": 29,
   "metadata": {
    "collapsed": false
   },
   "outputs": [],
   "source": [
    "import matplotlib.pylab as pylab \n",
    "pylab.rcParams['figure.figsize'] = 15, 12"
   ]
  },
  {
   "cell_type": "code",
   "execution_count": 38,
   "metadata": {
    "collapsed": false
   },
   "outputs": [
    {
     "data": {
      "image/png": "[encoded data removed]",
      "text/plain": [
       "<matplotlib.figure.Figure at 0x119c264d0>"
      ]
     },
     "metadata": {},
     "output_type": "display_data"
    }
   ],
   "source": [
    "fig1, ax1 = plt.subplots()\n",
    "\n",
    "crime_type = unzip_crime_data[0]\n",
    "crime_count = unzip_crime_data[1]\n",
    "y_pos = np.arange(len(crime_type))\n",
    "\n",
    "ax1.barh(y_pos, crime_count, align='center', color='red')\n",
    "ax1.set_yticks(y_pos)\n",
    "\n",
    "ax1.set_yticklabels(crime_type)\n",
    "ax1.invert_yaxis()  \n",
    "ax1.set_xlabel('Count')\n",
    "ax1.set_ylabel('Crime Type')\n",
    "ax1.set_title('Crimes in Chicago from 2001-2017')\n",
    "for cur_tick in ax1.get_xticklabels():\n",
    "    cur_tick.set_rotation(35)\n",
    "plt.show()"
   ]
  },
  {
   "cell_type": "code",
   "execution_count": 39,
   "metadata": {
    "collapsed": false
   },
   "outputs": [
    {
     "data": {
      "text/plain": [
       "[('STREET', 2101842),\n",
       " ('RESIDENCE', 1341749),\n",
       " ('SIDEWALK', 815595),\n",
       " ('APARTMENT', 812512),\n",
       " ('OTHER', 294286),\n",
       " ('PARKING LOT/GARAGE(NON.RESID.)', 225454),\n",
       " ('ALLEY', 180155),\n",
       " ('SCHOOL, PUBLIC, BUILDING', 173750),\n",
       " ('RESIDENCE-GARAGE', 158550),\n",
       " ('RESIDENCE PORCH/HALLWAY', 138492),\n",
       " ('SMALL RETAIL STORE', 134003),\n",
       " ('VEHICLE NON-COMMERCIAL', 128311),\n",
       " ('RESTAURANT', 116295),\n",
       " ('GROCERY FOOD STORE', 100812),\n",
       " ('DEPARTMENT STORE', 95201),\n",
       " ('GAS STATION', 82396),\n",
       " ('RESIDENTIAL YARD (FRONT/BACK)', 75442),\n",
       " ('CHA PARKING LOT/GROUNDS', 65124),\n",
       " ('PARK PROPERTY', 61322),\n",
       " ('COMMERCIAL / BUSINESS OFFICE', 58200),\n",
       " ('CTA PLATFORM', 44710),\n",
       " ('CHA APARTMENT', 41550),\n",
       " ('BAR OR TAVERN', 41169),\n",
       " ('DRUG STORE', 35671),\n",
       " ('SCHOOL, PUBLIC, GROUNDS', 34772),\n",
       " ('BANK', 32563),\n",
       " ('HOTEL/MOTEL', 31475),\n",
       " ('CHA HALLWAY/STAIRWELL/ELEVATOR', 30135),\n",
       " ('VACANT LOT/LAND', 28034),\n",
       " ('TAVERN/LIQUOR STORE', 26721),\n",
       " ('CTA TRAIN', 25855),\n",
       " ('CTA BUS', 25158),\n",
       " ('DRIVEWAY - RESIDENTIAL', 23519),\n",
       " ('HOSPITAL BUILDING/GROUNDS', 22801),\n",
       " ('AIRPORT/AIRCRAFT', 21873),\n",
       " ('POLICE FACILITY/VEH PARKING LOT', 20242),\n",
       " ('CHURCH/SYNAGOGUE/PLACE OF WORSHIP', 17653),\n",
       " ('GOVERNMENT BUILDING/PROPERTY', 16365),\n",
       " ('CONSTRUCTION SITE', 15970),\n",
       " ('CONVENIENCE STORE', 15743),\n",
       " ('SCHOOL, PRIVATE, BUILDING', 15433),\n",
       " ('NURSING HOME/RETIREMENT HOME', 14841),\n",
       " ('ABANDONED BUILDING', 13656),\n",
       " ('CURRENCY EXCHANGE', 12778),\n",
       " ('CTA GARAGE / OTHER PROPERTY', 12541),\n",
       " ('WAREHOUSE', 10895),\n",
       " ('BARBERSHOP', 9435),\n",
       " ('ATHLETIC CLUB', 9127),\n",
       " ('ATM (AUTOMATIC TELLER MACHINE)', 8895),\n",
       " ('MEDICAL/DENTAL OFFICE', 8415),\n",
       " ('FACTORY/MANUFACTURING BUILDING', 8300),\n",
       " ('TAXICAB', 8177),\n",
       " ('LIBRARY', 7181),\n",
       " ('COLLEGE/UNIVERSITY GROUNDS', 6809),\n",
       " ('OTHER RAILROAD PROP / TRAIN DEPOT', 6780),\n",
       " ('VEHICLE-COMMERCIAL', 6161),\n",
       " ('CTA BUS STOP', 5844),\n",
       " ('CLEANING STORE', 5787),\n",
       " ('SPORTS ARENA/STADIUM', 5774),\n",
       " ('SCHOOL, PRIVATE, GROUNDS', 4720),\n",
       " ('AIRPORT TERMINAL UPPER LEVEL - SECURE AREA', 3732),\n",
       " ('OTHER COMMERCIAL TRANSPORTATION', 3256),\n",
       " ('CAR WASH', 3144),\n",
       " ('DAY CARE CENTER', 3031),\n",
       " ('MOVIE HOUSE/THEATER', 2941),\n",
       " ('APPLIANCE STORE', 2096),\n",
       " ('CTA STATION', 1988),\n",
       " ('COLLEGE/UNIVERSITY RESIDENCE HALL', 1704),\n",
       " ('AIRPORT TERMINAL LOWER LEVEL - NON-SECURE AREA', 1401),\n",
       " ('LAKEFRONT/WATERFRONT/RIVERBANK', 1233),\n",
       " ('COIN OPERATED MACHINE', 1220),\n",
       " ('DELIVERY TRUCK', 1213),\n",
       " ('JAIL / LOCK-UP FACILITY', 1192),\n",
       " ('FIRE STATION', 1192),\n",
       " ('HIGHWAY/EXPRESSWAY', 1180),\n",
       " ('AUTO', 1126),\n",
       " ('POOL ROOM', 984),\n",
       " ('FEDERAL BUILDING', 878),\n",
       " ('ANIMAL HOSPITAL', 827),\n",
       " ('BOWLING ALLEY', 784),\n",
       " ('BOAT/WATERCRAFT', 746),\n",
       " ('AIRPORT VENDING ESTABLISHMENT', 719),\n",
       " ('AIRPORT EXTERIOR - NON-SECURE AREA', 657),\n",
       " ('AIRPORT BUILDING NON-TERMINAL - NON-SECURE AREA', 626),\n",
       " ('CREDIT UNION', 587),\n",
       " ('AIRPORT PARKING LOT', 580),\n",
       " ('AIRPORT TERMINAL UPPER LEVEL - NON-SECURE AREA', 558),\n",
       " ('PAWN SHOP', 532),\n",
       " ('AIRPORT TERMINAL LOWER LEVEL - SECURE AREA', 528),\n",
       " ('AIRCRAFT', 527),\n",
       " ('HOUSE', 507),\n",
       " ('FOREST PRESERVE', 471),\n",
       " ('SAVINGS AND LOAN', 423),\n",
       " ('BRIDGE', 411),\n",
       " ('AIRPORT BUILDING NON-TERMINAL - SECURE AREA', 404),\n",
       " ('CEMETARY', 395),\n",
       " ('PORCH', 271),\n",
       " ('NEWSSTAND', 261),\n",
       " ('AIRPORT EXTERIOR - SECURE AREA', 239),\n",
       " ('VEHICLE - OTHER RIDE SERVICE', 189),\n",
       " ('YARD', 178),\n",
       " ('PARKING LOT', 160),\n",
       " ('VACANT LOT', 109),\n",
       " ('HALLWAY', 87),\n",
       " ('AIRPORT TRANSPORTATION SYSTEM (ATS)', 82),\n",
       " ('GANGWAY', 76),\n",
       " ('RETAIL STORE', 73),\n",
       " ('AIRPORT TERMINAL MEZZANINE - NON-SECURE AREA', 70),\n",
       " ('CTA TRACKS - RIGHT OF WAY', 52),\n",
       " ('GARAGE', 48),\n",
       " ('GAS STATION DRIVE/PROP.', 46),\n",
       " ('VEHICLE - DELIVERY TRUCK', 45),\n",
       " ('CHA GROUNDS', 43),\n",
       " ('CHA HALLWAY', 42),\n",
       " ('TAVERN', 40),\n",
       " ('CHA PARKING LOT', 38),\n",
       " ('BASEMENT', 34),\n",
       " ('CLUB', 18),\n",
       " ('VESTIBULE', 17),\n",
       " ('HOTEL', 16),\n",
       " ('RAILROAD PROPERTY', 15),\n",
       " ('STAIRWELL', 15),\n",
       " ('OFFICE', 14),\n",
       " ('DRIVEWAY', 13),\n",
       " ('BARBER SHOP/BEAUTY SALON', 12),\n",
       " ('CHA STAIRWELL', 12),\n",
       " ('TRUCK', 12),\n",
       " ('DUMPSTER', 10),\n",
       " ('GARAGE/AUTO REPAIR', 10),\n",
       " ('SCHOOL YARD', 9),\n",
       " ('CHA LOBBY', 7),\n",
       " ('WOODED AREA', 6),\n",
       " ('LIQUOR STORE', 6),\n",
       " ('HOSPITAL', 6),\n",
       " ('TAXI CAB', 6),\n",
       " ('RIVER', 5),\n",
       " ('COACH HOUSE', 5),\n",
       " ('MOTEL', 5),\n",
       " ('CHURCH', 5),\n",
       " ('LAKE', 4),\n",
       " ('SEWER', 4),\n",
       " ('COUNTY JAIL', 4),\n",
       " ('NURSING HOME', 4),\n",
       " ('CHA PLAY LOT', 4),\n",
       " ('CHA ELEVATOR', 4),\n",
       " ('CHA BREEZEWAY', 4),\n",
       " ('LIVERY STAND OFFICE', 4),\n",
       " ('CTA \"L\" PLATFORM', 3),\n",
       " ('TRAILER', 3),\n",
       " ('CHURCH PROPERTY', 3),\n",
       " ('YMCA', 3),\n",
       " ('CTA PROPERTY', 2),\n",
       " ('RIVER BANK', 2),\n",
       " ('CTA \"L\" TRAIN', 2),\n",
       " ('PUBLIC HIGH SCHOOL', 2),\n",
       " ('LOADING DOCK', 2),\n",
       " ('FACTORY', 2),\n",
       " ('LAUNDRY ROOM', 2),\n",
       " ('PRAIRIE', 2),\n",
       " ('LIVERY AUTO', 1),\n",
       " ('LAGOON', 1),\n",
       " ('BANQUET HALL', 1),\n",
       " ('JUNK YARD/GARBAGE DUMP', 1),\n",
       " ('CLEANERS/LAUNDROMAT', 1),\n",
       " ('TRUCKING TERMINAL', 1),\n",
       " ('EXPRESSWAY EMBANKMENT', 1),\n",
       " ('ROOMING HOUSE', 1),\n",
       " ('FUNERAL PARLOR', 1),\n",
       " ('PUBLIC GRAMMAR SCHOOL', 1),\n",
       " ('GOVERNMENT BUILDING', 1),\n",
       " ('ELEVATOR', 1),\n",
       " ('POOLROOM', 1)]"
      ]
     },
     "execution_count": 39,
     "metadata": {},
     "output_type": "execute_result"
    }
   ],
   "source": [
    "crime_location_counts = crimes_2001_17['Location Description'].value_counts()\n",
    "crime_location_counts = crime_location_counts.to_dict()\n",
    "crime_location_counts = sorted(crime_location_counts.items(), key=lambda x:x[1], reverse=True)\n",
    "crime_location_counts"
   ]
  },
  {
   "cell_type": "code",
   "execution_count": 40,
   "metadata": {
    "collapsed": false
   },
   "outputs": [
    {
     "name": "stdout",
     "output_type": "stream",
     "text": [
      "('STREET', 'RESIDENCE', 'SIDEWALK', 'APARTMENT', 'OTHER', 'PARKING LOT/GARAGE(NON.RESID.)', 'ALLEY', 'SCHOOL, PUBLIC, BUILDING', 'RESIDENCE-GARAGE', 'RESIDENCE PORCH/HALLWAY', 'SMALL RETAIL STORE', 'VEHICLE NON-COMMERCIAL', 'RESTAURANT', 'GROCERY FOOD STORE', 'DEPARTMENT STORE', 'GAS STATION', 'RESIDENTIAL YARD (FRONT/BACK)', 'CHA PARKING LOT/GROUNDS', 'PARK PROPERTY', 'COMMERCIAL / BUSINESS OFFICE', 'CTA PLATFORM', 'CHA APARTMENT', 'BAR OR TAVERN', 'DRUG STORE', 'SCHOOL, PUBLIC, GROUNDS', 'BANK', 'HOTEL/MOTEL', 'CHA HALLWAY/STAIRWELL/ELEVATOR', 'VACANT LOT/LAND', 'TAVERN/LIQUOR STORE', 'CTA TRAIN', 'CTA BUS', 'DRIVEWAY - RESIDENTIAL', 'HOSPITAL BUILDING/GROUNDS', 'AIRPORT/AIRCRAFT', 'POLICE FACILITY/VEH PARKING LOT', 'CHURCH/SYNAGOGUE/PLACE OF WORSHIP', 'GOVERNMENT BUILDING/PROPERTY', 'CONSTRUCTION SITE', 'CONVENIENCE STORE', 'SCHOOL, PRIVATE, BUILDING', 'NURSING HOME/RETIREMENT HOME', 'ABANDONED BUILDING', 'CURRENCY EXCHANGE', 'CTA GARAGE / OTHER PROPERTY', 'WAREHOUSE', 'BARBERSHOP', 'ATHLETIC CLUB', 'ATM (AUTOMATIC TELLER MACHINE)', 'MEDICAL/DENTAL OFFICE', 'FACTORY/MANUFACTURING BUILDING', 'TAXICAB', 'LIBRARY', 'COLLEGE/UNIVERSITY GROUNDS', 'OTHER RAILROAD PROP / TRAIN DEPOT', 'VEHICLE-COMMERCIAL', 'CTA BUS STOP', 'CLEANING STORE', 'SPORTS ARENA/STADIUM', 'SCHOOL, PRIVATE, GROUNDS', 'AIRPORT TERMINAL UPPER LEVEL - SECURE AREA', 'OTHER COMMERCIAL TRANSPORTATION', 'CAR WASH', 'DAY CARE CENTER', 'MOVIE HOUSE/THEATER', 'APPLIANCE STORE', 'CTA STATION', 'COLLEGE/UNIVERSITY RESIDENCE HALL', 'AIRPORT TERMINAL LOWER LEVEL - NON-SECURE AREA', 'LAKEFRONT/WATERFRONT/RIVERBANK', 'COIN OPERATED MACHINE', 'DELIVERY TRUCK', 'JAIL / LOCK-UP FACILITY', 'FIRE STATION', 'HIGHWAY/EXPRESSWAY', 'AUTO', 'POOL ROOM', 'FEDERAL BUILDING', 'ANIMAL HOSPITAL', 'BOWLING ALLEY', 'BOAT/WATERCRAFT', 'AIRPORT VENDING ESTABLISHMENT', 'AIRPORT EXTERIOR - NON-SECURE AREA', 'AIRPORT BUILDING NON-TERMINAL - NON-SECURE AREA', 'CREDIT UNION', 'AIRPORT PARKING LOT', 'AIRPORT TERMINAL UPPER LEVEL - NON-SECURE AREA', 'PAWN SHOP', 'AIRPORT TERMINAL LOWER LEVEL - SECURE AREA', 'AIRCRAFT', 'HOUSE', 'FOREST PRESERVE', 'SAVINGS AND LOAN', 'BRIDGE', 'AIRPORT BUILDING NON-TERMINAL - SECURE AREA', 'CEMETARY', 'PORCH', 'NEWSSTAND', 'AIRPORT EXTERIOR - SECURE AREA', 'VEHICLE - OTHER RIDE SERVICE', 'YARD', 'PARKING LOT', 'VACANT LOT', 'HALLWAY', 'AIRPORT TRANSPORTATION SYSTEM (ATS)', 'GANGWAY', 'RETAIL STORE', 'AIRPORT TERMINAL MEZZANINE - NON-SECURE AREA', 'CTA TRACKS - RIGHT OF WAY', 'GARAGE', 'GAS STATION DRIVE/PROP.', 'VEHICLE - DELIVERY TRUCK', 'CHA GROUNDS', 'CHA HALLWAY', 'TAVERN', 'CHA PARKING LOT', 'BASEMENT', 'CLUB', 'VESTIBULE', 'HOTEL', 'RAILROAD PROPERTY', 'STAIRWELL', 'OFFICE', 'DRIVEWAY', 'BARBER SHOP/BEAUTY SALON', 'CHA STAIRWELL', 'TRUCK', 'DUMPSTER', 'GARAGE/AUTO REPAIR', 'SCHOOL YARD', 'CHA LOBBY', 'WOODED AREA', 'LIQUOR STORE', 'HOSPITAL', 'TAXI CAB', 'RIVER', 'COACH HOUSE', 'MOTEL', 'CHURCH', 'LAKE', 'SEWER', 'COUNTY JAIL', 'NURSING HOME', 'CHA PLAY LOT', 'CHA ELEVATOR', 'CHA BREEZEWAY', 'LIVERY STAND OFFICE', 'CTA \"L\" PLATFORM', 'TRAILER', 'CHURCH PROPERTY', 'YMCA', 'CTA PROPERTY', 'RIVER BANK', 'CTA \"L\" TRAIN', 'PUBLIC HIGH SCHOOL', 'LOADING DOCK', 'FACTORY', 'LAUNDRY ROOM', 'PRAIRIE', 'LIVERY AUTO', 'LAGOON', 'BANQUET HALL', 'JUNK YARD/GARBAGE DUMP', 'CLEANERS/LAUNDROMAT', 'TRUCKING TERMINAL', 'EXPRESSWAY EMBANKMENT', 'ROOMING HOUSE', 'FUNERAL PARLOR', 'PUBLIC GRAMMAR SCHOOL', 'GOVERNMENT BUILDING', 'ELEVATOR', 'POOLROOM')\n",
      "(2101842, 1341749, 815595, 812512, 294286, 225454, 180155, 173750, 158550, 138492, 134003, 128311, 116295, 100812, 95201, 82396, 75442, 65124, 61322, 58200, 44710, 41550, 41169, 35671, 34772, 32563, 31475, 30135, 28034, 26721, 25855, 25158, 23519, 22801, 21873, 20242, 17653, 16365, 15970, 15743, 15433, 14841, 13656, 12778, 12541, 10895, 9435, 9127, 8895, 8415, 8300, 8177, 7181, 6809, 6780, 6161, 5844, 5787, 5774, 4720, 3732, 3256, 3144, 3031, 2941, 2096, 1988, 1704, 1401, 1233, 1220, 1213, 1192, 1192, 1180, 1126, 984, 878, 827, 784, 746, 719, 657, 626, 587, 580, 558, 532, 528, 527, 507, 471, 423, 411, 404, 395, 271, 261, 239, 189, 178, 160, 109, 87, 82, 76, 73, 70, 52, 48, 46, 45, 43, 42, 40, 38, 34, 18, 17, 16, 15, 15, 14, 13, 12, 12, 12, 10, 10, 9, 7, 6, 6, 6, 6, 5, 5, 5, 5, 4, 4, 4, 4, 4, 4, 4, 4, 3, 3, 3, 3, 2, 2, 2, 2, 2, 2, 2, 2, 1, 1, 1, 1, 1, 1, 1, 1, 1, 1, 1, 1, 1)\n"
     ]
    }
   ],
   "source": [
    "unzip_crime_location_data = zip(*crime_location_counts)\n",
    "print(unzip_crime_location_data[0])\n",
    "print(unzip_crime_location_data[1])"
   ]
  },
  {
   "cell_type": "code",
   "execution_count": 41,
   "metadata": {
    "collapsed": false
   },
   "outputs": [
    {
     "data": {
      "image/png": "[encoded data removed]",
      "text/plain": [
       "<matplotlib.figure.Figure at 0x1192a0090>"
      ]
     },
     "metadata": {},
     "output_type": "display_data"
    }
   ],
   "source": [
    "fig2, ax2 = plt.subplots()\n",
    "\n",
    "crime_location_type = unzip_crime_location_data[0][0:30]\n",
    "crime_location_count = unzip_crime_location_data[1][0:30]\n",
    "y_pos_crime_location = np.arange(len(crime_location_type))\n",
    "\n",
    "ax2.barh(y_pos_crime_location, crime_location_count, align='center', color='blue')\n",
    "ax2.set_yticks(y_pos_crime_location)\n",
    "\n",
    "ax2.set_yticklabels(crime_location_type)\n",
    "ax2.invert_yaxis()  \n",
    "ax2.set_xlabel('Count')\n",
    "ax2.set_ylabel('Crime Location')\n",
    "ax2.set_title('Top 30 Crime Locations in Chicago from 2001-2017')\n",
    "for cur_tick in ax2.get_xticklabels():\n",
    "    cur_tick.set_rotation(35)\n",
    "plt.show()"
   ]
  },
  {
   "cell_type": "markdown",
   "metadata": {},
   "source": [
    "# processing data to generate a heatmap of top 20 crimes vs top 20 crime locations"
   ]
  },
  {
   "cell_type": "code",
   "execution_count": 77,
   "metadata": {
    "collapsed": false
   },
   "outputs": [],
   "source": [
    "crime_type_top20 = crime_type[0:20]\n",
    "crime_location_type_top20 = crime_location_type[0:20]\n",
    "crime_type_location_list = []\n",
    "for cur_crime_type in crime_type_top20:\n",
    "    \n",
    "    temp_df = crimes_2001_17[crimes_2001_17['Primary Type'] == cur_crime_type]\n",
    "    \n",
    "    for cur_crime_location_type in crime_location_type_top20:\n",
    "        \n",
    "        temp_df_2 = temp_df[temp_df['Location Description'] == cur_crime_location_type]\n",
    "        crime_type_location_list.append([cur_crime_type, cur_crime_location_type, temp_df_2.shape[0]])\n",
    "        #print('crime type', cur_crime_type, 'crime location', cur_crime_location_type, 'count', temp_df_2.shape[0])\n",
    "        \n",
    "#print(crime_type_location_list)\n",
    "        "
   ]
  },
  {
   "cell_type": "code",
   "execution_count": 51,
   "metadata": {
    "collapsed": false
   },
   "outputs": [],
   "source": [
    "import seaborn as sns\n",
    "sns.set()"
   ]
  },
  {
   "cell_type": "code",
   "execution_count": 78,
   "metadata": {
    "collapsed": false
   },
   "outputs": [
    {
     "data": {
      "text/html": [
       "<div>\n",
       "<table border=\"1\" class=\"dataframe\">\n",
       "  <thead>\n",
       "    <tr style=\"text-align: right;\">\n",
       "      <th></th>\n",
       "      <th>Crime Type</th>\n",
       "      <th>Crime Location</th>\n",
       "      <th>Count</th>\n",
       "    </tr>\n",
       "  </thead>\n",
       "  <tbody>\n",
       "    <tr>\n",
       "      <th>0</th>\n",
       "      <td>THEFT</td>\n",
       "      <td>STREET</td>\n",
       "      <td>458057</td>\n",
       "    </tr>\n",
       "    <tr>\n",
       "      <th>1</th>\n",
       "      <td>THEFT</td>\n",
       "      <td>RESIDENCE</td>\n",
       "      <td>176153</td>\n",
       "    </tr>\n",
       "    <tr>\n",
       "      <th>2</th>\n",
       "      <td>THEFT</td>\n",
       "      <td>SIDEWALK</td>\n",
       "      <td>51984</td>\n",
       "    </tr>\n",
       "    <tr>\n",
       "      <th>3</th>\n",
       "      <td>THEFT</td>\n",
       "      <td>APARTMENT</td>\n",
       "      <td>76819</td>\n",
       "    </tr>\n",
       "    <tr>\n",
       "      <th>4</th>\n",
       "      <td>THEFT</td>\n",
       "      <td>OTHER</td>\n",
       "      <td>93372</td>\n",
       "    </tr>\n",
       "    <tr>\n",
       "      <th>5</th>\n",
       "      <td>THEFT</td>\n",
       "      <td>PARKING LOT/GARAGE(NON.RESID.)</td>\n",
       "      <td>84122</td>\n",
       "    </tr>\n",
       "    <tr>\n",
       "      <th>6</th>\n",
       "      <td>THEFT</td>\n",
       "      <td>ALLEY</td>\n",
       "      <td>15917</td>\n",
       "    </tr>\n",
       "    <tr>\n",
       "      <th>7</th>\n",
       "      <td>THEFT</td>\n",
       "      <td>SCHOOL, PUBLIC, BUILDING</td>\n",
       "      <td>31319</td>\n",
       "    </tr>\n",
       "    <tr>\n",
       "      <th>8</th>\n",
       "      <td>THEFT</td>\n",
       "      <td>RESIDENCE-GARAGE</td>\n",
       "      <td>18355</td>\n",
       "    </tr>\n",
       "    <tr>\n",
       "      <th>9</th>\n",
       "      <td>THEFT</td>\n",
       "      <td>RESIDENCE PORCH/HALLWAY</td>\n",
       "      <td>23764</td>\n",
       "    </tr>\n",
       "    <tr>\n",
       "      <th>10</th>\n",
       "      <td>THEFT</td>\n",
       "      <td>SMALL RETAIL STORE</td>\n",
       "      <td>74576</td>\n",
       "    </tr>\n",
       "    <tr>\n",
       "      <th>11</th>\n",
       "      <td>THEFT</td>\n",
       "      <td>VEHICLE NON-COMMERCIAL</td>\n",
       "      <td>41999</td>\n",
       "    </tr>\n",
       "    <tr>\n",
       "      <th>12</th>\n",
       "      <td>THEFT</td>\n",
       "      <td>RESTAURANT</td>\n",
       "      <td>41954</td>\n",
       "    </tr>\n",
       "    <tr>\n",
       "      <th>13</th>\n",
       "      <td>THEFT</td>\n",
       "      <td>GROCERY FOOD STORE</td>\n",
       "      <td>64398</td>\n",
       "    </tr>\n",
       "    <tr>\n",
       "      <th>14</th>\n",
       "      <td>THEFT</td>\n",
       "      <td>DEPARTMENT STORE</td>\n",
       "      <td>79892</td>\n",
       "    </tr>\n",
       "    <tr>\n",
       "      <th>15</th>\n",
       "      <td>THEFT</td>\n",
       "      <td>GAS STATION</td>\n",
       "      <td>19650</td>\n",
       "    </tr>\n",
       "    <tr>\n",
       "      <th>16</th>\n",
       "      <td>THEFT</td>\n",
       "      <td>RESIDENTIAL YARD (FRONT/BACK)</td>\n",
       "      <td>29629</td>\n",
       "    </tr>\n",
       "    <tr>\n",
       "      <th>17</th>\n",
       "      <td>THEFT</td>\n",
       "      <td>CHA PARKING LOT/GROUNDS</td>\n",
       "      <td>1900</td>\n",
       "    </tr>\n",
       "    <tr>\n",
       "      <th>18</th>\n",
       "      <td>THEFT</td>\n",
       "      <td>PARK PROPERTY</td>\n",
       "      <td>14483</td>\n",
       "    </tr>\n",
       "    <tr>\n",
       "      <th>19</th>\n",
       "      <td>THEFT</td>\n",
       "      <td>COMMERCIAL / BUSINESS OFFICE</td>\n",
       "      <td>20351</td>\n",
       "    </tr>\n",
       "    <tr>\n",
       "      <th>20</th>\n",
       "      <td>BATTERY</td>\n",
       "      <td>STREET</td>\n",
       "      <td>257220</td>\n",
       "    </tr>\n",
       "    <tr>\n",
       "      <th>21</th>\n",
       "      <td>BATTERY</td>\n",
       "      <td>RESIDENCE</td>\n",
       "      <td>299266</td>\n",
       "    </tr>\n",
       "    <tr>\n",
       "      <th>22</th>\n",
       "      <td>BATTERY</td>\n",
       "      <td>SIDEWALK</td>\n",
       "      <td>220740</td>\n",
       "    </tr>\n",
       "    <tr>\n",
       "      <th>23</th>\n",
       "      <td>BATTERY</td>\n",
       "      <td>APARTMENT</td>\n",
       "      <td>283982</td>\n",
       "    </tr>\n",
       "    <tr>\n",
       "      <th>24</th>\n",
       "      <td>BATTERY</td>\n",
       "      <td>OTHER</td>\n",
       "      <td>31326</td>\n",
       "    </tr>\n",
       "    <tr>\n",
       "      <th>25</th>\n",
       "      <td>BATTERY</td>\n",
       "      <td>PARKING LOT/GARAGE(NON.RESID.)</td>\n",
       "      <td>18702</td>\n",
       "    </tr>\n",
       "    <tr>\n",
       "      <th>26</th>\n",
       "      <td>BATTERY</td>\n",
       "      <td>ALLEY</td>\n",
       "      <td>31992</td>\n",
       "    </tr>\n",
       "    <tr>\n",
       "      <th>27</th>\n",
       "      <td>BATTERY</td>\n",
       "      <td>SCHOOL, PUBLIC, BUILDING</td>\n",
       "      <td>60382</td>\n",
       "    </tr>\n",
       "    <tr>\n",
       "      <th>28</th>\n",
       "      <td>BATTERY</td>\n",
       "      <td>RESIDENCE-GARAGE</td>\n",
       "      <td>1923</td>\n",
       "    </tr>\n",
       "    <tr>\n",
       "      <th>29</th>\n",
       "      <td>BATTERY</td>\n",
       "      <td>RESIDENCE PORCH/HALLWAY</td>\n",
       "      <td>36265</td>\n",
       "    </tr>\n",
       "    <tr>\n",
       "      <th>...</th>\n",
       "      <td>...</td>\n",
       "      <td>...</td>\n",
       "      <td>...</td>\n",
       "    </tr>\n",
       "    <tr>\n",
       "      <th>370</th>\n",
       "      <td>LIQUOR LAW VIOLATION</td>\n",
       "      <td>SMALL RETAIL STORE</td>\n",
       "      <td>59</td>\n",
       "    </tr>\n",
       "    <tr>\n",
       "      <th>371</th>\n",
       "      <td>LIQUOR LAW VIOLATION</td>\n",
       "      <td>VEHICLE NON-COMMERCIAL</td>\n",
       "      <td>171</td>\n",
       "    </tr>\n",
       "    <tr>\n",
       "      <th>372</th>\n",
       "      <td>LIQUOR LAW VIOLATION</td>\n",
       "      <td>RESTAURANT</td>\n",
       "      <td>1087</td>\n",
       "    </tr>\n",
       "    <tr>\n",
       "      <th>373</th>\n",
       "      <td>LIQUOR LAW VIOLATION</td>\n",
       "      <td>GROCERY FOOD STORE</td>\n",
       "      <td>455</td>\n",
       "    </tr>\n",
       "    <tr>\n",
       "      <th>374</th>\n",
       "      <td>LIQUOR LAW VIOLATION</td>\n",
       "      <td>DEPARTMENT STORE</td>\n",
       "      <td>4</td>\n",
       "    </tr>\n",
       "    <tr>\n",
       "      <th>375</th>\n",
       "      <td>LIQUOR LAW VIOLATION</td>\n",
       "      <td>GAS STATION</td>\n",
       "      <td>35</td>\n",
       "    </tr>\n",
       "    <tr>\n",
       "      <th>376</th>\n",
       "      <td>LIQUOR LAW VIOLATION</td>\n",
       "      <td>RESIDENTIAL YARD (FRONT/BACK)</td>\n",
       "      <td>29</td>\n",
       "    </tr>\n",
       "    <tr>\n",
       "      <th>377</th>\n",
       "      <td>LIQUOR LAW VIOLATION</td>\n",
       "      <td>CHA PARKING LOT/GROUNDS</td>\n",
       "      <td>67</td>\n",
       "    </tr>\n",
       "    <tr>\n",
       "      <th>378</th>\n",
       "      <td>LIQUOR LAW VIOLATION</td>\n",
       "      <td>PARK PROPERTY</td>\n",
       "      <td>718</td>\n",
       "    </tr>\n",
       "    <tr>\n",
       "      <th>379</th>\n",
       "      <td>LIQUOR LAW VIOLATION</td>\n",
       "      <td>COMMERCIAL / BUSINESS OFFICE</td>\n",
       "      <td>19</td>\n",
       "    </tr>\n",
       "    <tr>\n",
       "      <th>380</th>\n",
       "      <td>INTERFERENCE WITH PUBLIC OFFICER</td>\n",
       "      <td>STREET</td>\n",
       "      <td>6971</td>\n",
       "    </tr>\n",
       "    <tr>\n",
       "      <th>381</th>\n",
       "      <td>INTERFERENCE WITH PUBLIC OFFICER</td>\n",
       "      <td>RESIDENCE</td>\n",
       "      <td>541</td>\n",
       "    </tr>\n",
       "    <tr>\n",
       "      <th>382</th>\n",
       "      <td>INTERFERENCE WITH PUBLIC OFFICER</td>\n",
       "      <td>SIDEWALK</td>\n",
       "      <td>3721</td>\n",
       "    </tr>\n",
       "    <tr>\n",
       "      <th>383</th>\n",
       "      <td>INTERFERENCE WITH PUBLIC OFFICER</td>\n",
       "      <td>APARTMENT</td>\n",
       "      <td>358</td>\n",
       "    </tr>\n",
       "    <tr>\n",
       "      <th>384</th>\n",
       "      <td>INTERFERENCE WITH PUBLIC OFFICER</td>\n",
       "      <td>OTHER</td>\n",
       "      <td>233</td>\n",
       "    </tr>\n",
       "    <tr>\n",
       "      <th>385</th>\n",
       "      <td>INTERFERENCE WITH PUBLIC OFFICER</td>\n",
       "      <td>PARKING LOT/GARAGE(NON.RESID.)</td>\n",
       "      <td>423</td>\n",
       "    </tr>\n",
       "    <tr>\n",
       "      <th>386</th>\n",
       "      <td>INTERFERENCE WITH PUBLIC OFFICER</td>\n",
       "      <td>ALLEY</td>\n",
       "      <td>747</td>\n",
       "    </tr>\n",
       "    <tr>\n",
       "      <th>387</th>\n",
       "      <td>INTERFERENCE WITH PUBLIC OFFICER</td>\n",
       "      <td>SCHOOL, PUBLIC, BUILDING</td>\n",
       "      <td>82</td>\n",
       "    </tr>\n",
       "    <tr>\n",
       "      <th>388</th>\n",
       "      <td>INTERFERENCE WITH PUBLIC OFFICER</td>\n",
       "      <td>RESIDENCE-GARAGE</td>\n",
       "      <td>9</td>\n",
       "    </tr>\n",
       "    <tr>\n",
       "      <th>389</th>\n",
       "      <td>INTERFERENCE WITH PUBLIC OFFICER</td>\n",
       "      <td>RESIDENCE PORCH/HALLWAY</td>\n",
       "      <td>259</td>\n",
       "    </tr>\n",
       "    <tr>\n",
       "      <th>390</th>\n",
       "      <td>INTERFERENCE WITH PUBLIC OFFICER</td>\n",
       "      <td>SMALL RETAIL STORE</td>\n",
       "      <td>46</td>\n",
       "    </tr>\n",
       "    <tr>\n",
       "      <th>391</th>\n",
       "      <td>INTERFERENCE WITH PUBLIC OFFICER</td>\n",
       "      <td>VEHICLE NON-COMMERCIAL</td>\n",
       "      <td>250</td>\n",
       "    </tr>\n",
       "    <tr>\n",
       "      <th>392</th>\n",
       "      <td>INTERFERENCE WITH PUBLIC OFFICER</td>\n",
       "      <td>RESTAURANT</td>\n",
       "      <td>67</td>\n",
       "    </tr>\n",
       "    <tr>\n",
       "      <th>393</th>\n",
       "      <td>INTERFERENCE WITH PUBLIC OFFICER</td>\n",
       "      <td>GROCERY FOOD STORE</td>\n",
       "      <td>23</td>\n",
       "    </tr>\n",
       "    <tr>\n",
       "      <th>394</th>\n",
       "      <td>INTERFERENCE WITH PUBLIC OFFICER</td>\n",
       "      <td>DEPARTMENT STORE</td>\n",
       "      <td>6</td>\n",
       "    </tr>\n",
       "    <tr>\n",
       "      <th>395</th>\n",
       "      <td>INTERFERENCE WITH PUBLIC OFFICER</td>\n",
       "      <td>GAS STATION</td>\n",
       "      <td>125</td>\n",
       "    </tr>\n",
       "    <tr>\n",
       "      <th>396</th>\n",
       "      <td>INTERFERENCE WITH PUBLIC OFFICER</td>\n",
       "      <td>RESIDENTIAL YARD (FRONT/BACK)</td>\n",
       "      <td>143</td>\n",
       "    </tr>\n",
       "    <tr>\n",
       "      <th>397</th>\n",
       "      <td>INTERFERENCE WITH PUBLIC OFFICER</td>\n",
       "      <td>CHA PARKING LOT/GROUNDS</td>\n",
       "      <td>120</td>\n",
       "    </tr>\n",
       "    <tr>\n",
       "      <th>398</th>\n",
       "      <td>INTERFERENCE WITH PUBLIC OFFICER</td>\n",
       "      <td>PARK PROPERTY</td>\n",
       "      <td>200</td>\n",
       "    </tr>\n",
       "    <tr>\n",
       "      <th>399</th>\n",
       "      <td>INTERFERENCE WITH PUBLIC OFFICER</td>\n",
       "      <td>COMMERCIAL / BUSINESS OFFICE</td>\n",
       "      <td>8</td>\n",
       "    </tr>\n",
       "  </tbody>\n",
       "</table>\n",
       "<p>400 rows × 3 columns</p>\n",
       "</div>"
      ],
      "text/plain": [
       "                           Crime Type                  Crime Location   Count\n",
       "0                               THEFT                          STREET  458057\n",
       "1                               THEFT                       RESIDENCE  176153\n",
       "2                               THEFT                        SIDEWALK   51984\n",
       "3                               THEFT                       APARTMENT   76819\n",
       "4                               THEFT                           OTHER   93372\n",
       "5                               THEFT  PARKING LOT/GARAGE(NON.RESID.)   84122\n",
       "6                               THEFT                           ALLEY   15917\n",
       "7                               THEFT        SCHOOL, PUBLIC, BUILDING   31319\n",
       "8                               THEFT                RESIDENCE-GARAGE   18355\n",
       "9                               THEFT         RESIDENCE PORCH/HALLWAY   23764\n",
       "10                              THEFT              SMALL RETAIL STORE   74576\n",
       "11                              THEFT          VEHICLE NON-COMMERCIAL   41999\n",
       "12                              THEFT                      RESTAURANT   41954\n",
       "13                              THEFT              GROCERY FOOD STORE   64398\n",
       "14                              THEFT                DEPARTMENT STORE   79892\n",
       "15                              THEFT                     GAS STATION   19650\n",
       "16                              THEFT   RESIDENTIAL YARD (FRONT/BACK)   29629\n",
       "17                              THEFT         CHA PARKING LOT/GROUNDS    1900\n",
       "18                              THEFT                   PARK PROPERTY   14483\n",
       "19                              THEFT    COMMERCIAL / BUSINESS OFFICE   20351\n",
       "20                            BATTERY                          STREET  257220\n",
       "21                            BATTERY                       RESIDENCE  299266\n",
       "22                            BATTERY                        SIDEWALK  220740\n",
       "23                            BATTERY                       APARTMENT  283982\n",
       "24                            BATTERY                           OTHER   31326\n",
       "25                            BATTERY  PARKING LOT/GARAGE(NON.RESID.)   18702\n",
       "26                            BATTERY                           ALLEY   31992\n",
       "27                            BATTERY        SCHOOL, PUBLIC, BUILDING   60382\n",
       "28                            BATTERY                RESIDENCE-GARAGE    1923\n",
       "29                            BATTERY         RESIDENCE PORCH/HALLWAY   36265\n",
       "..                                ...                             ...     ...\n",
       "370              LIQUOR LAW VIOLATION              SMALL RETAIL STORE      59\n",
       "371              LIQUOR LAW VIOLATION          VEHICLE NON-COMMERCIAL     171\n",
       "372              LIQUOR LAW VIOLATION                      RESTAURANT    1087\n",
       "373              LIQUOR LAW VIOLATION              GROCERY FOOD STORE     455\n",
       "374              LIQUOR LAW VIOLATION                DEPARTMENT STORE       4\n",
       "375              LIQUOR LAW VIOLATION                     GAS STATION      35\n",
       "376              LIQUOR LAW VIOLATION   RESIDENTIAL YARD (FRONT/BACK)      29\n",
       "377              LIQUOR LAW VIOLATION         CHA PARKING LOT/GROUNDS      67\n",
       "378              LIQUOR LAW VIOLATION                   PARK PROPERTY     718\n",
       "379              LIQUOR LAW VIOLATION    COMMERCIAL / BUSINESS OFFICE      19\n",
       "380  INTERFERENCE WITH PUBLIC OFFICER                          STREET    6971\n",
       "381  INTERFERENCE WITH PUBLIC OFFICER                       RESIDENCE     541\n",
       "382  INTERFERENCE WITH PUBLIC OFFICER                        SIDEWALK    3721\n",
       "383  INTERFERENCE WITH PUBLIC OFFICER                       APARTMENT     358\n",
       "384  INTERFERENCE WITH PUBLIC OFFICER                           OTHER     233\n",
       "385  INTERFERENCE WITH PUBLIC OFFICER  PARKING LOT/GARAGE(NON.RESID.)     423\n",
       "386  INTERFERENCE WITH PUBLIC OFFICER                           ALLEY     747\n",
       "387  INTERFERENCE WITH PUBLIC OFFICER        SCHOOL, PUBLIC, BUILDING      82\n",
       "388  INTERFERENCE WITH PUBLIC OFFICER                RESIDENCE-GARAGE       9\n",
       "389  INTERFERENCE WITH PUBLIC OFFICER         RESIDENCE PORCH/HALLWAY     259\n",
       "390  INTERFERENCE WITH PUBLIC OFFICER              SMALL RETAIL STORE      46\n",
       "391  INTERFERENCE WITH PUBLIC OFFICER          VEHICLE NON-COMMERCIAL     250\n",
       "392  INTERFERENCE WITH PUBLIC OFFICER                      RESTAURANT      67\n",
       "393  INTERFERENCE WITH PUBLIC OFFICER              GROCERY FOOD STORE      23\n",
       "394  INTERFERENCE WITH PUBLIC OFFICER                DEPARTMENT STORE       6\n",
       "395  INTERFERENCE WITH PUBLIC OFFICER                     GAS STATION     125\n",
       "396  INTERFERENCE WITH PUBLIC OFFICER   RESIDENTIAL YARD (FRONT/BACK)     143\n",
       "397  INTERFERENCE WITH PUBLIC OFFICER         CHA PARKING LOT/GROUNDS     120\n",
       "398  INTERFERENCE WITH PUBLIC OFFICER                   PARK PROPERTY     200\n",
       "399  INTERFERENCE WITH PUBLIC OFFICER    COMMERCIAL / BUSINESS OFFICE       8\n",
       "\n",
       "[400 rows x 3 columns]"
      ]
     },
     "execution_count": 78,
     "metadata": {},
     "output_type": "execute_result"
    }
   ],
   "source": [
    "crime_type_location_df = pd.DataFrame(data=crime_type_location_list, columns=['Crime Type', 'Crime Location', 'Count'])\n",
    "crime_type_location_df"
   ]
  },
  {
   "cell_type": "code",
   "execution_count": 79,
   "metadata": {
    "collapsed": false
   },
   "outputs": [],
   "source": [
    "crime_type_location_df = crime_type_location_df.pivot('Crime Location', 'Crime Type', 'Count')"
   ]
  },
  {
   "cell_type": "code",
   "execution_count": 80,
   "metadata": {
    "collapsed": false
   },
   "outputs": [
    {
     "data": {
      "text/html": [
       "<div>\n",
       "<table border=\"1\" class=\"dataframe\">\n",
       "  <thead>\n",
       "    <tr style=\"text-align: right;\">\n",
       "      <th>Crime Type</th>\n",
       "      <th>ASSAULT</th>\n",
       "      <th>BATTERY</th>\n",
       "      <th>BURGLARY</th>\n",
       "      <th>CRIM SEXUAL ASSAULT</th>\n",
       "      <th>CRIMINAL DAMAGE</th>\n",
       "      <th>CRIMINAL TRESPASS</th>\n",
       "      <th>DECEPTIVE PRACTICE</th>\n",
       "      <th>GAMBLING</th>\n",
       "      <th>INTERFERENCE WITH PUBLIC OFFICER</th>\n",
       "      <th>LIQUOR LAW VIOLATION</th>\n",
       "      <th>MOTOR VEHICLE THEFT</th>\n",
       "      <th>NARCOTICS</th>\n",
       "      <th>OFFENSE INVOLVING CHILDREN</th>\n",
       "      <th>OTHER OFFENSE</th>\n",
       "      <th>PROSTITUTION</th>\n",
       "      <th>PUBLIC PEACE VIOLATION</th>\n",
       "      <th>ROBBERY</th>\n",
       "      <th>SEX OFFENSE</th>\n",
       "      <th>THEFT</th>\n",
       "      <th>WEAPONS VIOLATION</th>\n",
       "    </tr>\n",
       "    <tr>\n",
       "      <th>Crime Location</th>\n",
       "      <th></th>\n",
       "      <th></th>\n",
       "      <th></th>\n",
       "      <th></th>\n",
       "      <th></th>\n",
       "      <th></th>\n",
       "      <th></th>\n",
       "      <th></th>\n",
       "      <th></th>\n",
       "      <th></th>\n",
       "      <th></th>\n",
       "      <th></th>\n",
       "      <th></th>\n",
       "      <th></th>\n",
       "      <th></th>\n",
       "      <th></th>\n",
       "      <th></th>\n",
       "      <th></th>\n",
       "      <th></th>\n",
       "      <th></th>\n",
       "    </tr>\n",
       "  </thead>\n",
       "  <tbody>\n",
       "    <tr>\n",
       "      <th>ALLEY</th>\n",
       "      <td>10923</td>\n",
       "      <td>31992</td>\n",
       "      <td>529</td>\n",
       "      <td>2076</td>\n",
       "      <td>16261</td>\n",
       "      <td>953</td>\n",
       "      <td>1353</td>\n",
       "      <td>1089</td>\n",
       "      <td>747</td>\n",
       "      <td>711</td>\n",
       "      <td>6075</td>\n",
       "      <td>56652</td>\n",
       "      <td>194</td>\n",
       "      <td>2978</td>\n",
       "      <td>1039</td>\n",
       "      <td>1663</td>\n",
       "      <td>20975</td>\n",
       "      <td>1496</td>\n",
       "      <td>15917</td>\n",
       "      <td>5126</td>\n",
       "    </tr>\n",
       "    <tr>\n",
       "      <th>APARTMENT</th>\n",
       "      <td>58379</td>\n",
       "      <td>283982</td>\n",
       "      <td>134815</td>\n",
       "      <td>7544</td>\n",
       "      <td>93235</td>\n",
       "      <td>16816</td>\n",
       "      <td>17871</td>\n",
       "      <td>67</td>\n",
       "      <td>358</td>\n",
       "      <td>129</td>\n",
       "      <td>548</td>\n",
       "      <td>14862</td>\n",
       "      <td>12379</td>\n",
       "      <td>74755</td>\n",
       "      <td>146</td>\n",
       "      <td>2259</td>\n",
       "      <td>5220</td>\n",
       "      <td>3833</td>\n",
       "      <td>76819</td>\n",
       "      <td>5121</td>\n",
       "    </tr>\n",
       "    <tr>\n",
       "      <th>CHA PARKING LOT/GROUNDS</th>\n",
       "      <td>3642</td>\n",
       "      <td>10623</td>\n",
       "      <td>146</td>\n",
       "      <td>32</td>\n",
       "      <td>2918</td>\n",
       "      <td>16626</td>\n",
       "      <td>188</td>\n",
       "      <td>449</td>\n",
       "      <td>120</td>\n",
       "      <td>67</td>\n",
       "      <td>796</td>\n",
       "      <td>24691</td>\n",
       "      <td>50</td>\n",
       "      <td>546</td>\n",
       "      <td>30</td>\n",
       "      <td>255</td>\n",
       "      <td>1051</td>\n",
       "      <td>60</td>\n",
       "      <td>1900</td>\n",
       "      <td>869</td>\n",
       "    </tr>\n",
       "    <tr>\n",
       "      <th>COMMERCIAL / BUSINESS OFFICE</th>\n",
       "      <td>2715</td>\n",
       "      <td>2242</td>\n",
       "      <td>6123</td>\n",
       "      <td>42</td>\n",
       "      <td>8047</td>\n",
       "      <td>1548</td>\n",
       "      <td>6119</td>\n",
       "      <td>10</td>\n",
       "      <td>8</td>\n",
       "      <td>19</td>\n",
       "      <td>287</td>\n",
       "      <td>140</td>\n",
       "      <td>44</td>\n",
       "      <td>9081</td>\n",
       "      <td>60</td>\n",
       "      <td>608</td>\n",
       "      <td>404</td>\n",
       "      <td>105</td>\n",
       "      <td>20351</td>\n",
       "      <td>42</td>\n",
       "    </tr>\n",
       "    <tr>\n",
       "      <th>DEPARTMENT STORE</th>\n",
       "      <td>1572</td>\n",
       "      <td>1823</td>\n",
       "      <td>832</td>\n",
       "      <td>8</td>\n",
       "      <td>1198</td>\n",
       "      <td>1464</td>\n",
       "      <td>6237</td>\n",
       "      <td>0</td>\n",
       "      <td>6</td>\n",
       "      <td>4</td>\n",
       "      <td>39</td>\n",
       "      <td>152</td>\n",
       "      <td>24</td>\n",
       "      <td>683</td>\n",
       "      <td>1</td>\n",
       "      <td>171</td>\n",
       "      <td>934</td>\n",
       "      <td>87</td>\n",
       "      <td>79892</td>\n",
       "      <td>32</td>\n",
       "    </tr>\n",
       "  </tbody>\n",
       "</table>\n",
       "</div>"
      ],
      "text/plain": [
       "Crime Type                    ASSAULT  BATTERY  BURGLARY  CRIM SEXUAL ASSAULT  \\\n",
       "Crime Location                                                                  \n",
       "ALLEY                           10923    31992       529                 2076   \n",
       "APARTMENT                       58379   283982    134815                 7544   \n",
       "CHA PARKING LOT/GROUNDS          3642    10623       146                   32   \n",
       "COMMERCIAL / BUSINESS OFFICE     2715     2242      6123                   42   \n",
       "DEPARTMENT STORE                 1572     1823       832                    8   \n",
       "\n",
       "Crime Type                    CRIMINAL DAMAGE  CRIMINAL TRESPASS  \\\n",
       "Crime Location                                                     \n",
       "ALLEY                                   16261                953   \n",
       "APARTMENT                               93235              16816   \n",
       "CHA PARKING LOT/GROUNDS                  2918              16626   \n",
       "COMMERCIAL / BUSINESS OFFICE             8047               1548   \n",
       "DEPARTMENT STORE                         1198               1464   \n",
       "\n",
       "Crime Type                    DECEPTIVE PRACTICE  GAMBLING  \\\n",
       "Crime Location                                               \n",
       "ALLEY                                       1353      1089   \n",
       "APARTMENT                                  17871        67   \n",
       "CHA PARKING LOT/GROUNDS                      188       449   \n",
       "COMMERCIAL / BUSINESS OFFICE                6119        10   \n",
       "DEPARTMENT STORE                            6237         0   \n",
       "\n",
       "Crime Type                    INTERFERENCE WITH PUBLIC OFFICER  \\\n",
       "Crime Location                                                   \n",
       "ALLEY                                                      747   \n",
       "APARTMENT                                                  358   \n",
       "CHA PARKING LOT/GROUNDS                                    120   \n",
       "COMMERCIAL / BUSINESS OFFICE                                 8   \n",
       "DEPARTMENT STORE                                             6   \n",
       "\n",
       "Crime Type                    LIQUOR LAW VIOLATION  MOTOR VEHICLE THEFT  \\\n",
       "Crime Location                                                            \n",
       "ALLEY                                          711                 6075   \n",
       "APARTMENT                                      129                  548   \n",
       "CHA PARKING LOT/GROUNDS                         67                  796   \n",
       "COMMERCIAL / BUSINESS OFFICE                    19                  287   \n",
       "DEPARTMENT STORE                                 4                   39   \n",
       "\n",
       "Crime Type                    NARCOTICS  OFFENSE INVOLVING CHILDREN  \\\n",
       "Crime Location                                                        \n",
       "ALLEY                             56652                         194   \n",
       "APARTMENT                         14862                       12379   \n",
       "CHA PARKING LOT/GROUNDS           24691                          50   \n",
       "COMMERCIAL / BUSINESS OFFICE        140                          44   \n",
       "DEPARTMENT STORE                    152                          24   \n",
       "\n",
       "Crime Type                    OTHER OFFENSE  PROSTITUTION  \\\n",
       "Crime Location                                              \n",
       "ALLEY                                  2978          1039   \n",
       "APARTMENT                             74755           146   \n",
       "CHA PARKING LOT/GROUNDS                 546            30   \n",
       "COMMERCIAL / BUSINESS OFFICE           9081            60   \n",
       "DEPARTMENT STORE                        683             1   \n",
       "\n",
       "Crime Type                    PUBLIC PEACE VIOLATION  ROBBERY  SEX OFFENSE  \\\n",
       "Crime Location                                                               \n",
       "ALLEY                                           1663    20975         1496   \n",
       "APARTMENT                                       2259     5220         3833   \n",
       "CHA PARKING LOT/GROUNDS                          255     1051           60   \n",
       "COMMERCIAL / BUSINESS OFFICE                     608      404          105   \n",
       "DEPARTMENT STORE                                 171      934           87   \n",
       "\n",
       "Crime Type                    THEFT  WEAPONS VIOLATION  \n",
       "Crime Location                                          \n",
       "ALLEY                         15917               5126  \n",
       "APARTMENT                     76819               5121  \n",
       "CHA PARKING LOT/GROUNDS        1900                869  \n",
       "COMMERCIAL / BUSINESS OFFICE  20351                 42  \n",
       "DEPARTMENT STORE              79892                 32  "
      ]
     },
     "execution_count": 80,
     "metadata": {},
     "output_type": "execute_result"
    }
   ],
   "source": [
    "crime_type_location_df.head()"
   ]
  },
  {
   "cell_type": "code",
   "execution_count": 81,
   "metadata": {
    "collapsed": false
   },
   "outputs": [
    {
     "data": {
      "image/png": "[encoded data removed]",
      "text/plain": [
       "<matplotlib.figure.Figure at 0x132b10490>"
      ]
     },
     "metadata": {},
     "output_type": "display_data"
    }
   ],
   "source": [
    "sns.heatmap(crime_type_location_df).set_title('Top 20 Crimes vs Top 20 Crime Locations')\n",
    "plt.show()"
   ]
  },
  {
   "cell_type": "code",
   "execution_count": 106,
   "metadata": {
    "collapsed": false
   },
   "outputs": [],
   "source": [
    "month_mapping = {1:'January', 2:'February', 3:'March', 4:'April', 5:'May', 6:'June', 7:'July', 8:'August', 9:'September', 10:'October', 11:'November', 12:'December'}\n",
    "\n",
    "def getMonth(val):\n",
    "    month = int(val.split(' ')[0].split('/')[0])\n",
    "    return month\n",
    "\n",
    "crimes_2001_17['Month'] = crimes_2001_17['Date'].apply(getMonth)"
   ]
  },
  {
   "cell_type": "code",
   "execution_count": 107,
   "metadata": {
    "collapsed": false
   },
   "outputs": [],
   "source": [
    "def getMonthInWords(month):\n",
    "    return month_mapping[month]\n",
    "\n",
    "crimes_2001_17['Month_Words'] = crimes_2001_17['Month'].apply(getMonthInWords)"
   ]
  },
  {
   "cell_type": "code",
   "execution_count": 117,
   "metadata": {
    "collapsed": false
   },
   "outputs": [],
   "source": [
    "from datetime import date\n",
    "import calendar\n",
    "\n",
    "def get_DayName(cur_date):\n",
    "    temp_date = cur_date.split(' ')[0].split('/')\n",
    "    d = date(int(temp_date[2]), int(temp_date[0]), int(temp_date[1]))\n",
    "    return calendar.day_name[d.weekday()]\n",
    "\n",
    "crimes_2001_17['DayName'] = crimes_2001_17['Date'].apply(get_DayName)"
   ]
  },
  {
   "cell_type": "code",
   "execution_count": 121,
   "metadata": {
    "collapsed": false
   },
   "outputs": [],
   "source": [
    "month_names = ['January', 'February', 'March', 'April', 'May', 'June', 'July', 'August', 'September', 'October', 'November', 'December']\n",
    "crime_counts_by_month = []\n",
    "for cur_month in month_names:\n",
    "    temp_df_4 = crimes_2001_17[crimes_2001_17['Month_Words']==cur_month]\n",
    "    crime_counts_by_month.append(temp_df_4.shape[0])"
   ]
  },
  {
   "cell_type": "code",
   "execution_count": 122,
   "metadata": {
    "collapsed": false
   },
   "outputs": [
    {
     "data": {
      "image/png": "[encoded data removed]",
      "text/plain": [
       "<matplotlib.figure.Figure at 0x12c376390>"
      ]
     },
     "metadata": {},
     "output_type": "display_data"
    }
   ],
   "source": [
    "fig3, ax3 = plt.subplots()\n",
    "\n",
    "y_pos_month = np.arange(len(month_names))\n",
    "\n",
    "ax3.barh(y_pos_month, crime_counts_by_month, align='center', color='green')\n",
    "ax3.set_yticks(y_pos_month)\n",
    "\n",
    "ax3.set_yticklabels(month_names)\n",
    "ax3.invert_yaxis()  \n",
    "ax3.set_xlabel('Crime Count')\n",
    "ax3.set_ylabel('Month')\n",
    "ax3.set_title('Crimes in Chicago from 2001-2017 by Month')\n",
    "for cur_tick in ax3.get_xticklabels():\n",
    "    cur_tick.set_rotation(35)\n",
    "plt.show()"
   ]
  },
  {
   "cell_type": "code",
   "execution_count": 127,
   "metadata": {
    "collapsed": true
   },
   "outputs": [],
   "source": [
    "day_names = ['Monday', 'Tuesday', 'Wednesday', 'Thursday', 'Friday', 'Saturday', 'Sunday']\n",
    "crime_counts_by_day = []\n",
    "\n",
    "for cur_day_name in day_names:\n",
    "    temp_df_5 = crimes_2001_17[crimes_2001_17['DayName']==cur_day_name]\n",
    "    crime_counts_by_day.append(temp_df_5.shape[0])"
   ]
  },
  {
   "cell_type": "code",
   "execution_count": 124,
   "metadata": {
    "collapsed": false
   },
   "outputs": [
    {
     "data": {
      "image/png": "[encoded data removed]",
      "text/plain": [
       "<matplotlib.figure.Figure at 0x132166890>"
      ]
     },
     "metadata": {},
     "output_type": "display_data"
    }
   ],
   "source": [
    "fig4, ax4 = plt.subplots()\n",
    "\n",
    "y_pos_day = np.arange(len(day_names))\n",
    "\n",
    "ax4.barh(y_pos_day, crime_counts_by_day, align='center', color='orange')\n",
    "ax4.set_yticks(y_pos_day)\n",
    "\n",
    "ax4.set_yticklabels(day_names)\n",
    "ax4.invert_yaxis()  \n",
    "ax4.set_xlabel('Crime Count')\n",
    "ax4.set_ylabel('Day')\n",
    "ax4.set_title('Crimes in Chicago from 2001-2017 by Day')\n",
    "for cur_tick in ax4.get_xticklabels():\n",
    "    cur_tick.set_rotation(35)\n",
    "plt.show()"
   ]
  },
  {
   "cell_type": "code",
   "execution_count": 76,
   "metadata": {
    "collapsed": false
   },
   "outputs": [
    {
     "name": "stdout",
     "output_type": "stream",
     "text": [
      "('year', 2001, 'count', 568517)\n",
      "('year', 2002, 'count', 490879)\n",
      "('year', 2003, 'count', 475913)\n",
      "('year', 2004, 'count', 388205)\n",
      "('year', 2005, 'count', 455811)\n",
      "('year', 2006, 'count', 794684)\n",
      "('year', 2007, 'count', 621848)\n",
      "('year', 2008, 'count', 852053)\n",
      "('year', 2009, 'count', 783900)\n",
      "('year', 2010, 'count', 700691)\n",
      "('year', 2011, 'count', 352066)\n",
      "('year', 2012, 'count', 335670)\n",
      "('year', 2013, 'count', 306703)\n",
      "('year', 2014, 'count', 274527)\n",
      "('year', 2015, 'count', 262995)\n",
      "('year', 2016, 'count', 265462)\n",
      "('year', 2017, 'count', 11357)\n",
      "7941281\n"
     ]
    }
   ],
   "source": [
    "total_count = 0\n",
    "for year in range(2001,2018):\n",
    "    temp_df_3 = crimes_2001_17[crimes_2001_17['Year']==year]\n",
    "    print('year', year, 'count', temp_df_3.shape[0])\n",
    "    total_count += temp_df_3.shape[0]\n",
    "print(total_count)"
   ]
  },
  {
   "cell_type": "code",
   "execution_count": 18,
   "metadata": {
    "collapsed": false
   },
   "outputs": [
    {
     "data": {
      "text/plain": [
       "$500 AND UNDER                      611161\n",
       "OVER $500                           412497\n",
       "FROM BUILDING                       270438\n",
       "RETAIL THEFT                        188945\n",
       "FINANCIAL ID THEFT: OVER $300        57810\n",
       "POCKET-PICKING                       36532\n",
       "PURSE-SNATCHING                      19868\n",
       "FINANCIAL ID THEFT:$300 &UNDER       19590\n",
       "ATTEMPT THEFT                        13243\n",
       "ATTEMPT FINANCIAL IDENTITY THEFT      4067\n",
       "AGG: FINANCIAL ID THEFT               3954\n",
       "FROM COIN-OP MACHINE/DEVICE           1364\n",
       "DELIVERY CONTAINER THEFT              1001\n",
       "$300 AND UNDER                          19\n",
       "OVER $300                               16\n",
       "THEFT RETAIL                             1\n",
       "Name: Description, dtype: int64"
      ]
     },
     "execution_count": 18,
     "metadata": {},
     "output_type": "execute_result"
    }
   ],
   "source": [
    "crimes_2001_17[crimes_2001_17['Primary Type'] == 'THEFT'].Description.value_counts()"
   ]
  }
 ],
 "metadata": {
  "kernelspec": {
   "display_name": "Python 2",
   "language": "python",
   "name": "python2"
  },
  "language_info": {
   "codemirror_mode": {
    "name": "ipython",
    "version": 2
   },
   "file_extension": ".py",
   "mimetype": "text/x-python",
   "name": "python",
   "nbconvert_exporter": "python",
   "pygments_lexer": "ipython2",
   "version": "2.7.13"
  }
 },
 "nbformat": 4,
 "nbformat_minor": 2
}
