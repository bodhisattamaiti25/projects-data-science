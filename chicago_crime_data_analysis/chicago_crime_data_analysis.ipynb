{
 "cells": [
  {
   "cell_type": "code",
   "execution_count": 1,
   "metadata": {
    "collapsed": true
   },
   "outputs": [],
   "source": [
    "import pandas as pd\n",
    "import numpy as np\n",
    "import matplotlib.pyplot as plt"
   ]
  },
  {
   "cell_type": "code",
   "execution_count": 6,
   "metadata": {
    "collapsed": false
   },
   "outputs": [
    {
     "name": "stderr",
     "output_type": "stream",
     "text": [
      "Skipping line 1513591: expected 23 fields, saw 24\n",
      "\n"
     ]
    },
    {
     "name": "stdout",
     "output_type": "stream",
     "text": [
      "('crimes_2001_04 shape', (1923515, 23))\n"
     ]
    },
    {
     "name": "stderr",
     "output_type": "stream",
     "text": [
      "Skipping line 533719: expected 23 fields, saw 24\n",
      "\n"
     ]
    },
    {
     "name": "stdout",
     "output_type": "stream",
     "text": [
      "('crimes_2005_07 shape', (1872343, 23))\n"
     ]
    },
    {
     "name": "stderr",
     "output_type": "stream",
     "text": [
      "Skipping line 1149094: expected 23 fields, saw 41\n",
      "\n"
     ]
    },
    {
     "name": "stdout",
     "output_type": "stream",
     "text": [
      "('crimes_2008_11 shape', (2688710, 23))\n",
      "('crimes_2012_17 shape', (1456714, 23))\n"
     ]
    }
   ],
   "source": [
    "crimes_2001_04 = pd.read_csv('Chicago_Crimes_2001_to_2004.csv', error_bad_lines=False)\n",
    "print('crimes_2001_04 shape',crimes_2001_04.shape)\n",
    "crimes_2005_07 = pd.read_csv('Chicago_Crimes_2005_to_2007.csv', error_bad_lines=False)\n",
    "print('crimes_2005_07 shape', crimes_2005_07.shape)\n",
    "crimes_2008_11 = pd.read_csv('Chicago_Crimes_2008_to_2011.csv', error_bad_lines=False)\n",
    "print('crimes_2008_11 shape', crimes_2008_11.shape)\n",
    "crimes_2012_17 = pd.read_csv('Chicago_Crimes_2012_to_2017.csv', error_bad_lines=False)\n",
    "print('crimes_2012_17 shape', crimes_2012_17.shape)"
   ]
  },
  {
   "cell_type": "code",
   "execution_count": 7,
   "metadata": {
    "collapsed": false
   },
   "outputs": [],
   "source": [
    "crimes_2001_17 = pd.concat([crimes_2001_04, crimes_2005_07, crimes_2008_11, crimes_2012_17])"
   ]
  },
  {
   "cell_type": "code",
   "execution_count": 8,
   "metadata": {
    "collapsed": false
   },
   "outputs": [
    {
     "data": {
      "text/plain": [
       "(7941282, 23)"
      ]
     },
     "execution_count": 8,
     "metadata": {},
     "output_type": "execute_result"
    }
   ],
   "source": [
    "crimes_2001_17.shape"
   ]
  },
  {
   "cell_type": "code",
   "execution_count": 9,
   "metadata": {
    "collapsed": false
   },
   "outputs": [
    {
     "data": {
      "text/plain": [
       "Index([u'Unnamed: 0', u'ID', u'Case Number', u'Date', u'Block', u'IUCR',\n",
       "       u'Primary Type', u'Description', u'Location Description', u'Arrest',\n",
       "       u'Domestic', u'Beat', u'District', u'Ward', u'Community Area',\n",
       "       u'FBI Code', u'X Coordinate', u'Y Coordinate', u'Year', u'Updated On',\n",
       "       u'Latitude', u'Longitude', u'Location'],\n",
       "      dtype='object')"
      ]
     },
     "execution_count": 9,
     "metadata": {},
     "output_type": "execute_result"
    }
   ],
   "source": [
    "crimes_2001_17.columns"
   ]
  },
  {
   "cell_type": "code",
   "execution_count": 10,
   "metadata": {
    "collapsed": false
   },
   "outputs": [
    {
     "name": "stdout",
     "output_type": "stream",
     "text": [
      "   Unnamed: 0       ID Case Number                    Date  \\\n",
      "0         879  4786321    HM399414  01/01/2004 12:01:00 AM   \n",
      "1        2544  4676906    HM278933  03/01/2003 12:00:00 AM   \n",
      "2        2919  4789749    HM402220  06/20/2004 11:00:00 AM   \n",
      "3        2927  4789765    HM402058  12/30/2004 08:00:00 PM   \n",
      "4        3302  4677901    HM275615  05/01/2003 01:00:00 AM   \n",
      "5        3633  4838048    HM440266  08/01/2004 12:01:00 AM   \n",
      "6        3756  4791194    HM403711  01/01/2001 11:00:00 AM   \n",
      "7        4502  4679521    HM216293  03/15/2003 12:00:00 AM   \n",
      "8        4564  4792195    HM405396  09/16/2004 10:00:00 AM   \n",
      "9        4904  4680124    HM282389  01/01/2003 12:00:00 AM   \n",
      "\n",
      "                     Block  IUCR                Primary Type  \\\n",
      "0        082XX S COLES AVE  0840                       THEFT   \n",
      "1          004XX W 42ND PL  2825               OTHER OFFENSE   \n",
      "2      025XX N KIMBALL AVE  1752  OFFENSE INVOLVING CHILDREN   \n",
      "3       045XX W MONTANA ST  0840                       THEFT   \n",
      "4       111XX S NORMAL AVE  0841                       THEFT   \n",
      "5      012XX S HARDING AVE  0841                       THEFT   \n",
      "6  114XX S ST LAWRENCE AVE  0266         CRIM SEXUAL ASSAULT   \n",
      "7       090XX S RACINE AVE  5007               OTHER OFFENSE   \n",
      "8       003XX W HUBBARD ST  0890                       THEFT   \n",
      "9    009XX S SPAULDING AVE  0840                       THEFT   \n",
      "\n",
      "                      Description     Location Description Arrest  \\\n",
      "0   FINANCIAL ID THEFT: OVER $300                RESIDENCE  False   \n",
      "1         HARASSMENT BY TELEPHONE                RESIDENCE  False   \n",
      "2   AGG CRIM SEX ABUSE FAM MEMBER                RESIDENCE  False   \n",
      "3   FINANCIAL ID THEFT: OVER $300                    OTHER  False   \n",
      "4  FINANCIAL ID THEFT:$300 &UNDER                RESIDENCE  False   \n",
      "5  FINANCIAL ID THEFT:$300 &UNDER                APARTMENT  False   \n",
      "6                       PREDATORY                RESIDENCE   True   \n",
      "7         OTHER WEAPONS VIOLATION  RESIDENCE PORCH/HALLWAY  False   \n",
      "8                   FROM BUILDING                RESIDENCE  False   \n",
      "9   FINANCIAL ID THEFT: OVER $300                RESIDENCE  False   \n",
      "\n",
      "               ...                Ward  Community Area  FBI Code  \\\n",
      "0              ...                 7.0            46.0        06   \n",
      "1              ...                11.0            61.0        26   \n",
      "2              ...                35.0            22.0        20   \n",
      "3              ...                31.0            20.0        06   \n",
      "4              ...                34.0            49.0        06   \n",
      "5              ...                24.0            29.0        06   \n",
      "6              ...                 9.0            50.0        02   \n",
      "7              ...                21.0            73.0        26   \n",
      "8              ...                42.0             8.0        06   \n",
      "9              ...                24.0            29.0        06   \n",
      "\n",
      "   X Coordinate  Y Coordinate    Year              Updated On Latitude  \\\n",
      "0           NaN           NaN  2004.0  08/17/2015 03:03:40 PM      NaN   \n",
      "1     1173974.0   1.87676e+06  2003.0  04/15/2016 08:55:02 AM  41.8172   \n",
      "2           NaN           NaN  2004.0  08/17/2015 03:03:40 PM      NaN   \n",
      "3           NaN           NaN  2004.0  08/17/2015 03:03:40 PM      NaN   \n",
      "4     1174948.0   1.83105e+06  2003.0  04/15/2016 08:55:02 AM  41.6918   \n",
      "5           NaN           NaN  2004.0  08/17/2015 03:03:40 PM      NaN   \n",
      "6     1182247.0   1.82938e+06  2001.0  08/29/2006 03:46:28 AM   41.687   \n",
      "7     1169911.0   1.84483e+06  2003.0  04/15/2016 08:55:02 AM  41.7297   \n",
      "8           NaN           NaN  2004.0  08/17/2015 03:03:40 PM      NaN   \n",
      "9     1154521.0   1.89576e+06  2003.0  04/15/2016 08:55:02 AM  41.8698   \n",
      "\n",
      "   Longitude                       Location  \n",
      "0        NaN                            NaN  \n",
      "1 -87.637328  (41.817229156, -87.637328162)  \n",
      "2        NaN                            NaN  \n",
      "3        NaN                            NaN  \n",
      "4 -87.635116  (41.691784636, -87.635115968)  \n",
      "5        NaN                            NaN  \n",
      "6 -87.608445   (41.687020002, -87.60844523)  \n",
      "7 -87.653159  (41.729712374, -87.653158513)  \n",
      "8        NaN                            NaN  \n",
      "9 -87.708180  (41.869772159, -87.708180162)  \n",
      "\n",
      "[10 rows x 23 columns]\n"
     ]
    }
   ],
   "source": [
    "print(crimes_2001_17.head(10))"
   ]
  },
  {
   "cell_type": "code",
   "execution_count": 11,
   "metadata": {
    "collapsed": false
   },
   "outputs": [
    {
     "data": {
      "text/plain": [
       "Unnamed: 0                int64\n",
       "ID                        int64\n",
       "Case Number              object\n",
       "Date                     object\n",
       "Block                    object\n",
       "IUCR                     object\n",
       "Primary Type             object\n",
       "Description              object\n",
       "Location Description     object\n",
       "Arrest                     bool\n",
       "Domestic                   bool\n",
       "Beat                      int64\n",
       "District                float64\n",
       "Ward                    float64\n",
       "Community Area          float64\n",
       "FBI Code                 object\n",
       "X Coordinate            float64\n",
       "Y Coordinate             object\n",
       "Year                    float64\n",
       "Updated On               object\n",
       "Latitude                 object\n",
       "Longitude               float64\n",
       "Location                 object\n",
       "dtype: object"
      ]
     },
     "execution_count": 11,
     "metadata": {},
     "output_type": "execute_result"
    }
   ],
   "source": [
    "crimes_2001_17.dtypes"
   ]
  },
  {
   "cell_type": "code",
   "execution_count": 12,
   "metadata": {
    "collapsed": false
   },
   "outputs": [
    {
     "data": {
      "text/plain": [
       "Unnamed: 0                   0\n",
       "ID                           0\n",
       "Case Number                  7\n",
       "Date                         0\n",
       "Block                        0\n",
       "IUCR                         0\n",
       "Primary Type                 0\n",
       "Description                  0\n",
       "Location Description      1990\n",
       "Arrest                       0\n",
       "Domestic                     0\n",
       "Beat                         0\n",
       "District                    91\n",
       "Ward                    700224\n",
       "Community Area          702091\n",
       "FBI Code                     0\n",
       "X Coordinate            105573\n",
       "Y Coordinate            105573\n",
       "Year                         0\n",
       "Updated On                   0\n",
       "Latitude                105573\n",
       "Longitude               105574\n",
       "Location                105574\n",
       "dtype: int64"
      ]
     },
     "execution_count": 12,
     "metadata": {},
     "output_type": "execute_result"
    }
   ],
   "source": [
    "crimes_2001_17.isnull().sum()"
   ]
  },
  {
   "cell_type": "code",
   "execution_count": 13,
   "metadata": {
    "collapsed": false
   },
   "outputs": [
    {
     "data": {
      "text/plain": [
       "THEFT                                1640506\n",
       "BATTERY                              1442716\n",
       "CRIMINAL DAMAGE                       923000\n",
       "NARCOTICS                             885431\n",
       "OTHER OFFENSE                         491922\n",
       "ASSAULT                               481661\n",
       "BURGLARY                              470958\n",
       "MOTOR VEHICLE THEFT                   370548\n",
       "ROBBERY                               300453\n",
       "DECEPTIVE PRACTICE                    280931\n",
       "CRIMINAL TRESPASS                     229366\n",
       "PROSTITUTION                           86401\n",
       "WEAPONS VIOLATION                      77429\n",
       "PUBLIC PEACE VIOLATION                 58548\n",
       "OFFENSE INVOLVING CHILDREN             51441\n",
       "CRIM SEXUAL ASSAULT                    29868\n",
       "SEX OFFENSE                            28707\n",
       "GAMBLING                               18806\n",
       "LIQUOR LAW VIOLATION                   17513\n",
       "INTERFERENCE WITH PUBLIC OFFICER       15710\n",
       "ARSON                                  13097\n",
       "HOMICIDE                                9051\n",
       "KIDNAPPING                              7756\n",
       "INTIMIDATION                            4636\n",
       "STALKING                                3734\n",
       "OBSCENITY                                496\n",
       "PUBLIC INDECENCY                         163\n",
       "OTHER NARCOTIC VIOLATION                 144\n",
       "NON-CRIMINAL                              97\n",
       "CONCEALED CARRY LICENSE VIOLATION         90\n",
       "NON - CRIMINAL                            38\n",
       "RITUALISM                                 31\n",
       "HUMAN TRAFFICKING                         28\n",
       "NON-CRIMINAL (SUBJECT SPECIFIED)           4\n",
       "DOMESTIC VIOLENCE                          2\n",
       "Name: Primary Type, dtype: int64"
      ]
     },
     "execution_count": 13,
     "metadata": {},
     "output_type": "execute_result"
    }
   ],
   "source": [
    "crimes_2001_17['Primary Type'].value_counts()"
   ]
  },
  {
   "cell_type": "code",
   "execution_count": null,
   "metadata": {
    "collapsed": true
   },
   "outputs": [],
   "source": []
  }
 ],
 "metadata": {
  "kernelspec": {
   "display_name": "Python 2",
   "language": "python",
   "name": "python2"
  },
  "language_info": {
   "codemirror_mode": {
    "name": "ipython",
    "version": 2
   },
   "file_extension": ".py",
   "mimetype": "text/x-python",
   "name": "python",
   "nbconvert_exporter": "python",
   "pygments_lexer": "ipython2",
   "version": "2.7.13"
  }
 },
 "nbformat": 4,
 "nbformat_minor": 2
}
