{
 "cells": [
  {
   "cell_type": "code",
   "execution_count": 2,
   "metadata": {
    "collapsed": true
   },
   "outputs": [],
   "source": [
    "import pandas as pd\n",
    "import numpy as np\n",
    "import matplotlib.pyplot as plt"
   ]
  },
  {
   "cell_type": "code",
   "execution_count": 14,
   "metadata": {
    "collapsed": false
   },
   "outputs": [
    {
     "name": "stderr",
     "output_type": "stream",
     "text": [
      "Skipping line 1513591: expected 23 fields, saw 24\n",
      "\n"
     ]
    },
    {
     "name": "stdout",
     "output_type": "stream",
     "text": [
      "('crimes_2001_04 shape', (1923515, 22))\n"
     ]
    },
    {
     "name": "stderr",
     "output_type": "stream",
     "text": [
      "Skipping line 533719: expected 23 fields, saw 24\n",
      "\n"
     ]
    },
    {
     "name": "stdout",
     "output_type": "stream",
     "text": [
      "('crimes_2005_07 shape', (1872343, 22))\n"
     ]
    },
    {
     "name": "stderr",
     "output_type": "stream",
     "text": [
      "Skipping line 1149094: expected 23 fields, saw 41\n",
      "\n"
     ]
    },
    {
     "name": "stdout",
     "output_type": "stream",
     "text": [
      "('crimes_2008_11 shape', (2688710, 22))\n",
      "('crimes_2012_17 shape', (1456714, 22))\n"
     ]
    }
   ],
   "source": [
    "chicago_crimes_2001_04 = pd.read_csv('Chicago_Crimes_2001_to_2004.csv', error_bad_lines=False, index_col=0)\n",
    "print('crimes_2001_04 shape',chicago_crimes_2001_04.shape)\n",
    "chicago_crimes_2005_07 = pd.read_csv('Chicago_Crimes_2005_to_2007.csv', error_bad_lines=False, index_col=0)\n",
    "print('crimes_2005_07 shape', chicago_crimes_2005_07.shape)\n",
    "chicago_crimes_2008_11 = pd.read_csv('Chicago_Crimes_2008_to_2011.csv', error_bad_lines=False, index_col=0)\n",
    "print('crimes_2008_11 shape', chicago_crimes_2008_11.shape)\n",
    "chicago_crimes_2012_17 = pd.read_csv('Chicago_Crimes_2012_to_2017.csv', error_bad_lines=False, index_col=0)\n",
    "print('crimes_2012_17 shape', chicago_crimes_2012_17.shape)"
   ]
  },
  {
   "cell_type": "code",
   "execution_count": 15,
   "metadata": {
    "collapsed": false
   },
   "outputs": [],
   "source": [
    "crimes_2001_17 = pd.concat([chicago_crimes_2001_04, chicago_crimes_2005_07, chicago_crimes_2008_11, chicago_crimes_2012_17])"
   ]
  },
  {
   "cell_type": "code",
   "execution_count": 16,
   "metadata": {
    "collapsed": false
   },
   "outputs": [
    {
     "data": {
      "text/plain": [
       "(7941282, 22)"
      ]
     },
     "execution_count": 16,
     "metadata": {},
     "output_type": "execute_result"
    }
   ],
   "source": [
    "crimes_2001_17.shape"
   ]
  },
  {
   "cell_type": "code",
   "execution_count": 17,
   "metadata": {
    "collapsed": false
   },
   "outputs": [
    {
     "data": {
      "text/plain": [
       "Index([u'ID', u'Case Number', u'Date', u'Block', u'IUCR', u'Primary Type',\n",
       "       u'Description', u'Location Description', u'Arrest', u'Domestic',\n",
       "       u'Beat', u'District', u'Ward', u'Community Area', u'FBI Code',\n",
       "       u'X Coordinate', u'Y Coordinate', u'Year', u'Updated On', u'Latitude',\n",
       "       u'Longitude', u'Location'],\n",
       "      dtype='object')"
      ]
     },
     "execution_count": 17,
     "metadata": {},
     "output_type": "execute_result"
    }
   ],
   "source": [
    "crimes_2001_17.columns"
   ]
  },
  {
   "cell_type": "code",
   "execution_count": 18,
   "metadata": {
    "collapsed": false
   },
   "outputs": [
    {
     "name": "stdout",
     "output_type": "stream",
     "text": [
      "           ID Case Number                    Date                    Block  \\\n",
      "879   4786321    HM399414  01/01/2004 12:01:00 AM        082XX S COLES AVE   \n",
      "2544  4676906    HM278933  03/01/2003 12:00:00 AM          004XX W 42ND PL   \n",
      "2919  4789749    HM402220  06/20/2004 11:00:00 AM      025XX N KIMBALL AVE   \n",
      "2927  4789765    HM402058  12/30/2004 08:00:00 PM       045XX W MONTANA ST   \n",
      "3302  4677901    HM275615  05/01/2003 01:00:00 AM       111XX S NORMAL AVE   \n",
      "3633  4838048    HM440266  08/01/2004 12:01:00 AM      012XX S HARDING AVE   \n",
      "3756  4791194    HM403711  01/01/2001 11:00:00 AM  114XX S ST LAWRENCE AVE   \n",
      "4502  4679521    HM216293  03/15/2003 12:00:00 AM       090XX S RACINE AVE   \n",
      "4564  4792195    HM405396  09/16/2004 10:00:00 AM       003XX W HUBBARD ST   \n",
      "4904  4680124    HM282389  01/01/2003 12:00:00 AM    009XX S SPAULDING AVE   \n",
      "\n",
      "      IUCR                Primary Type                     Description  \\\n",
      "879   0840                       THEFT   FINANCIAL ID THEFT: OVER $300   \n",
      "2544  2825               OTHER OFFENSE         HARASSMENT BY TELEPHONE   \n",
      "2919  1752  OFFENSE INVOLVING CHILDREN   AGG CRIM SEX ABUSE FAM MEMBER   \n",
      "2927  0840                       THEFT   FINANCIAL ID THEFT: OVER $300   \n",
      "3302  0841                       THEFT  FINANCIAL ID THEFT:$300 &UNDER   \n",
      "3633  0841                       THEFT  FINANCIAL ID THEFT:$300 &UNDER   \n",
      "3756  0266         CRIM SEXUAL ASSAULT                       PREDATORY   \n",
      "4502  5007               OTHER OFFENSE         OTHER WEAPONS VIOLATION   \n",
      "4564  0890                       THEFT                   FROM BUILDING   \n",
      "4904  0840                       THEFT   FINANCIAL ID THEFT: OVER $300   \n",
      "\n",
      "         Location Description Arrest Domestic              ...                \\\n",
      "879                 RESIDENCE  False    False              ...                 \n",
      "2544                RESIDENCE  False     True              ...                 \n",
      "2919                RESIDENCE  False    False              ...                 \n",
      "2927                    OTHER  False    False              ...                 \n",
      "3302                RESIDENCE  False    False              ...                 \n",
      "3633                APARTMENT  False    False              ...                 \n",
      "3756                RESIDENCE   True     True              ...                 \n",
      "4502  RESIDENCE PORCH/HALLWAY  False    False              ...                 \n",
      "4564                RESIDENCE  False    False              ...                 \n",
      "4904                RESIDENCE  False    False              ...                 \n",
      "\n",
      "      Ward  Community Area  FBI Code  X Coordinate Y Coordinate    Year  \\\n",
      "879    7.0            46.0        06           NaN          NaN  2004.0   \n",
      "2544  11.0            61.0        26     1173974.0  1.87676e+06  2003.0   \n",
      "2919  35.0            22.0        20           NaN          NaN  2004.0   \n",
      "2927  31.0            20.0        06           NaN          NaN  2004.0   \n",
      "3302  34.0            49.0        06     1174948.0  1.83105e+06  2003.0   \n",
      "3633  24.0            29.0        06           NaN          NaN  2004.0   \n",
      "3756   9.0            50.0        02     1182247.0  1.82938e+06  2001.0   \n",
      "4502  21.0            73.0        26     1169911.0  1.84483e+06  2003.0   \n",
      "4564  42.0             8.0        06           NaN          NaN  2004.0   \n",
      "4904  24.0            29.0        06     1154521.0  1.89576e+06  2003.0   \n",
      "\n",
      "                  Updated On  Latitude  Longitude  \\\n",
      "879   08/17/2015 03:03:40 PM       NaN        NaN   \n",
      "2544  04/15/2016 08:55:02 AM   41.8172 -87.637328   \n",
      "2919  08/17/2015 03:03:40 PM       NaN        NaN   \n",
      "2927  08/17/2015 03:03:40 PM       NaN        NaN   \n",
      "3302  04/15/2016 08:55:02 AM   41.6918 -87.635116   \n",
      "3633  08/17/2015 03:03:40 PM       NaN        NaN   \n",
      "3756  08/29/2006 03:46:28 AM    41.687 -87.608445   \n",
      "4502  04/15/2016 08:55:02 AM   41.7297 -87.653159   \n",
      "4564  08/17/2015 03:03:40 PM       NaN        NaN   \n",
      "4904  04/15/2016 08:55:02 AM   41.8698 -87.708180   \n",
      "\n",
      "                           Location  \n",
      "879                             NaN  \n",
      "2544  (41.817229156, -87.637328162)  \n",
      "2919                            NaN  \n",
      "2927                            NaN  \n",
      "3302  (41.691784636, -87.635115968)  \n",
      "3633                            NaN  \n",
      "3756   (41.687020002, -87.60844523)  \n",
      "4502  (41.729712374, -87.653158513)  \n",
      "4564                            NaN  \n",
      "4904  (41.869772159, -87.708180162)  \n",
      "\n",
      "[10 rows x 22 columns]\n"
     ]
    }
   ],
   "source": [
    "print(crimes_2001_17.head(10))"
   ]
  },
  {
   "cell_type": "code",
   "execution_count": 19,
   "metadata": {
    "collapsed": false
   },
   "outputs": [
    {
     "data": {
      "text/plain": [
       "ID                        int64\n",
       "Case Number              object\n",
       "Date                     object\n",
       "Block                    object\n",
       "IUCR                     object\n",
       "Primary Type             object\n",
       "Description              object\n",
       "Location Description     object\n",
       "Arrest                     bool\n",
       "Domestic                   bool\n",
       "Beat                      int64\n",
       "District                float64\n",
       "Ward                    float64\n",
       "Community Area          float64\n",
       "FBI Code                 object\n",
       "X Coordinate            float64\n",
       "Y Coordinate             object\n",
       "Year                    float64\n",
       "Updated On               object\n",
       "Latitude                 object\n",
       "Longitude               float64\n",
       "Location                 object\n",
       "dtype: object"
      ]
     },
     "execution_count": 19,
     "metadata": {},
     "output_type": "execute_result"
    }
   ],
   "source": [
    "crimes_2001_17.dtypes"
   ]
  },
  {
   "cell_type": "code",
   "execution_count": 20,
   "metadata": {
    "collapsed": false
   },
   "outputs": [
    {
     "data": {
      "text/plain": [
       "ID                           0\n",
       "Case Number                  7\n",
       "Date                         0\n",
       "Block                        0\n",
       "IUCR                         0\n",
       "Primary Type                 0\n",
       "Description                  0\n",
       "Location Description      1990\n",
       "Arrest                       0\n",
       "Domestic                     0\n",
       "Beat                         0\n",
       "District                    91\n",
       "Ward                    700224\n",
       "Community Area          702091\n",
       "FBI Code                     0\n",
       "X Coordinate            105573\n",
       "Y Coordinate            105573\n",
       "Year                         0\n",
       "Updated On                   0\n",
       "Latitude                105573\n",
       "Longitude               105574\n",
       "Location                105574\n",
       "dtype: int64"
      ]
     },
     "execution_count": 20,
     "metadata": {},
     "output_type": "execute_result"
    }
   ],
   "source": [
    "crimes_2001_17.isnull().sum()"
   ]
  },
  {
   "cell_type": "code",
   "execution_count": 30,
   "metadata": {
    "collapsed": false
   },
   "outputs": [
    {
     "data": {
      "text/plain": [
       "[('THEFT', 1640506),\n",
       " ('BATTERY', 1442716),\n",
       " ('CRIMINAL DAMAGE', 923000),\n",
       " ('NARCOTICS', 885431),\n",
       " ('OTHER OFFENSE', 491922),\n",
       " ('ASSAULT', 481661),\n",
       " ('BURGLARY', 470958),\n",
       " ('MOTOR VEHICLE THEFT', 370548),\n",
       " ('ROBBERY', 300453),\n",
       " ('DECEPTIVE PRACTICE', 280931),\n",
       " ('CRIMINAL TRESPASS', 229366),\n",
       " ('PROSTITUTION', 86401),\n",
       " ('WEAPONS VIOLATION', 77429),\n",
       " ('PUBLIC PEACE VIOLATION', 58548),\n",
       " ('OFFENSE INVOLVING CHILDREN', 51441),\n",
       " ('CRIM SEXUAL ASSAULT', 29868),\n",
       " ('SEX OFFENSE', 28707),\n",
       " ('GAMBLING', 18806),\n",
       " ('LIQUOR LAW VIOLATION', 17513),\n",
       " ('INTERFERENCE WITH PUBLIC OFFICER', 15710),\n",
       " ('ARSON', 13097),\n",
       " ('HOMICIDE', 9051),\n",
       " ('KIDNAPPING', 7756),\n",
       " ('INTIMIDATION', 4636),\n",
       " ('STALKING', 3734),\n",
       " ('OBSCENITY', 496),\n",
       " ('PUBLIC INDECENCY', 163),\n",
       " ('OTHER NARCOTIC VIOLATION', 144),\n",
       " ('NON-CRIMINAL', 97),\n",
       " ('CONCEALED CARRY LICENSE VIOLATION', 90),\n",
       " ('NON - CRIMINAL', 38),\n",
       " ('RITUALISM', 31),\n",
       " ('HUMAN TRAFFICKING', 28),\n",
       " ('NON-CRIMINAL (SUBJECT SPECIFIED)', 4),\n",
       " ('DOMESTIC VIOLENCE', 2)]"
      ]
     },
     "execution_count": 30,
     "metadata": {},
     "output_type": "execute_result"
    }
   ],
   "source": [
    "primary_crime_type_counts = crimes_2001_17['Primary Type'].value_counts()\n",
    "primary_crime_type_counts = primary_crime_type_counts.to_dict()\n",
    "primary_crime_type_counts = sorted(primary_crime_type_counts.items(), key=lambda x:x[1], reverse=True)\n",
    "primary_crime_type_counts"
   ]
  },
  {
   "cell_type": "code",
   "execution_count": 32,
   "metadata": {
    "collapsed": false
   },
   "outputs": [
    {
     "name": "stdout",
     "output_type": "stream",
     "text": [
      "('THEFT', 'BATTERY', 'CRIMINAL DAMAGE', 'NARCOTICS', 'OTHER OFFENSE', 'ASSAULT', 'BURGLARY', 'MOTOR VEHICLE THEFT', 'ROBBERY', 'DECEPTIVE PRACTICE', 'CRIMINAL TRESPASS', 'PROSTITUTION', 'WEAPONS VIOLATION', 'PUBLIC PEACE VIOLATION', 'OFFENSE INVOLVING CHILDREN', 'CRIM SEXUAL ASSAULT', 'SEX OFFENSE', 'GAMBLING', 'LIQUOR LAW VIOLATION', 'INTERFERENCE WITH PUBLIC OFFICER', 'ARSON', 'HOMICIDE', 'KIDNAPPING', 'INTIMIDATION', 'STALKING', 'OBSCENITY', 'PUBLIC INDECENCY', 'OTHER NARCOTIC VIOLATION', 'NON-CRIMINAL', 'CONCEALED CARRY LICENSE VIOLATION', 'NON - CRIMINAL', 'RITUALISM', 'HUMAN TRAFFICKING', 'NON-CRIMINAL (SUBJECT SPECIFIED)', 'DOMESTIC VIOLENCE')\n",
      "(1640506, 1442716, 923000, 885431, 491922, 481661, 470958, 370548, 300453, 280931, 229366, 86401, 77429, 58548, 51441, 29868, 28707, 18806, 17513, 15710, 13097, 9051, 7756, 4636, 3734, 496, 163, 144, 97, 90, 38, 31, 28, 4, 2)\n"
     ]
    }
   ],
   "source": [
    "unzip_crime_data = zip(*primary_crime_type_counts)\n",
    "print(unzip_crime_data[0])\n",
    "print(unzip_crime_data[1])"
   ]
  },
  {
   "cell_type": "code",
   "execution_count": 42,
   "metadata": {
    "collapsed": false
   },
   "outputs": [
    {
     "data": {
      "image/png": "[encoded data removed]",
      "text/plain": [
       "<matplotlib.figure.Figure at 0x1c8720b90>"
      ]
     },
     "metadata": {},
     "output_type": "display_data"
    }
   ],
   "source": [
    "fig, ax = plt.subplots()\n",
    "\n",
    "crime_type = unzip_crime_data[0][0:10]\n",
    "crime_count = unzip_crime_data[1][0:10]\n",
    "y_pos = np.arange(len(crime_type))\n",
    "\n",
    "ax.barh(y_pos, crime_count, align='center', color='red')\n",
    "ax.set_yticks(y_pos)\n",
    "\n",
    "ax.set_yticklabels(crime_type)\n",
    "ax.invert_yaxis()  \n",
    "ax.set_xlabel('Count')\n",
    "ax.set_ylabel('Crime Type')\n",
    "ax.set_title('Top 10 Crimes in Chicago from 2001-2017')\n",
    "for cur_tick in ax.get_xticklabels():\n",
    "    cur_tick.set_rotation(35)\n",
    "plt.show()"
   ]
  },
  {
   "cell_type": "code",
   "execution_count": null,
   "metadata": {
    "collapsed": true
   },
   "outputs": [],
   "source": []
  }
 ],
 "metadata": {
  "kernelspec": {
   "display_name": "Python 2",
   "language": "python",
   "name": "python2"
  },
  "language_info": {
   "codemirror_mode": {
    "name": "ipython",
    "version": 2
   },
   "file_extension": ".py",
   "mimetype": "text/x-python",
   "name": "python",
   "nbconvert_exporter": "python",
   "pygments_lexer": "ipython2",
   "version": "2.7.13"
  }
 },
 "nbformat": 4,
 "nbformat_minor": 2
}
