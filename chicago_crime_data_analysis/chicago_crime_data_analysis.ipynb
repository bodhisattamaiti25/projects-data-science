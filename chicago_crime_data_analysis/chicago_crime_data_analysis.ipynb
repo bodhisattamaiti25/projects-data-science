{
 "cells": [
  {
   "cell_type": "code",
   "execution_count": 1,
   "metadata": {
    "collapsed": true
   },
   "outputs": [],
   "source": [
    "import pandas as pd\n",
    "import numpy as np\n",
    "import matplotlib.pyplot as plt"
   ]
  },
  {
   "cell_type": "code",
   "execution_count": 2,
   "metadata": {
    "collapsed": false
   },
   "outputs": [
    {
     "name": "stderr",
     "output_type": "stream",
     "text": [
      "Skipping line 1513591: expected 23 fields, saw 24\n",
      "\n",
      "/anaconda/lib/python2.7/site-packages/IPython/core/interactiveshell.py:2718: DtypeWarning: Columns (17,20) have mixed types. Specify dtype option on import or set low_memory=False.\n",
      "  interactivity=interactivity, compiler=compiler, result=result)\n"
     ]
    },
    {
     "name": "stdout",
     "output_type": "stream",
     "text": [
      "('crimes_2001_04 shape', (1923515, 22))\n"
     ]
    },
    {
     "name": "stderr",
     "output_type": "stream",
     "text": [
      "Skipping line 533719: expected 23 fields, saw 24\n",
      "\n"
     ]
    },
    {
     "name": "stdout",
     "output_type": "stream",
     "text": [
      "('crimes_2005_07 shape', (1872343, 22))\n"
     ]
    },
    {
     "name": "stderr",
     "output_type": "stream",
     "text": [
      "Skipping line 1149094: expected 23 fields, saw 41\n",
      "\n"
     ]
    },
    {
     "name": "stdout",
     "output_type": "stream",
     "text": [
      "('crimes_2008_11 shape', (2688710, 22))\n",
      "('crimes_2012_17 shape', (1456714, 22))\n"
     ]
    }
   ],
   "source": [
    "chicago_crimes_2001_04 = pd.read_csv('Chicago_Crimes_2001_to_2004.csv', error_bad_lines=False, index_col=0)\n",
    "print('crimes_2001_04 shape',chicago_crimes_2001_04.shape)\n",
    "chicago_crimes_2005_07 = pd.read_csv('Chicago_Crimes_2005_to_2007.csv', error_bad_lines=False, index_col=0)\n",
    "print('crimes_2005_07 shape', chicago_crimes_2005_07.shape)\n",
    "chicago_crimes_2008_11 = pd.read_csv('Chicago_Crimes_2008_to_2011.csv', error_bad_lines=False, index_col=0)\n",
    "print('crimes_2008_11 shape', chicago_crimes_2008_11.shape)\n",
    "chicago_crimes_2012_17 = pd.read_csv('Chicago_Crimes_2012_to_2017.csv', error_bad_lines=False, index_col=0)\n",
    "print('crimes_2012_17 shape', chicago_crimes_2012_17.shape)"
   ]
  },
  {
   "cell_type": "code",
   "execution_count": 3,
   "metadata": {
    "collapsed": false
   },
   "outputs": [],
   "source": [
    "crimes_2001_17 = pd.concat([chicago_crimes_2001_04, chicago_crimes_2005_07, chicago_crimes_2008_11, chicago_crimes_2012_17])"
   ]
  },
  {
   "cell_type": "code",
   "execution_count": 4,
   "metadata": {
    "collapsed": false
   },
   "outputs": [
    {
     "data": {
      "text/plain": [
       "(7941282, 22)"
      ]
     },
     "execution_count": 4,
     "metadata": {},
     "output_type": "execute_result"
    }
   ],
   "source": [
    "crimes_2001_17.shape"
   ]
  },
  {
   "cell_type": "code",
   "execution_count": 5,
   "metadata": {
    "collapsed": false
   },
   "outputs": [
    {
     "data": {
      "text/plain": [
       "Index([u'ID', u'Case Number', u'Date', u'Block', u'IUCR', u'Primary Type',\n",
       "       u'Description', u'Location Description', u'Arrest', u'Domestic',\n",
       "       u'Beat', u'District', u'Ward', u'Community Area', u'FBI Code',\n",
       "       u'X Coordinate', u'Y Coordinate', u'Year', u'Updated On', u'Latitude',\n",
       "       u'Longitude', u'Location'],\n",
       "      dtype='object')"
      ]
     },
     "execution_count": 5,
     "metadata": {},
     "output_type": "execute_result"
    }
   ],
   "source": [
    "crimes_2001_17.columns"
   ]
  },
  {
   "cell_type": "code",
   "execution_count": 6,
   "metadata": {
    "collapsed": false
   },
   "outputs": [
    {
     "name": "stdout",
     "output_type": "stream",
     "text": [
      "           ID Case Number                    Date                    Block  \\\n",
      "879   4786321    HM399414  01/01/2004 12:01:00 AM        082XX S COLES AVE   \n",
      "2544  4676906    HM278933  03/01/2003 12:00:00 AM          004XX W 42ND PL   \n",
      "2919  4789749    HM402220  06/20/2004 11:00:00 AM      025XX N KIMBALL AVE   \n",
      "2927  4789765    HM402058  12/30/2004 08:00:00 PM       045XX W MONTANA ST   \n",
      "3302  4677901    HM275615  05/01/2003 01:00:00 AM       111XX S NORMAL AVE   \n",
      "3633  4838048    HM440266  08/01/2004 12:01:00 AM      012XX S HARDING AVE   \n",
      "3756  4791194    HM403711  01/01/2001 11:00:00 AM  114XX S ST LAWRENCE AVE   \n",
      "4502  4679521    HM216293  03/15/2003 12:00:00 AM       090XX S RACINE AVE   \n",
      "4564  4792195    HM405396  09/16/2004 10:00:00 AM       003XX W HUBBARD ST   \n",
      "4904  4680124    HM282389  01/01/2003 12:00:00 AM    009XX S SPAULDING AVE   \n",
      "\n",
      "      IUCR                Primary Type                     Description  \\\n",
      "879   0840                       THEFT   FINANCIAL ID THEFT: OVER $300   \n",
      "2544  2825               OTHER OFFENSE         HARASSMENT BY TELEPHONE   \n",
      "2919  1752  OFFENSE INVOLVING CHILDREN   AGG CRIM SEX ABUSE FAM MEMBER   \n",
      "2927  0840                       THEFT   FINANCIAL ID THEFT: OVER $300   \n",
      "3302  0841                       THEFT  FINANCIAL ID THEFT:$300 &UNDER   \n",
      "3633  0841                       THEFT  FINANCIAL ID THEFT:$300 &UNDER   \n",
      "3756  0266         CRIM SEXUAL ASSAULT                       PREDATORY   \n",
      "4502  5007               OTHER OFFENSE         OTHER WEAPONS VIOLATION   \n",
      "4564  0890                       THEFT                   FROM BUILDING   \n",
      "4904  0840                       THEFT   FINANCIAL ID THEFT: OVER $300   \n",
      "\n",
      "         Location Description Arrest Domestic              ...                \\\n",
      "879                 RESIDENCE  False    False              ...                 \n",
      "2544                RESIDENCE  False     True              ...                 \n",
      "2919                RESIDENCE  False    False              ...                 \n",
      "2927                    OTHER  False    False              ...                 \n",
      "3302                RESIDENCE  False    False              ...                 \n",
      "3633                APARTMENT  False    False              ...                 \n",
      "3756                RESIDENCE   True     True              ...                 \n",
      "4502  RESIDENCE PORCH/HALLWAY  False    False              ...                 \n",
      "4564                RESIDENCE  False    False              ...                 \n",
      "4904                RESIDENCE  False    False              ...                 \n",
      "\n",
      "      Ward  Community Area  FBI Code  X Coordinate Y Coordinate    Year  \\\n",
      "879    7.0            46.0        06           NaN          NaN  2004.0   \n",
      "2544  11.0            61.0        26     1173974.0  1.87676e+06  2003.0   \n",
      "2919  35.0            22.0        20           NaN          NaN  2004.0   \n",
      "2927  31.0            20.0        06           NaN          NaN  2004.0   \n",
      "3302  34.0            49.0        06     1174948.0  1.83105e+06  2003.0   \n",
      "3633  24.0            29.0        06           NaN          NaN  2004.0   \n",
      "3756   9.0            50.0        02     1182247.0  1.82938e+06  2001.0   \n",
      "4502  21.0            73.0        26     1169911.0  1.84483e+06  2003.0   \n",
      "4564  42.0             8.0        06           NaN          NaN  2004.0   \n",
      "4904  24.0            29.0        06     1154521.0  1.89576e+06  2003.0   \n",
      "\n",
      "                  Updated On  Latitude  Longitude  \\\n",
      "879   08/17/2015 03:03:40 PM       NaN        NaN   \n",
      "2544  04/15/2016 08:55:02 AM   41.8172 -87.637328   \n",
      "2919  08/17/2015 03:03:40 PM       NaN        NaN   \n",
      "2927  08/17/2015 03:03:40 PM       NaN        NaN   \n",
      "3302  04/15/2016 08:55:02 AM   41.6918 -87.635116   \n",
      "3633  08/17/2015 03:03:40 PM       NaN        NaN   \n",
      "3756  08/29/2006 03:46:28 AM    41.687 -87.608445   \n",
      "4502  04/15/2016 08:55:02 AM   41.7297 -87.653159   \n",
      "4564  08/17/2015 03:03:40 PM       NaN        NaN   \n",
      "4904  04/15/2016 08:55:02 AM   41.8698 -87.708180   \n",
      "\n",
      "                           Location  \n",
      "879                             NaN  \n",
      "2544  (41.817229156, -87.637328162)  \n",
      "2919                            NaN  \n",
      "2927                            NaN  \n",
      "3302  (41.691784636, -87.635115968)  \n",
      "3633                            NaN  \n",
      "3756   (41.687020002, -87.60844523)  \n",
      "4502  (41.729712374, -87.653158513)  \n",
      "4564                            NaN  \n",
      "4904  (41.869772159, -87.708180162)  \n",
      "\n",
      "[10 rows x 22 columns]\n"
     ]
    }
   ],
   "source": [
    "print(crimes_2001_17.head(10))"
   ]
  },
  {
   "cell_type": "code",
   "execution_count": 7,
   "metadata": {
    "collapsed": false
   },
   "outputs": [
    {
     "data": {
      "text/plain": [
       "ID                        int64\n",
       "Case Number              object\n",
       "Date                     object\n",
       "Block                    object\n",
       "IUCR                     object\n",
       "Primary Type             object\n",
       "Description              object\n",
       "Location Description     object\n",
       "Arrest                     bool\n",
       "Domestic                   bool\n",
       "Beat                      int64\n",
       "District                float64\n",
       "Ward                    float64\n",
       "Community Area          float64\n",
       "FBI Code                 object\n",
       "X Coordinate            float64\n",
       "Y Coordinate             object\n",
       "Year                    float64\n",
       "Updated On               object\n",
       "Latitude                 object\n",
       "Longitude               float64\n",
       "Location                 object\n",
       "dtype: object"
      ]
     },
     "execution_count": 7,
     "metadata": {},
     "output_type": "execute_result"
    }
   ],
   "source": [
    "crimes_2001_17.dtypes"
   ]
  },
  {
   "cell_type": "code",
   "execution_count": 8,
   "metadata": {
    "collapsed": false
   },
   "outputs": [
    {
     "data": {
      "text/plain": [
       "ID                           0\n",
       "Case Number                  7\n",
       "Date                         0\n",
       "Block                        0\n",
       "IUCR                         0\n",
       "Primary Type                 0\n",
       "Description                  0\n",
       "Location Description      1990\n",
       "Arrest                       0\n",
       "Domestic                     0\n",
       "Beat                         0\n",
       "District                    91\n",
       "Ward                    700224\n",
       "Community Area          702091\n",
       "FBI Code                     0\n",
       "X Coordinate            105573\n",
       "Y Coordinate            105573\n",
       "Year                         0\n",
       "Updated On                   0\n",
       "Latitude                105573\n",
       "Longitude               105574\n",
       "Location                105574\n",
       "dtype: int64"
      ]
     },
     "execution_count": 8,
     "metadata": {},
     "output_type": "execute_result"
    }
   ],
   "source": [
    "crimes_2001_17.isnull().sum()"
   ]
  },
  {
   "cell_type": "code",
   "execution_count": 9,
   "metadata": {
    "collapsed": false
   },
   "outputs": [
    {
     "data": {
      "text/plain": [
       "[('THEFT', 1640506),\n",
       " ('BATTERY', 1442716),\n",
       " ('CRIMINAL DAMAGE', 923000),\n",
       " ('NARCOTICS', 885431),\n",
       " ('OTHER OFFENSE', 491922),\n",
       " ('ASSAULT', 481661),\n",
       " ('BURGLARY', 470958),\n",
       " ('MOTOR VEHICLE THEFT', 370548),\n",
       " ('ROBBERY', 300453),\n",
       " ('DECEPTIVE PRACTICE', 280931),\n",
       " ('CRIMINAL TRESPASS', 229366),\n",
       " ('PROSTITUTION', 86401),\n",
       " ('WEAPONS VIOLATION', 77429),\n",
       " ('PUBLIC PEACE VIOLATION', 58548),\n",
       " ('OFFENSE INVOLVING CHILDREN', 51441),\n",
       " ('CRIM SEXUAL ASSAULT', 29868),\n",
       " ('SEX OFFENSE', 28707),\n",
       " ('GAMBLING', 18806),\n",
       " ('LIQUOR LAW VIOLATION', 17513),\n",
       " ('INTERFERENCE WITH PUBLIC OFFICER', 15710),\n",
       " ('ARSON', 13097),\n",
       " ('HOMICIDE', 9051),\n",
       " ('KIDNAPPING', 7756),\n",
       " ('INTIMIDATION', 4636),\n",
       " ('STALKING', 3734),\n",
       " ('OBSCENITY', 496),\n",
       " ('PUBLIC INDECENCY', 163),\n",
       " ('OTHER NARCOTIC VIOLATION', 144),\n",
       " ('NON-CRIMINAL', 97),\n",
       " ('CONCEALED CARRY LICENSE VIOLATION', 90),\n",
       " ('NON - CRIMINAL', 38),\n",
       " ('RITUALISM', 31),\n",
       " ('HUMAN TRAFFICKING', 28),\n",
       " ('NON-CRIMINAL (SUBJECT SPECIFIED)', 4),\n",
       " ('DOMESTIC VIOLENCE', 2)]"
      ]
     },
     "execution_count": 9,
     "metadata": {},
     "output_type": "execute_result"
    }
   ],
   "source": [
    "primary_crime_type_counts = crimes_2001_17['Primary Type'].value_counts()\n",
    "primary_crime_type_counts = primary_crime_type_counts.to_dict()\n",
    "primary_crime_type_counts = sorted(primary_crime_type_counts.items(), key=lambda x:x[1], reverse=True)\n",
    "primary_crime_type_counts"
   ]
  },
  {
   "cell_type": "code",
   "execution_count": 10,
   "metadata": {
    "collapsed": false
   },
   "outputs": [
    {
     "name": "stdout",
     "output_type": "stream",
     "text": [
      "('THEFT', 'BATTERY', 'CRIMINAL DAMAGE', 'NARCOTICS', 'OTHER OFFENSE', 'ASSAULT', 'BURGLARY', 'MOTOR VEHICLE THEFT', 'ROBBERY', 'DECEPTIVE PRACTICE', 'CRIMINAL TRESPASS', 'PROSTITUTION', 'WEAPONS VIOLATION', 'PUBLIC PEACE VIOLATION', 'OFFENSE INVOLVING CHILDREN', 'CRIM SEXUAL ASSAULT', 'SEX OFFENSE', 'GAMBLING', 'LIQUOR LAW VIOLATION', 'INTERFERENCE WITH PUBLIC OFFICER', 'ARSON', 'HOMICIDE', 'KIDNAPPING', 'INTIMIDATION', 'STALKING', 'OBSCENITY', 'PUBLIC INDECENCY', 'OTHER NARCOTIC VIOLATION', 'NON-CRIMINAL', 'CONCEALED CARRY LICENSE VIOLATION', 'NON - CRIMINAL', 'RITUALISM', 'HUMAN TRAFFICKING', 'NON-CRIMINAL (SUBJECT SPECIFIED)', 'DOMESTIC VIOLENCE')\n",
      "(1640506, 1442716, 923000, 885431, 491922, 481661, 470958, 370548, 300453, 280931, 229366, 86401, 77429, 58548, 51441, 29868, 28707, 18806, 17513, 15710, 13097, 9051, 7756, 4636, 3734, 496, 163, 144, 97, 90, 38, 31, 28, 4, 2)\n"
     ]
    }
   ],
   "source": [
    "unzip_crime_data = zip(*primary_crime_type_counts)\n",
    "print(unzip_crime_data[0])\n",
    "print(unzip_crime_data[1])"
   ]
  },
  {
   "cell_type": "code",
   "execution_count": 11,
   "metadata": {
    "collapsed": false
   },
   "outputs": [],
   "source": [
    "import matplotlib.pylab as pylab \n",
    "pylab.rcParams['figure.figsize'] = 15, 12"
   ]
  },
  {
   "cell_type": "code",
   "execution_count": 12,
   "metadata": {
    "collapsed": false
   },
   "outputs": [
    {
     "data": {
      "image/png": "[encoded data removed]",
      "text/plain": [
       "<matplotlib.figure.Figure at 0x1974b9f50>"
      ]
     },
     "metadata": {},
     "output_type": "display_data"
    }
   ],
   "source": [
    "fig1, ax1 = plt.subplots()\n",
    "\n",
    "crime_type = unzip_crime_data[0]\n",
    "crime_count = unzip_crime_data[1]\n",
    "y_pos = np.arange(len(crime_type))\n",
    "\n",
    "ax1.barh(y_pos, crime_count, align='center', color='red')\n",
    "ax1.set_yticks(y_pos)\n",
    "\n",
    "ax1.set_yticklabels(crime_type)\n",
    "ax1.invert_yaxis()  \n",
    "ax1.set_xlabel('Count')\n",
    "ax1.set_ylabel('Crime Type')\n",
    "ax1.set_title('Crimes in Chicago from 2001-2017')\n",
    "for cur_tick in ax1.get_xticklabels():\n",
    "    cur_tick.set_rotation(35)\n",
    "plt.show()"
   ]
  },
  {
   "cell_type": "code",
   "execution_count": 13,
   "metadata": {
    "collapsed": false
   },
   "outputs": [
    {
     "data": {
      "text/plain": [
       "[('STREET', 2101842),\n",
       " ('RESIDENCE', 1341749),\n",
       " ('SIDEWALK', 815595),\n",
       " ('APARTMENT', 812512),\n",
       " ('OTHER', 294286),\n",
       " ('PARKING LOT/GARAGE(NON.RESID.)', 225454),\n",
       " ('ALLEY', 180155),\n",
       " ('SCHOOL, PUBLIC, BUILDING', 173750),\n",
       " ('RESIDENCE-GARAGE', 158550),\n",
       " ('RESIDENCE PORCH/HALLWAY', 138492),\n",
       " ('SMALL RETAIL STORE', 134003),\n",
       " ('VEHICLE NON-COMMERCIAL', 128311),\n",
       " ('RESTAURANT', 116295),\n",
       " ('GROCERY FOOD STORE', 100812),\n",
       " ('DEPARTMENT STORE', 95201),\n",
       " ('GAS STATION', 82396),\n",
       " ('RESIDENTIAL YARD (FRONT/BACK)', 75442),\n",
       " ('CHA PARKING LOT/GROUNDS', 65124),\n",
       " ('PARK PROPERTY', 61322),\n",
       " ('COMMERCIAL / BUSINESS OFFICE', 58200),\n",
       " ('CTA PLATFORM', 44710),\n",
       " ('CHA APARTMENT', 41550),\n",
       " ('BAR OR TAVERN', 41169),\n",
       " ('DRUG STORE', 35671),\n",
       " ('SCHOOL, PUBLIC, GROUNDS', 34772),\n",
       " ('BANK', 32563),\n",
       " ('HOTEL/MOTEL', 31475),\n",
       " ('CHA HALLWAY/STAIRWELL/ELEVATOR', 30135),\n",
       " ('VACANT LOT/LAND', 28034),\n",
       " ('TAVERN/LIQUOR STORE', 26721),\n",
       " ('CTA TRAIN', 25855),\n",
       " ('CTA BUS', 25158),\n",
       " ('DRIVEWAY - RESIDENTIAL', 23519),\n",
       " ('HOSPITAL BUILDING/GROUNDS', 22801),\n",
       " ('AIRPORT/AIRCRAFT', 21873),\n",
       " ('POLICE FACILITY/VEH PARKING LOT', 20242),\n",
       " ('CHURCH/SYNAGOGUE/PLACE OF WORSHIP', 17653),\n",
       " ('GOVERNMENT BUILDING/PROPERTY', 16365),\n",
       " ('CONSTRUCTION SITE', 15970),\n",
       " ('CONVENIENCE STORE', 15743),\n",
       " ('SCHOOL, PRIVATE, BUILDING', 15433),\n",
       " ('NURSING HOME/RETIREMENT HOME', 14841),\n",
       " ('ABANDONED BUILDING', 13656),\n",
       " ('CURRENCY EXCHANGE', 12778),\n",
       " ('CTA GARAGE / OTHER PROPERTY', 12541),\n",
       " ('WAREHOUSE', 10895),\n",
       " ('BARBERSHOP', 9435),\n",
       " ('ATHLETIC CLUB', 9127),\n",
       " ('ATM (AUTOMATIC TELLER MACHINE)', 8895),\n",
       " ('MEDICAL/DENTAL OFFICE', 8415),\n",
       " ('FACTORY/MANUFACTURING BUILDING', 8300),\n",
       " ('TAXICAB', 8177),\n",
       " ('LIBRARY', 7181),\n",
       " ('COLLEGE/UNIVERSITY GROUNDS', 6809),\n",
       " ('OTHER RAILROAD PROP / TRAIN DEPOT', 6780),\n",
       " ('VEHICLE-COMMERCIAL', 6161),\n",
       " ('CTA BUS STOP', 5844),\n",
       " ('CLEANING STORE', 5787),\n",
       " ('SPORTS ARENA/STADIUM', 5774),\n",
       " ('SCHOOL, PRIVATE, GROUNDS', 4720),\n",
       " ('AIRPORT TERMINAL UPPER LEVEL - SECURE AREA', 3732),\n",
       " ('OTHER COMMERCIAL TRANSPORTATION', 3256),\n",
       " ('CAR WASH', 3144),\n",
       " ('DAY CARE CENTER', 3031),\n",
       " ('MOVIE HOUSE/THEATER', 2941),\n",
       " ('APPLIANCE STORE', 2096),\n",
       " ('CTA STATION', 1988),\n",
       " ('COLLEGE/UNIVERSITY RESIDENCE HALL', 1704),\n",
       " ('AIRPORT TERMINAL LOWER LEVEL - NON-SECURE AREA', 1401),\n",
       " ('LAKEFRONT/WATERFRONT/RIVERBANK', 1233),\n",
       " ('COIN OPERATED MACHINE', 1220),\n",
       " ('DELIVERY TRUCK', 1213),\n",
       " ('JAIL / LOCK-UP FACILITY', 1192),\n",
       " ('FIRE STATION', 1192),\n",
       " ('HIGHWAY/EXPRESSWAY', 1180),\n",
       " ('AUTO', 1126),\n",
       " ('POOL ROOM', 984),\n",
       " ('FEDERAL BUILDING', 878),\n",
       " ('ANIMAL HOSPITAL', 827),\n",
       " ('BOWLING ALLEY', 784),\n",
       " ('BOAT/WATERCRAFT', 746),\n",
       " ('AIRPORT VENDING ESTABLISHMENT', 719),\n",
       " ('AIRPORT EXTERIOR - NON-SECURE AREA', 657),\n",
       " ('AIRPORT BUILDING NON-TERMINAL - NON-SECURE AREA', 626),\n",
       " ('CREDIT UNION', 587),\n",
       " ('AIRPORT PARKING LOT', 580),\n",
       " ('AIRPORT TERMINAL UPPER LEVEL - NON-SECURE AREA', 558),\n",
       " ('PAWN SHOP', 532),\n",
       " ('AIRPORT TERMINAL LOWER LEVEL - SECURE AREA', 528),\n",
       " ('AIRCRAFT', 527),\n",
       " ('HOUSE', 507),\n",
       " ('FOREST PRESERVE', 471),\n",
       " ('SAVINGS AND LOAN', 423),\n",
       " ('BRIDGE', 411),\n",
       " ('AIRPORT BUILDING NON-TERMINAL - SECURE AREA', 404),\n",
       " ('CEMETARY', 395),\n",
       " ('PORCH', 271),\n",
       " ('NEWSSTAND', 261),\n",
       " ('AIRPORT EXTERIOR - SECURE AREA', 239),\n",
       " ('VEHICLE - OTHER RIDE SERVICE', 189),\n",
       " ('YARD', 178),\n",
       " ('PARKING LOT', 160),\n",
       " ('VACANT LOT', 109),\n",
       " ('HALLWAY', 87),\n",
       " ('AIRPORT TRANSPORTATION SYSTEM (ATS)', 82),\n",
       " ('GANGWAY', 76),\n",
       " ('RETAIL STORE', 73),\n",
       " ('AIRPORT TERMINAL MEZZANINE - NON-SECURE AREA', 70),\n",
       " ('CTA TRACKS - RIGHT OF WAY', 52),\n",
       " ('GARAGE', 48),\n",
       " ('GAS STATION DRIVE/PROP.', 46),\n",
       " ('VEHICLE - DELIVERY TRUCK', 45),\n",
       " ('CHA GROUNDS', 43),\n",
       " ('CHA HALLWAY', 42),\n",
       " ('TAVERN', 40),\n",
       " ('CHA PARKING LOT', 38),\n",
       " ('BASEMENT', 34),\n",
       " ('CLUB', 18),\n",
       " ('VESTIBULE', 17),\n",
       " ('HOTEL', 16),\n",
       " ('RAILROAD PROPERTY', 15),\n",
       " ('STAIRWELL', 15),\n",
       " ('OFFICE', 14),\n",
       " ('DRIVEWAY', 13),\n",
       " ('BARBER SHOP/BEAUTY SALON', 12),\n",
       " ('CHA STAIRWELL', 12),\n",
       " ('TRUCK', 12),\n",
       " ('DUMPSTER', 10),\n",
       " ('GARAGE/AUTO REPAIR', 10),\n",
       " ('SCHOOL YARD', 9),\n",
       " ('CHA LOBBY', 7),\n",
       " ('WOODED AREA', 6),\n",
       " ('LIQUOR STORE', 6),\n",
       " ('HOSPITAL', 6),\n",
       " ('TAXI CAB', 6),\n",
       " ('RIVER', 5),\n",
       " ('COACH HOUSE', 5),\n",
       " ('MOTEL', 5),\n",
       " ('CHURCH', 5),\n",
       " ('LAKE', 4),\n",
       " ('SEWER', 4),\n",
       " ('COUNTY JAIL', 4),\n",
       " ('NURSING HOME', 4),\n",
       " ('CHA PLAY LOT', 4),\n",
       " ('CHA ELEVATOR', 4),\n",
       " ('CHA BREEZEWAY', 4),\n",
       " ('LIVERY STAND OFFICE', 4),\n",
       " ('CTA \"L\" PLATFORM', 3),\n",
       " ('TRAILER', 3),\n",
       " ('CHURCH PROPERTY', 3),\n",
       " ('YMCA', 3),\n",
       " ('CTA PROPERTY', 2),\n",
       " ('RIVER BANK', 2),\n",
       " ('CTA \"L\" TRAIN', 2),\n",
       " ('PUBLIC HIGH SCHOOL', 2),\n",
       " ('LOADING DOCK', 2),\n",
       " ('FACTORY', 2),\n",
       " ('LAUNDRY ROOM', 2),\n",
       " ('PRAIRIE', 2),\n",
       " ('LIVERY AUTO', 1),\n",
       " ('LAGOON', 1),\n",
       " ('BANQUET HALL', 1),\n",
       " ('JUNK YARD/GARBAGE DUMP', 1),\n",
       " ('CLEANERS/LAUNDROMAT', 1),\n",
       " ('TRUCKING TERMINAL', 1),\n",
       " ('EXPRESSWAY EMBANKMENT', 1),\n",
       " ('ROOMING HOUSE', 1),\n",
       " ('FUNERAL PARLOR', 1),\n",
       " ('PUBLIC GRAMMAR SCHOOL', 1),\n",
       " ('GOVERNMENT BUILDING', 1),\n",
       " ('ELEVATOR', 1),\n",
       " ('POOLROOM', 1)]"
      ]
     },
     "execution_count": 13,
     "metadata": {},
     "output_type": "execute_result"
    }
   ],
   "source": [
    "crime_location_counts = crimes_2001_17['Location Description'].value_counts()\n",
    "crime_location_counts = crime_location_counts.to_dict()\n",
    "crime_location_counts = sorted(crime_location_counts.items(), key=lambda x:x[1], reverse=True)\n",
    "crime_location_counts"
   ]
  },
  {
   "cell_type": "code",
   "execution_count": 14,
   "metadata": {
    "collapsed": false
   },
   "outputs": [
    {
     "name": "stdout",
     "output_type": "stream",
     "text": [
      "('STREET', 'RESIDENCE', 'SIDEWALK', 'APARTMENT', 'OTHER', 'PARKING LOT/GARAGE(NON.RESID.)', 'ALLEY', 'SCHOOL, PUBLIC, BUILDING', 'RESIDENCE-GARAGE', 'RESIDENCE PORCH/HALLWAY', 'SMALL RETAIL STORE', 'VEHICLE NON-COMMERCIAL', 'RESTAURANT', 'GROCERY FOOD STORE', 'DEPARTMENT STORE', 'GAS STATION', 'RESIDENTIAL YARD (FRONT/BACK)', 'CHA PARKING LOT/GROUNDS', 'PARK PROPERTY', 'COMMERCIAL / BUSINESS OFFICE', 'CTA PLATFORM', 'CHA APARTMENT', 'BAR OR TAVERN', 'DRUG STORE', 'SCHOOL, PUBLIC, GROUNDS', 'BANK', 'HOTEL/MOTEL', 'CHA HALLWAY/STAIRWELL/ELEVATOR', 'VACANT LOT/LAND', 'TAVERN/LIQUOR STORE', 'CTA TRAIN', 'CTA BUS', 'DRIVEWAY - RESIDENTIAL', 'HOSPITAL BUILDING/GROUNDS', 'AIRPORT/AIRCRAFT', 'POLICE FACILITY/VEH PARKING LOT', 'CHURCH/SYNAGOGUE/PLACE OF WORSHIP', 'GOVERNMENT BUILDING/PROPERTY', 'CONSTRUCTION SITE', 'CONVENIENCE STORE', 'SCHOOL, PRIVATE, BUILDING', 'NURSING HOME/RETIREMENT HOME', 'ABANDONED BUILDING', 'CURRENCY EXCHANGE', 'CTA GARAGE / OTHER PROPERTY', 'WAREHOUSE', 'BARBERSHOP', 'ATHLETIC CLUB', 'ATM (AUTOMATIC TELLER MACHINE)', 'MEDICAL/DENTAL OFFICE', 'FACTORY/MANUFACTURING BUILDING', 'TAXICAB', 'LIBRARY', 'COLLEGE/UNIVERSITY GROUNDS', 'OTHER RAILROAD PROP / TRAIN DEPOT', 'VEHICLE-COMMERCIAL', 'CTA BUS STOP', 'CLEANING STORE', 'SPORTS ARENA/STADIUM', 'SCHOOL, PRIVATE, GROUNDS', 'AIRPORT TERMINAL UPPER LEVEL - SECURE AREA', 'OTHER COMMERCIAL TRANSPORTATION', 'CAR WASH', 'DAY CARE CENTER', 'MOVIE HOUSE/THEATER', 'APPLIANCE STORE', 'CTA STATION', 'COLLEGE/UNIVERSITY RESIDENCE HALL', 'AIRPORT TERMINAL LOWER LEVEL - NON-SECURE AREA', 'LAKEFRONT/WATERFRONT/RIVERBANK', 'COIN OPERATED MACHINE', 'DELIVERY TRUCK', 'JAIL / LOCK-UP FACILITY', 'FIRE STATION', 'HIGHWAY/EXPRESSWAY', 'AUTO', 'POOL ROOM', 'FEDERAL BUILDING', 'ANIMAL HOSPITAL', 'BOWLING ALLEY', 'BOAT/WATERCRAFT', 'AIRPORT VENDING ESTABLISHMENT', 'AIRPORT EXTERIOR - NON-SECURE AREA', 'AIRPORT BUILDING NON-TERMINAL - NON-SECURE AREA', 'CREDIT UNION', 'AIRPORT PARKING LOT', 'AIRPORT TERMINAL UPPER LEVEL - NON-SECURE AREA', 'PAWN SHOP', 'AIRPORT TERMINAL LOWER LEVEL - SECURE AREA', 'AIRCRAFT', 'HOUSE', 'FOREST PRESERVE', 'SAVINGS AND LOAN', 'BRIDGE', 'AIRPORT BUILDING NON-TERMINAL - SECURE AREA', 'CEMETARY', 'PORCH', 'NEWSSTAND', 'AIRPORT EXTERIOR - SECURE AREA', 'VEHICLE - OTHER RIDE SERVICE', 'YARD', 'PARKING LOT', 'VACANT LOT', 'HALLWAY', 'AIRPORT TRANSPORTATION SYSTEM (ATS)', 'GANGWAY', 'RETAIL STORE', 'AIRPORT TERMINAL MEZZANINE - NON-SECURE AREA', 'CTA TRACKS - RIGHT OF WAY', 'GARAGE', 'GAS STATION DRIVE/PROP.', 'VEHICLE - DELIVERY TRUCK', 'CHA GROUNDS', 'CHA HALLWAY', 'TAVERN', 'CHA PARKING LOT', 'BASEMENT', 'CLUB', 'VESTIBULE', 'HOTEL', 'RAILROAD PROPERTY', 'STAIRWELL', 'OFFICE', 'DRIVEWAY', 'BARBER SHOP/BEAUTY SALON', 'CHA STAIRWELL', 'TRUCK', 'DUMPSTER', 'GARAGE/AUTO REPAIR', 'SCHOOL YARD', 'CHA LOBBY', 'WOODED AREA', 'LIQUOR STORE', 'HOSPITAL', 'TAXI CAB', 'RIVER', 'COACH HOUSE', 'MOTEL', 'CHURCH', 'LAKE', 'SEWER', 'COUNTY JAIL', 'NURSING HOME', 'CHA PLAY LOT', 'CHA ELEVATOR', 'CHA BREEZEWAY', 'LIVERY STAND OFFICE', 'CTA \"L\" PLATFORM', 'TRAILER', 'CHURCH PROPERTY', 'YMCA', 'CTA PROPERTY', 'RIVER BANK', 'CTA \"L\" TRAIN', 'PUBLIC HIGH SCHOOL', 'LOADING DOCK', 'FACTORY', 'LAUNDRY ROOM', 'PRAIRIE', 'LIVERY AUTO', 'LAGOON', 'BANQUET HALL', 'JUNK YARD/GARBAGE DUMP', 'CLEANERS/LAUNDROMAT', 'TRUCKING TERMINAL', 'EXPRESSWAY EMBANKMENT', 'ROOMING HOUSE', 'FUNERAL PARLOR', 'PUBLIC GRAMMAR SCHOOL', 'GOVERNMENT BUILDING', 'ELEVATOR', 'POOLROOM')\n",
      "(2101842, 1341749, 815595, 812512, 294286, 225454, 180155, 173750, 158550, 138492, 134003, 128311, 116295, 100812, 95201, 82396, 75442, 65124, 61322, 58200, 44710, 41550, 41169, 35671, 34772, 32563, 31475, 30135, 28034, 26721, 25855, 25158, 23519, 22801, 21873, 20242, 17653, 16365, 15970, 15743, 15433, 14841, 13656, 12778, 12541, 10895, 9435, 9127, 8895, 8415, 8300, 8177, 7181, 6809, 6780, 6161, 5844, 5787, 5774, 4720, 3732, 3256, 3144, 3031, 2941, 2096, 1988, 1704, 1401, 1233, 1220, 1213, 1192, 1192, 1180, 1126, 984, 878, 827, 784, 746, 719, 657, 626, 587, 580, 558, 532, 528, 527, 507, 471, 423, 411, 404, 395, 271, 261, 239, 189, 178, 160, 109, 87, 82, 76, 73, 70, 52, 48, 46, 45, 43, 42, 40, 38, 34, 18, 17, 16, 15, 15, 14, 13, 12, 12, 12, 10, 10, 9, 7, 6, 6, 6, 6, 5, 5, 5, 5, 4, 4, 4, 4, 4, 4, 4, 4, 3, 3, 3, 3, 2, 2, 2, 2, 2, 2, 2, 2, 1, 1, 1, 1, 1, 1, 1, 1, 1, 1, 1, 1, 1)\n"
     ]
    }
   ],
   "source": [
    "unzip_crime_location_data = zip(*crime_location_counts)\n",
    "print(unzip_crime_location_data[0])\n",
    "print(unzip_crime_location_data[1])"
   ]
  },
  {
   "cell_type": "code",
   "execution_count": 17,
   "metadata": {
    "collapsed": false
   },
   "outputs": [
    {
     "data": {
      "image/png": "[encoded data removed]",
      "text/plain": [
       "<matplotlib.figure.Figure at 0x1136f0c50>"
      ]
     },
     "metadata": {},
     "output_type": "display_data"
    }
   ],
   "source": [
    "fig2, ax2 = plt.subplots()\n",
    "\n",
    "crime_location_type = unzip_crime_location_data[0][0:30]\n",
    "crime_location_count = unzip_crime_location_data[1][0:30]\n",
    "y_pos_crime_location = np.arange(len(crime_location_type))\n",
    "\n",
    "ax2.barh(y_pos_crime_location, crime_location_count, align='center', color='blue')\n",
    "ax2.set_yticks(y_pos_crime_location)\n",
    "\n",
    "ax2.set_yticklabels(crime_location_type)\n",
    "ax2.invert_yaxis()  \n",
    "ax2.set_xlabel('Count')\n",
    "ax2.set_ylabel('Crime Location')\n",
    "ax2.set_title('Top 30 Crime Locations in Chicago from 2001-2017')\n",
    "for cur_tick in ax2.get_xticklabels():\n",
    "    cur_tick.set_rotation(35)\n",
    "plt.show()"
   ]
  },
  {
   "cell_type": "code",
   "execution_count": 18,
   "metadata": {
    "collapsed": false
   },
   "outputs": [
    {
     "data": {
      "text/plain": [
       "$500 AND UNDER                      611161\n",
       "OVER $500                           412497\n",
       "FROM BUILDING                       270438\n",
       "RETAIL THEFT                        188945\n",
       "FINANCIAL ID THEFT: OVER $300        57810\n",
       "POCKET-PICKING                       36532\n",
       "PURSE-SNATCHING                      19868\n",
       "FINANCIAL ID THEFT:$300 &UNDER       19590\n",
       "ATTEMPT THEFT                        13243\n",
       "ATTEMPT FINANCIAL IDENTITY THEFT      4067\n",
       "AGG: FINANCIAL ID THEFT               3954\n",
       "FROM COIN-OP MACHINE/DEVICE           1364\n",
       "DELIVERY CONTAINER THEFT              1001\n",
       "$300 AND UNDER                          19\n",
       "OVER $300                               16\n",
       "THEFT RETAIL                             1\n",
       "Name: Description, dtype: int64"
      ]
     },
     "execution_count": 18,
     "metadata": {},
     "output_type": "execute_result"
    }
   ],
   "source": [
    "crimes_2001_17[crimes_2001_17['Primary Type'] == 'THEFT'].Description.value_counts()"
   ]
  }
 ],
 "metadata": {
  "kernelspec": {
   "display_name": "Python 2",
   "language": "python",
   "name": "python2"
  },
  "language_info": {
   "codemirror_mode": {
    "name": "ipython",
    "version": 2
   },
   "file_extension": ".py",
   "mimetype": "text/x-python",
   "name": "python",
   "nbconvert_exporter": "python",
   "pygments_lexer": "ipython2",
   "version": "2.7.13"
  }
 },
 "nbformat": 4,
 "nbformat_minor": 2
}
