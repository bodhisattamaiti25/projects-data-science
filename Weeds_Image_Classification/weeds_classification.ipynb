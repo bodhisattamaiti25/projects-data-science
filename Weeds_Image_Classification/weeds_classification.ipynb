{
 "cells": [
  {
   "cell_type": "code",
   "execution_count": 1,
   "metadata": {},
   "outputs": [],
   "source": [
    "import zipfile\n",
    "from zipfile import ZipFile\n",
    "import os, shutil\n",
    "import numpy as np\n",
    "import pandas as pd"
   ]
  },
  {
   "cell_type": "markdown",
   "metadata": {},
   "source": [
    "The dataset has been obtained from the following URL: https://www.kaggle.com/coreylammie/deepweedsx\n",
    "For more information pertaining to the dataset please visit the above mentioned URL"
   ]
  },
  {
   "cell_type": "markdown",
   "metadata": {},
   "source": [
    "From the above URL, we get the following information about the weeds species and they have been labelled in this manner:\n",
    "0- Chinee Apple 1- Lantana 2- Parkinsonia 3- Parthenium 4- Prickly Acacia 5- Rubber Vine 6- Siam Weed 7- Snake Weed 8- Other"
   ]
  },
  {
   "cell_type": "code",
   "execution_count": 2,
   "metadata": {},
   "outputs": [
    {
     "name": "stdout",
     "output_type": "stream",
     "text": [
      "{'weed_type_0': 'Chinee Apple', 'weed_type_1': 'Lantana', 'weed_type_2': 'Parkinsonia', 'weed_type_3': 'Parthenium', 'weed_type_4': 'Prickly Acacia', 'weed_type_5': 'Rubber Vine', 'weed_type_6': 'Siam Weed', 'weed_type_7': 'Snake Weed', 'weed_type_8': 'Other'}\n"
     ]
    }
   ],
   "source": [
    "weeds_list = ['Chinee Apple', 'Lantana', 'Parkinsonia', 'Parthenium', 'Prickly Acacia', 'Rubber Vine', 'Siam Weed', 'Snake Weed', 'Other']\n",
    "weeds_type_dict = {}\n",
    "for i in range(len(weeds_list)):\n",
    "    weeds_type_dict['weed_type_' + str(i)] = weeds_list[i]\n",
    "print(weeds_type_dict)"
   ]
  },
  {
   "cell_type": "code",
   "execution_count": 3,
   "metadata": {},
   "outputs": [],
   "source": [
    "def unzip_weed_files(zipFilePath, unzip_directory):\n",
    "    weeds_zip = ZipFile(zipFilePath, 'r')\n",
    "    weeds_zip.extractall(unzip_directory)\n",
    "    weeds_zip.close()\n",
    "    "
   ]
  },
  {
   "cell_type": "code",
   "execution_count": 4,
   "metadata": {},
   "outputs": [],
   "source": [
    "def delete_file_directory(path, isDirectory):\n",
    "    if isDirectory:\n",
    "        shutil.rmtree(path)\n",
    "    else:\n",
    "        os.remove(path)"
   ]
  },
  {
   "cell_type": "code",
   "execution_count": 5,
   "metadata": {},
   "outputs": [],
   "source": [
    "unzip_weed_files('deepweedsx.zip', 'unzipped_weeds_data')"
   ]
  },
  {
   "cell_type": "code",
   "execution_count": 6,
   "metadata": {},
   "outputs": [],
   "source": [
    "unzip_weed_files('unzipped_weeds_data/DeepWeeds_Images_256.zip', 'unzipped_weeds_data/unzipped_weeds_imgs')"
   ]
  },
  {
   "cell_type": "code",
   "execution_count": 7,
   "metadata": {},
   "outputs": [
    {
     "data": {
      "text/plain": [
       "17536"
      ]
     },
     "execution_count": 7,
     "metadata": {},
     "output_type": "execute_result"
    }
   ],
   "source": [
    "len(os.listdir('unzipped_weeds_data/unzipped_weeds_imgs'))"
   ]
  },
  {
   "cell_type": "code",
   "execution_count": 8,
   "metadata": {},
   "outputs": [],
   "source": [
    "#Since, we have unzipped the images, we can delete the zip file of images, to release memory\n",
    "delete_file_directory('unzipped_weeds_data/DeepWeeds_Images_256.zip', False)"
   ]
  },
  {
   "cell_type": "code",
   "execution_count": 9,
   "metadata": {},
   "outputs": [],
   "source": [
    "test_df = pd.read_csv('unzipped_weeds_data/test_set_labels.csv')"
   ]
  },
  {
   "cell_type": "code",
   "execution_count": 10,
   "metadata": {},
   "outputs": [
    {
     "data": {
      "text/html": [
       "<div>\n",
       "<style scoped>\n",
       "    .dataframe tbody tr th:only-of-type {\n",
       "        vertical-align: middle;\n",
       "    }\n",
       "\n",
       "    .dataframe tbody tr th {\n",
       "        vertical-align: top;\n",
       "    }\n",
       "\n",
       "    .dataframe thead th {\n",
       "        text-align: right;\n",
       "    }\n",
       "</style>\n",
       "<table border=\"1\" class=\"dataframe\">\n",
       "  <thead>\n",
       "    <tr style=\"text-align: right;\">\n",
       "      <th></th>\n",
       "      <th>Label</th>\n",
       "      <th>Species</th>\n",
       "    </tr>\n",
       "  </thead>\n",
       "  <tbody>\n",
       "    <tr>\n",
       "      <th>0</th>\n",
       "      <td>20160928-141107-0.jpg</td>\n",
       "      <td>0</td>\n",
       "    </tr>\n",
       "    <tr>\n",
       "      <th>1</th>\n",
       "      <td>20160928-141135-0.jpg</td>\n",
       "      <td>0</td>\n",
       "    </tr>\n",
       "    <tr>\n",
       "      <th>2</th>\n",
       "      <td>20161207-110730-0.jpg</td>\n",
       "      <td>0</td>\n",
       "    </tr>\n",
       "    <tr>\n",
       "      <th>3</th>\n",
       "      <td>20161207-110850-0.jpg</td>\n",
       "      <td>0</td>\n",
       "    </tr>\n",
       "    <tr>\n",
       "      <th>4</th>\n",
       "      <td>20161207-112015-0.jpg</td>\n",
       "      <td>0</td>\n",
       "    </tr>\n",
       "  </tbody>\n",
       "</table>\n",
       "</div>"
      ],
      "text/plain": [
       "                   Label  Species\n",
       "0  20160928-141107-0.jpg        0\n",
       "1  20160928-141135-0.jpg        0\n",
       "2  20161207-110730-0.jpg        0\n",
       "3  20161207-110850-0.jpg        0\n",
       "4  20161207-112015-0.jpg        0"
      ]
     },
     "execution_count": 10,
     "metadata": {},
     "output_type": "execute_result"
    }
   ],
   "source": [
    "test_df.head()"
   ]
  },
  {
   "cell_type": "code",
   "execution_count": 11,
   "metadata": {},
   "outputs": [],
   "source": [
    "test_img_label_dict = dict(zip(test_df['Label'], test_df['Species']))"
   ]
  },
  {
   "cell_type": "code",
   "execution_count": 12,
   "metadata": {},
   "outputs": [
    {
     "data": {
      "text/plain": [
       "Label      object\n",
       "Species     int64\n",
       "dtype: object"
      ]
     },
     "execution_count": 12,
     "metadata": {},
     "output_type": "execute_result"
    }
   ],
   "source": [
    "test_df.dtypes"
   ]
  },
  {
   "cell_type": "code",
   "execution_count": 13,
   "metadata": {},
   "outputs": [
    {
     "data": {
      "text/plain": [
       "8    1301\n",
       "0     161\n",
       "6     153\n",
       "1     152\n",
       "4     152\n",
       "2     147\n",
       "3     146\n",
       "7     145\n",
       "5     144\n",
       "Name: Species, dtype: int64"
      ]
     },
     "execution_count": 13,
     "metadata": {},
     "output_type": "execute_result"
    }
   ],
   "source": [
    "test_df['Species'].value_counts()"
   ]
  },
  {
   "cell_type": "code",
   "execution_count": 14,
   "metadata": {},
   "outputs": [],
   "source": [
    "main_df = pd.read_csv('unzipped_weeds_data/train_set_labels.csv')"
   ]
  },
  {
   "cell_type": "code",
   "execution_count": 15,
   "metadata": {},
   "outputs": [
    {
     "data": {
      "text/html": [
       "<div>\n",
       "<style scoped>\n",
       "    .dataframe tbody tr th:only-of-type {\n",
       "        vertical-align: middle;\n",
       "    }\n",
       "\n",
       "    .dataframe tbody tr th {\n",
       "        vertical-align: top;\n",
       "    }\n",
       "\n",
       "    .dataframe thead th {\n",
       "        text-align: right;\n",
       "    }\n",
       "</style>\n",
       "<table border=\"1\" class=\"dataframe\">\n",
       "  <thead>\n",
       "    <tr style=\"text-align: right;\">\n",
       "      <th></th>\n",
       "      <th>Label</th>\n",
       "      <th>Species</th>\n",
       "    </tr>\n",
       "  </thead>\n",
       "  <tbody>\n",
       "    <tr>\n",
       "      <th>0</th>\n",
       "      <td>20161207-111327-0.jpg</td>\n",
       "      <td>0</td>\n",
       "    </tr>\n",
       "    <tr>\n",
       "      <th>1</th>\n",
       "      <td>20170718-095159-2.jpg</td>\n",
       "      <td>0</td>\n",
       "    </tr>\n",
       "    <tr>\n",
       "      <th>2</th>\n",
       "      <td>20170811-133439-1.jpg</td>\n",
       "      <td>0</td>\n",
       "    </tr>\n",
       "    <tr>\n",
       "      <th>3</th>\n",
       "      <td>20170811-133752-1.jpg</td>\n",
       "      <td>0</td>\n",
       "    </tr>\n",
       "    <tr>\n",
       "      <th>4</th>\n",
       "      <td>20170217-114015-0.jpg</td>\n",
       "      <td>0</td>\n",
       "    </tr>\n",
       "  </tbody>\n",
       "</table>\n",
       "</div>"
      ],
      "text/plain": [
       "                   Label  Species\n",
       "0  20161207-111327-0.jpg        0\n",
       "1  20170718-095159-2.jpg        0\n",
       "2  20170811-133439-1.jpg        0\n",
       "3  20170811-133752-1.jpg        0\n",
       "4  20170217-114015-0.jpg        0"
      ]
     },
     "execution_count": 15,
     "metadata": {},
     "output_type": "execute_result"
    }
   ],
   "source": [
    "main_df.head()"
   ]
  },
  {
   "cell_type": "code",
   "execution_count": 16,
   "metadata": {},
   "outputs": [
    {
     "data": {
      "text/plain": [
       "Label      object\n",
       "Species     int64\n",
       "dtype: object"
      ]
     },
     "execution_count": 16,
     "metadata": {},
     "output_type": "execute_result"
    }
   ],
   "source": [
    "main_df.dtypes"
   ]
  },
  {
   "cell_type": "code",
   "execution_count": 17,
   "metadata": {},
   "outputs": [
    {
     "data": {
      "text/plain": [
       "8    7804\n",
       "0     964\n",
       "6     921\n",
       "1     912\n",
       "4     910\n",
       "2     884\n",
       "3     876\n",
       "7     871\n",
       "5     865\n",
       "Name: Species, dtype: int64"
      ]
     },
     "execution_count": 17,
     "metadata": {},
     "output_type": "execute_result"
    }
   ],
   "source": [
    "main_df['Species'].value_counts()"
   ]
  },
  {
   "cell_type": "markdown",
   "metadata": {},
   "source": [
    "We can see from above that the number of images of class 8 is very large when compared to the other classes of weeds. This will lead to class imbalance. So, we will take only a subset of images from class 8 whose size is comparable to those of other classes."
   ]
  },
  {
   "cell_type": "code",
   "execution_count": 18,
   "metadata": {},
   "outputs": [],
   "source": [
    "main_img_label_dict = dict(zip(main_df['Label'], main_df['Species']))"
   ]
  },
  {
   "cell_type": "code",
   "execution_count": 19,
   "metadata": {},
   "outputs": [],
   "source": [
    "base_dir = 'unzipped_weeds_data'\n",
    "test_dir = os.path.join(base_dir, 'test_data')\n",
    "os.mkdir(test_dir)"
   ]
  },
  {
   "cell_type": "code",
   "execution_count": 20,
   "metadata": {},
   "outputs": [],
   "source": [
    "main_dir = os.path.join(base_dir, 'main_data')\n",
    "os.mkdir(main_dir)"
   ]
  },
  {
   "cell_type": "code",
   "execution_count": 21,
   "metadata": {},
   "outputs": [],
   "source": [
    "def create_weed_type_dir(parent_dir):\n",
    "    for i in range(9):\n",
    "        weed_type_dir = os.path.join(parent_dir, 'weed_type_' + str(i))\n",
    "        os.mkdir(weed_type_dir)\n",
    "        "
   ]
  },
  {
   "cell_type": "code",
   "execution_count": 22,
   "metadata": {},
   "outputs": [],
   "source": [
    "create_weed_type_dir(test_dir)"
   ]
  },
  {
   "cell_type": "code",
   "execution_count": 23,
   "metadata": {},
   "outputs": [],
   "source": [
    "create_weed_type_dir(main_dir)"
   ]
  },
  {
   "cell_type": "code",
   "execution_count": 24,
   "metadata": {},
   "outputs": [],
   "source": [
    "img_files = os.listdir('unzipped_weeds_data/unzipped_weeds_imgs')"
   ]
  },
  {
   "cell_type": "code",
   "execution_count": 25,
   "metadata": {},
   "outputs": [],
   "source": [
    "def copy_paste_weed_imgs(img_label_dict, copy_dir, paste_dir, max_num_of_files):\n",
    "    for img in img_files:\n",
    "        if img in img_label_dict:\n",
    "            weed_type_dir = os.path.join(paste_dir, 'weed_type_' + str(img_label_dict[img]))\n",
    "            if len(os.listdir(weed_type_dir)) <= max_num_of_files:\n",
    "                src = os.path.join(copy_dir, img)\n",
    "                dst = os.path.join(weed_type_dir, img)\n",
    "                shutil.copyfile(src, dst)   "
   ]
  },
  {
   "cell_type": "code",
   "execution_count": 26,
   "metadata": {},
   "outputs": [],
   "source": [
    "copy_paste_weed_imgs(test_img_label_dict, 'unzipped_weeds_data/unzipped_weeds_imgs', 'unzipped_weeds_data/test_data', 161)"
   ]
  },
  {
   "cell_type": "code",
   "execution_count": 27,
   "metadata": {},
   "outputs": [],
   "source": [
    "copy_paste_weed_imgs(main_img_label_dict, 'unzipped_weeds_data/unzipped_weeds_imgs', 'unzipped_weeds_data/main_data', 964)"
   ]
  },
  {
   "cell_type": "code",
   "execution_count": 28,
   "metadata": {},
   "outputs": [],
   "source": [
    "#The images have been transferred to main_data and test_data folders, so, we don't need the unzipped_weeds_imgs folder. Let us delete it release memory.\n",
    "delete_file_directory('unzipped_weeds_data/unzipped_weeds_imgs', True)"
   ]
  },
  {
   "cell_type": "code",
   "execution_count": 29,
   "metadata": {},
   "outputs": [
    {
     "name": "stdout",
     "output_type": "stream",
     "text": [
      "weed_type_0\n",
      "number of images in main 964\n",
      "number of images in test 161\n",
      "weed_type_1\n",
      "number of images in main 912\n",
      "number of images in test 152\n",
      "weed_type_2\n",
      "number of images in main 884\n",
      "number of images in test 147\n",
      "weed_type_3\n",
      "number of images in main 876\n",
      "number of images in test 146\n",
      "weed_type_4\n",
      "number of images in main 910\n",
      "number of images in test 152\n",
      "weed_type_5\n",
      "number of images in main 865\n",
      "number of images in test 144\n",
      "weed_type_6\n",
      "number of images in main 921\n",
      "number of images in test 153\n",
      "weed_type_7\n",
      "number of images in main 871\n",
      "number of images in test 145\n",
      "weed_type_8\n",
      "number of images in main 965\n",
      "number of images in test 162\n"
     ]
    }
   ],
   "source": [
    "#Let us check the number of images in each weed type (main_data and test_data)\n",
    "for i in range(9):\n",
    "    cur_weed_type = 'weed_type_' + str(i)\n",
    "    print(cur_weed_type)\n",
    "    print('number of images in main', len(os.listdir('unzipped_weeds_data/main_data/' + cur_weed_type)))\n",
    "    print('number of images in test', len(os.listdir('unzipped_weeds_data/test_data/' + cur_weed_type)))"
   ]
  },
  {
   "cell_type": "markdown",
   "metadata": {},
   "source": [
    "Now we will split the 'main_data' into 'train_data' and 'val_data'. 20% of the data in main data will be used for validation."
   ]
  },
  {
   "cell_type": "code",
   "execution_count": 30,
   "metadata": {},
   "outputs": [],
   "source": [
    "train_dir = os.path.join(base_dir, 'train_data')\n",
    "os.mkdir(train_dir)\n",
    "val_dir = os.path.join(base_dir, 'val_data')\n",
    "os.mkdir(val_dir)"
   ]
  },
  {
   "cell_type": "code",
   "execution_count": 31,
   "metadata": {},
   "outputs": [],
   "source": [
    "create_weed_type_dir(train_dir)\n",
    "create_weed_type_dir(val_dir)"
   ]
  },
  {
   "cell_type": "code",
   "execution_count": 37,
   "metadata": {},
   "outputs": [],
   "source": [
    "import math\n",
    "from math import ceil\n",
    "total_train_imgs = 0\n",
    "total_val_imgs = 0\n",
    "for i in range(len(weeds_list)):\n",
    "    cur_weed_type = 'weed_type_' + str(i)\n",
    "    copy_dir = 'unzipped_weeds_data/main_data/' + cur_weed_type\n",
    "    paste_dir_train = 'unzipped_weeds_data/train_data/' + cur_weed_type\n",
    "    paste_dir_val = 'unzipped_weeds_data/val_data/' + cur_weed_type\n",
    "    cur_imgs = os.listdir(copy_dir)\n",
    "    cur_num_of_imgs = len(cur_imgs)\n",
    "    cur_num_of_train_imgs = ceil(0.8*cur_num_of_imgs)\n",
    "    total_train_imgs += cur_num_of_train_imgs\n",
    "    cur_num_of_val_imgs = cur_num_of_imgs - cur_num_of_train_imgs\n",
    "    total_val_imgs += cur_num_of_val_imgs\n",
    "    for j in range(cur_num_of_imgs):\n",
    "        src = os.path.join(copy_dir, cur_imgs[j])\n",
    "        if j < cur_num_of_train_imgs:\n",
    "            dst = os.path.join(paste_dir_train, cur_imgs[j])\n",
    "        else:\n",
    "            dst = os.path.join(paste_dir_val, cur_imgs[j])\n",
    "        shutil.copyfile(src, dst)\n",
    "            \n",
    "    \n",
    "    "
   ]
  },
  {
   "cell_type": "code",
   "execution_count": 38,
   "metadata": {},
   "outputs": [
    {
     "name": "stdout",
     "output_type": "stream",
     "text": [
      "total train images 6537\n",
      "total validation images 1631\n"
     ]
    }
   ],
   "source": [
    "print('total train images', total_train_imgs)\n",
    "print('total validation images', total_val_imgs)"
   ]
  },
  {
   "cell_type": "code",
   "execution_count": 39,
   "metadata": {},
   "outputs": [],
   "source": [
    "delete_file_directory('unzipped_weeds_data/main_data', True)"
   ]
  },
  {
   "cell_type": "code",
   "execution_count": null,
   "metadata": {},
   "outputs": [],
   "source": []
  }
 ],
 "metadata": {
  "kernelspec": {
   "display_name": "Python 3",
   "language": "python",
   "name": "python3"
  },
  "language_info": {
   "codemirror_mode": {
    "name": "ipython",
    "version": 3
   },
   "file_extension": ".py",
   "mimetype": "text/x-python",
   "name": "python",
   "nbconvert_exporter": "python",
   "pygments_lexer": "ipython3",
   "version": "3.7.0"
  }
 },
 "nbformat": 4,
 "nbformat_minor": 2
}
