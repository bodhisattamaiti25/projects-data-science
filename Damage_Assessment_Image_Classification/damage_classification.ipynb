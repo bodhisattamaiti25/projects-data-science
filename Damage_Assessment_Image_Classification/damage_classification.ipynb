{
 "cells": [
  {
   "cell_type": "code",
   "execution_count": 2,
   "metadata": {},
   "outputs": [],
   "source": [
    "import tarfile\n",
    "import pandas as pd\n",
    "import numpy as np"
   ]
  },
  {
   "cell_type": "code",
   "execution_count": 24,
   "metadata": {},
   "outputs": [],
   "source": [
    "import os, shutil"
   ]
  },
  {
   "cell_type": "code",
   "execution_count": 7,
   "metadata": {},
   "outputs": [],
   "source": [
    "def handle_tarfile(filePath):\n",
    "    if filePath.endswith('tar.gz'):\n",
    "        tarContent = tarfile.open(filePath, \"r:gz\")\n",
    "    else:\n",
    "        tarContent = tarfile.open(filePath, \"r:\")\n",
    "        \n",
    "    tarContent.extractall()\n",
    "    tarContent.close()"
   ]
  },
  {
   "cell_type": "code",
   "execution_count": 8,
   "metadata": {},
   "outputs": [],
   "source": [
    "handle_tarfile('CrisisMMD_v1.0.tar.gz')"
   ]
  },
  {
   "cell_type": "markdown",
   "metadata": {},
   "source": [
    "In this project we are interested in assessing the damage caused to properties during natural disasters. We are going to do image classification to solve the problem."
   ]
  },
  {
   "cell_type": "markdown",
   "metadata": {},
   "source": [
    "let us read one of the tsv files from the annotations folder in order to understand the contents of the dataset and how to go ahead with solving the problem"
   ]
  },
  {
   "cell_type": "code",
   "execution_count": 12,
   "metadata": {},
   "outputs": [],
   "source": [
    "example_df = pd.read_csv('annotations/hurricane_harvey_final_data.tsv', sep='\\t')"
   ]
  },
  {
   "cell_type": "code",
   "execution_count": 13,
   "metadata": {},
   "outputs": [
    {
     "data": {
      "text/html": [
       "<div>\n",
       "<style scoped>\n",
       "    .dataframe tbody tr th:only-of-type {\n",
       "        vertical-align: middle;\n",
       "    }\n",
       "\n",
       "    .dataframe tbody tr th {\n",
       "        vertical-align: top;\n",
       "    }\n",
       "\n",
       "    .dataframe thead th {\n",
       "        text-align: right;\n",
       "    }\n",
       "</style>\n",
       "<table border=\"1\" class=\"dataframe\">\n",
       "  <thead>\n",
       "    <tr style=\"text-align: right;\">\n",
       "      <th></th>\n",
       "      <th>tweet_id</th>\n",
       "      <th>image_id</th>\n",
       "      <th>text_info</th>\n",
       "      <th>text_info_conf</th>\n",
       "      <th>image_info</th>\n",
       "      <th>image_info_conf</th>\n",
       "      <th>text_human</th>\n",
       "      <th>text_human_conf</th>\n",
       "      <th>image_human</th>\n",
       "      <th>image_human_conf</th>\n",
       "      <th>image_damage</th>\n",
       "      <th>image_damage_conf</th>\n",
       "      <th>tweet_text</th>\n",
       "      <th>image_url</th>\n",
       "      <th>image_path</th>\n",
       "    </tr>\n",
       "  </thead>\n",
       "  <tbody>\n",
       "    <tr>\n",
       "      <th>0</th>\n",
       "      <td>905274232590004225</td>\n",
       "      <td>901671684478029825_0</td>\n",
       "      <td>not_informative</td>\n",
       "      <td>1.0000</td>\n",
       "      <td>informative</td>\n",
       "      <td>1.0000</td>\n",
       "      <td>not_relevant_or_cant_judge</td>\n",
       "      <td>1.0000</td>\n",
       "      <td>infrastructure_and_utility_damage</td>\n",
       "      <td>1.0000</td>\n",
       "      <td>severe_damage</td>\n",
       "      <td>1.0000</td>\n",
       "      <td>CONGRATS ON HITTING YOIR GOAL GUYS, I'm sure t...</td>\n",
       "      <td>http://pbs.twimg.com/media/DINhGs8XcAE1H7q.jpg</td>\n",
       "      <td>data_image/hurricane_harvey/27_8_2017/90167168...</td>\n",
       "    </tr>\n",
       "    <tr>\n",
       "      <th>1</th>\n",
       "      <td>901646074527535105</td>\n",
       "      <td>901646074527535105_0</td>\n",
       "      <td>informative</td>\n",
       "      <td>0.6822</td>\n",
       "      <td>informative</td>\n",
       "      <td>1.0000</td>\n",
       "      <td>injured_or_dead_people</td>\n",
       "      <td>0.6822</td>\n",
       "      <td>infrastructure_and_utility_damage</td>\n",
       "      <td>1.0000</td>\n",
       "      <td>severe_damage</td>\n",
       "      <td>0.6728</td>\n",
       "      <td>RT @ajwamood: #ajwamood : Harvey the first maj...</td>\n",
       "      <td>http://pbs.twimg.com/media/DILxh_xWAAAfJDY.jpg</td>\n",
       "      <td>data_image/hurricane_harvey/27_8_2017/90164607...</td>\n",
       "    </tr>\n",
       "    <tr>\n",
       "      <th>2</th>\n",
       "      <td>901646074527535105</td>\n",
       "      <td>901646074527535105_1</td>\n",
       "      <td>informative</td>\n",
       "      <td>0.6822</td>\n",
       "      <td>informative</td>\n",
       "      <td>1.0000</td>\n",
       "      <td>injured_or_dead_people</td>\n",
       "      <td>0.6822</td>\n",
       "      <td>infrastructure_and_utility_damage</td>\n",
       "      <td>1.0000</td>\n",
       "      <td>severe_damage</td>\n",
       "      <td>1.0000</td>\n",
       "      <td>RT @ajwamood: #ajwamood : Harvey the first maj...</td>\n",
       "      <td>http://pbs.twimg.com/media/DILxiisXYAAokz_.jpg</td>\n",
       "      <td>data_image/hurricane_harvey/27_8_2017/90164607...</td>\n",
       "    </tr>\n",
       "    <tr>\n",
       "      <th>3</th>\n",
       "      <td>901646074527535105</td>\n",
       "      <td>901646074527535105_2</td>\n",
       "      <td>informative</td>\n",
       "      <td>0.6822</td>\n",
       "      <td>informative</td>\n",
       "      <td>1.0000</td>\n",
       "      <td>injured_or_dead_people</td>\n",
       "      <td>0.6822</td>\n",
       "      <td>infrastructure_and_utility_damage</td>\n",
       "      <td>1.0000</td>\n",
       "      <td>severe_damage</td>\n",
       "      <td>0.6528</td>\n",
       "      <td>RT @ajwamood: #ajwamood : Harvey the first maj...</td>\n",
       "      <td>http://pbs.twimg.com/media/DILxjSUWAAEIaWH.jpg</td>\n",
       "      <td>data_image/hurricane_harvey/27_8_2017/90164607...</td>\n",
       "    </tr>\n",
       "    <tr>\n",
       "      <th>4</th>\n",
       "      <td>901646074527535105</td>\n",
       "      <td>901646074527535105_3</td>\n",
       "      <td>informative</td>\n",
       "      <td>0.6822</td>\n",
       "      <td>informative</td>\n",
       "      <td>1.0000</td>\n",
       "      <td>injured_or_dead_people</td>\n",
       "      <td>0.6822</td>\n",
       "      <td>infrastructure_and_utility_damage</td>\n",
       "      <td>1.0000</td>\n",
       "      <td>severe_damage</td>\n",
       "      <td>0.6812</td>\n",
       "      <td>RT @ajwamood: #ajwamood : Harvey the first maj...</td>\n",
       "      <td>http://pbs.twimg.com/media/DILxkWJXgAANF-E.jpg</td>\n",
       "      <td>data_image/hurricane_harvey/27_8_2017/90164607...</td>\n",
       "    </tr>\n",
       "    <tr>\n",
       "      <th>5</th>\n",
       "      <td>901646123080830976</td>\n",
       "      <td>901646123080830976_0</td>\n",
       "      <td>not_informative</td>\n",
       "      <td>1.0000</td>\n",
       "      <td>not_informative</td>\n",
       "      <td>1.0000</td>\n",
       "      <td>NaN</td>\n",
       "      <td>NaN</td>\n",
       "      <td>NaN</td>\n",
       "      <td>NaN</td>\n",
       "      <td>NaN</td>\n",
       "      <td>NaN</td>\n",
       "      <td>RT @yIIeza: When we get back to SCHS after Har...</td>\n",
       "      <td>http://pbs.twimg.com/media/DIMk2e0UQAAUk2B.jpg</td>\n",
       "      <td>data_image/hurricane_harvey/27_8_2017/90164612...</td>\n",
       "    </tr>\n",
       "    <tr>\n",
       "      <th>6</th>\n",
       "      <td>901646123080830976</td>\n",
       "      <td>901646123080830976_1</td>\n",
       "      <td>not_informative</td>\n",
       "      <td>1.0000</td>\n",
       "      <td>not_informative</td>\n",
       "      <td>0.3429</td>\n",
       "      <td>NaN</td>\n",
       "      <td>NaN</td>\n",
       "      <td>NaN</td>\n",
       "      <td>NaN</td>\n",
       "      <td>NaN</td>\n",
       "      <td>NaN</td>\n",
       "      <td>RT @yIIeza: When we get back to SCHS after Har...</td>\n",
       "      <td>http://pbs.twimg.com/media/DIMk2eyUQAAywFD.jpg</td>\n",
       "      <td>data_image/hurricane_harvey/27_8_2017/90164612...</td>\n",
       "    </tr>\n",
       "    <tr>\n",
       "      <th>7</th>\n",
       "      <td>901646123080830976</td>\n",
       "      <td>901646123080830976_2</td>\n",
       "      <td>not_informative</td>\n",
       "      <td>1.0000</td>\n",
       "      <td>not_informative</td>\n",
       "      <td>0.6871</td>\n",
       "      <td>NaN</td>\n",
       "      <td>NaN</td>\n",
       "      <td>NaN</td>\n",
       "      <td>NaN</td>\n",
       "      <td>NaN</td>\n",
       "      <td>NaN</td>\n",
       "      <td>RT @yIIeza: When we get back to SCHS after Har...</td>\n",
       "      <td>http://pbs.twimg.com/media/DIMk2exV4AEmQRm.jpg</td>\n",
       "      <td>data_image/hurricane_harvey/27_8_2017/90164612...</td>\n",
       "    </tr>\n",
       "    <tr>\n",
       "      <th>8</th>\n",
       "      <td>901646123080830976</td>\n",
       "      <td>901646123080830976_3</td>\n",
       "      <td>informative</td>\n",
       "      <td>0.6814</td>\n",
       "      <td>informative</td>\n",
       "      <td>1.0000</td>\n",
       "      <td>other_relevant_information</td>\n",
       "      <td>0.6814</td>\n",
       "      <td>infrastructure_and_utility_damage</td>\n",
       "      <td>1.0000</td>\n",
       "      <td>severe_damage</td>\n",
       "      <td>0.6866</td>\n",
       "      <td>RT @yIIeza: When we get back to SCHS after Har...</td>\n",
       "      <td>http://pbs.twimg.com/media/DIMk2exV4AArVwo.jpg</td>\n",
       "      <td>data_image/hurricane_harvey/27_8_2017/90164612...</td>\n",
       "    </tr>\n",
       "    <tr>\n",
       "      <th>9</th>\n",
       "      <td>901646127895863296</td>\n",
       "      <td>901646127895863296_0</td>\n",
       "      <td>informative</td>\n",
       "      <td>0.9167</td>\n",
       "      <td>informative</td>\n",
       "      <td>0.9257</td>\n",
       "      <td>other_relevant_information</td>\n",
       "      <td>0.9167</td>\n",
       "      <td>other_relevant_information</td>\n",
       "      <td>0.9257</td>\n",
       "      <td>NaN</td>\n",
       "      <td>NaN</td>\n",
       "      <td>Not always good when your city shows up on a s...</td>\n",
       "      <td>http://pbs.twimg.com/media/DINKP-iVwAIIRJi.jpg</td>\n",
       "      <td>data_image/hurricane_harvey/27_8_2017/90164612...</td>\n",
       "    </tr>\n",
       "  </tbody>\n",
       "</table>\n",
       "</div>"
      ],
      "text/plain": [
       "             tweet_id              image_id        text_info  text_info_conf  \\\n",
       "0  905274232590004225  901671684478029825_0  not_informative          1.0000   \n",
       "1  901646074527535105  901646074527535105_0      informative          0.6822   \n",
       "2  901646074527535105  901646074527535105_1      informative          0.6822   \n",
       "3  901646074527535105  901646074527535105_2      informative          0.6822   \n",
       "4  901646074527535105  901646074527535105_3      informative          0.6822   \n",
       "5  901646123080830976  901646123080830976_0  not_informative          1.0000   \n",
       "6  901646123080830976  901646123080830976_1  not_informative          1.0000   \n",
       "7  901646123080830976  901646123080830976_2  not_informative          1.0000   \n",
       "8  901646123080830976  901646123080830976_3      informative          0.6814   \n",
       "9  901646127895863296  901646127895863296_0      informative          0.9167   \n",
       "\n",
       "        image_info  image_info_conf                  text_human  \\\n",
       "0      informative           1.0000  not_relevant_or_cant_judge   \n",
       "1      informative           1.0000      injured_or_dead_people   \n",
       "2      informative           1.0000      injured_or_dead_people   \n",
       "3      informative           1.0000      injured_or_dead_people   \n",
       "4      informative           1.0000      injured_or_dead_people   \n",
       "5  not_informative           1.0000                         NaN   \n",
       "6  not_informative           0.3429                         NaN   \n",
       "7  not_informative           0.6871                         NaN   \n",
       "8      informative           1.0000  other_relevant_information   \n",
       "9      informative           0.9257  other_relevant_information   \n",
       "\n",
       "   text_human_conf                        image_human  image_human_conf  \\\n",
       "0           1.0000  infrastructure_and_utility_damage            1.0000   \n",
       "1           0.6822  infrastructure_and_utility_damage            1.0000   \n",
       "2           0.6822  infrastructure_and_utility_damage            1.0000   \n",
       "3           0.6822  infrastructure_and_utility_damage            1.0000   \n",
       "4           0.6822  infrastructure_and_utility_damage            1.0000   \n",
       "5              NaN                                NaN               NaN   \n",
       "6              NaN                                NaN               NaN   \n",
       "7              NaN                                NaN               NaN   \n",
       "8           0.6814  infrastructure_and_utility_damage            1.0000   \n",
       "9           0.9167         other_relevant_information            0.9257   \n",
       "\n",
       "    image_damage  image_damage_conf  \\\n",
       "0  severe_damage             1.0000   \n",
       "1  severe_damage             0.6728   \n",
       "2  severe_damage             1.0000   \n",
       "3  severe_damage             0.6528   \n",
       "4  severe_damage             0.6812   \n",
       "5            NaN                NaN   \n",
       "6            NaN                NaN   \n",
       "7            NaN                NaN   \n",
       "8  severe_damage             0.6866   \n",
       "9            NaN                NaN   \n",
       "\n",
       "                                          tweet_text  \\\n",
       "0  CONGRATS ON HITTING YOIR GOAL GUYS, I'm sure t...   \n",
       "1  RT @ajwamood: #ajwamood : Harvey the first maj...   \n",
       "2  RT @ajwamood: #ajwamood : Harvey the first maj...   \n",
       "3  RT @ajwamood: #ajwamood : Harvey the first maj...   \n",
       "4  RT @ajwamood: #ajwamood : Harvey the first maj...   \n",
       "5  RT @yIIeza: When we get back to SCHS after Har...   \n",
       "6  RT @yIIeza: When we get back to SCHS after Har...   \n",
       "7  RT @yIIeza: When we get back to SCHS after Har...   \n",
       "8  RT @yIIeza: When we get back to SCHS after Har...   \n",
       "9  Not always good when your city shows up on a s...   \n",
       "\n",
       "                                        image_url  \\\n",
       "0  http://pbs.twimg.com/media/DINhGs8XcAE1H7q.jpg   \n",
       "1  http://pbs.twimg.com/media/DILxh_xWAAAfJDY.jpg   \n",
       "2  http://pbs.twimg.com/media/DILxiisXYAAokz_.jpg   \n",
       "3  http://pbs.twimg.com/media/DILxjSUWAAEIaWH.jpg   \n",
       "4  http://pbs.twimg.com/media/DILxkWJXgAANF-E.jpg   \n",
       "5  http://pbs.twimg.com/media/DIMk2e0UQAAUk2B.jpg   \n",
       "6  http://pbs.twimg.com/media/DIMk2eyUQAAywFD.jpg   \n",
       "7  http://pbs.twimg.com/media/DIMk2exV4AEmQRm.jpg   \n",
       "8  http://pbs.twimg.com/media/DIMk2exV4AArVwo.jpg   \n",
       "9  http://pbs.twimg.com/media/DINKP-iVwAIIRJi.jpg   \n",
       "\n",
       "                                          image_path  \n",
       "0  data_image/hurricane_harvey/27_8_2017/90167168...  \n",
       "1  data_image/hurricane_harvey/27_8_2017/90164607...  \n",
       "2  data_image/hurricane_harvey/27_8_2017/90164607...  \n",
       "3  data_image/hurricane_harvey/27_8_2017/90164607...  \n",
       "4  data_image/hurricane_harvey/27_8_2017/90164607...  \n",
       "5  data_image/hurricane_harvey/27_8_2017/90164612...  \n",
       "6  data_image/hurricane_harvey/27_8_2017/90164612...  \n",
       "7  data_image/hurricane_harvey/27_8_2017/90164612...  \n",
       "8  data_image/hurricane_harvey/27_8_2017/90164612...  \n",
       "9  data_image/hurricane_harvey/27_8_2017/90164612...  "
      ]
     },
     "execution_count": 13,
     "metadata": {},
     "output_type": "execute_result"
    }
   ],
   "source": [
    "example_df.head(10)"
   ]
  },
  {
   "cell_type": "code",
   "execution_count": 16,
   "metadata": {},
   "outputs": [
    {
     "data": {
      "text/plain": [
       "4443"
      ]
     },
     "execution_count": 16,
     "metadata": {},
     "output_type": "execute_result"
    }
   ],
   "source": [
    "#checking the number of records\n",
    "len(example_df)"
   ]
  },
  {
   "cell_type": "markdown",
   "metadata": {},
   "source": [
    "We are particularly interested in the \"image_damage\" and \"image_path\" columns for the current project"
   ]
  },
  {
   "cell_type": "code",
   "execution_count": 17,
   "metadata": {},
   "outputs": [
    {
     "data": {
      "text/plain": [
       "severe_damage              556\n",
       "mild_damage                222\n",
       "little_or_no_damage        116\n",
       "dont_know_or_cant_judge     22\n",
       "Name: image_damage, dtype: int64"
      ]
     },
     "execution_count": 17,
     "metadata": {},
     "output_type": "execute_result"
    }
   ],
   "source": [
    "example_df['image_damage'].value_counts()"
   ]
  },
  {
   "cell_type": "markdown",
   "metadata": {},
   "source": [
    "for the current project, we will be interested in records which have a value for \"image_damage\" and filter out records which have an empty or NaN value for \"image_damage\""
   ]
  },
  {
   "cell_type": "markdown",
   "metadata": {},
   "source": [
    "Let us count the number of NaN values in \"image_damage\" column"
   ]
  },
  {
   "cell_type": "code",
   "execution_count": 18,
   "metadata": {},
   "outputs": [
    {
     "data": {
      "text/plain": [
       "3527"
      ]
     },
     "execution_count": 18,
     "metadata": {},
     "output_type": "execute_result"
    }
   ],
   "source": [
    "example_df['image_damage'].isna().sum()"
   ]
  },
  {
   "cell_type": "markdown",
   "metadata": {},
   "source": [
    "We will be following the below approach:\n",
    "1. Let us create a main folder (all_disaster_images) and inside that 3 folders (severe_damage, mild_damage, little_or_no_damage), which will contain the images pertaining to each severity of damage\n",
    "2. We will go through all the tsv files pertaining to different natural disasters in the annotations folder\n",
    "3. Records which have valid \"image_damage\" values, we will copy the image from the \"image_path\" and paste it in one of the 3 folders created above based on the \"image_damage\" type "
   ]
  },
  {
   "cell_type": "code",
   "execution_count": 21,
   "metadata": {},
   "outputs": [],
   "source": [
    "severity_levels = [\"severe_damage\", \"mild_damage\", \"little_or_no_damage\"]"
   ]
  },
  {
   "cell_type": "code",
   "execution_count": 22,
   "metadata": {},
   "outputs": [],
   "source": [
    "base_dir = 'all_disaster_images'\n",
    "os.mkdir(base_dir)"
   ]
  },
  {
   "cell_type": "code",
   "execution_count": 23,
   "metadata": {},
   "outputs": [],
   "source": [
    "for cur_level in severity_levels:\n",
    "    cur_dir = os.path.join(base_dir, cur_level)\n",
    "    os.mkdir(cur_dir)"
   ]
  },
  {
   "cell_type": "code",
   "execution_count": 25,
   "metadata": {},
   "outputs": [],
   "source": [
    "tsv_files = os.listdir('annotations/')"
   ]
  },
  {
   "cell_type": "code",
   "execution_count": 34,
   "metadata": {},
   "outputs": [
    {
     "name": "stdout",
     "output_type": "stream",
     "text": [
      "current tsv file: california_wildfires_final_data.tsv\n",
      "number of records 1589\n",
      "counts\n",
      " severe_damage              465\n",
      "mild_damage                 51\n",
      "little_or_no_damage         15\n",
      "dont_know_or_cant_judge     14\n",
      "Name: image_damage, dtype: int64\n",
      "number of NaN records 1044\n",
      "===========================================================\n",
      "current tsv file: hurricane_harvey_final_data.tsv\n",
      "number of records 4443\n",
      "counts\n",
      " severe_damage              556\n",
      "mild_damage                222\n",
      "little_or_no_damage        116\n",
      "dont_know_or_cant_judge     22\n",
      "Name: image_damage, dtype: int64\n",
      "number of NaN records 3527\n",
      "===========================================================\n",
      "current tsv file: hurricane_irma_final_data.tsv\n",
      "number of records 4525\n",
      "counts\n",
      " severe_damage              320\n",
      "little_or_no_damage        250\n",
      "mild_damage                230\n",
      "dont_know_or_cant_judge     19\n",
      "Name: image_damage, dtype: int64\n",
      "number of NaN records 3706\n",
      "===========================================================\n",
      "current tsv file: hurricane_maria_final_data.tsv\n",
      "number of records 4562\n",
      "counts\n",
      " severe_damage              509\n",
      "mild_damage                273\n",
      "little_or_no_damage         80\n",
      "dont_know_or_cant_judge     42\n",
      "Name: image_damage, dtype: int64\n",
      "number of NaN records 3658\n",
      "===========================================================\n",
      "current tsv file: iraq_iran_earthquake_final_data.tsv\n",
      "number of records 600\n",
      "counts\n",
      " severe_damage          158\n",
      "mild_damage             11\n",
      "little_or_no_damage      4\n",
      "Name: image_damage, dtype: int64\n",
      "number of NaN records 427\n",
      "===========================================================\n",
      "current tsv file: mexico_earthquake_final_data.tsv\n",
      "number of records 1382\n",
      "counts\n",
      " severe_damage              148\n",
      "mild_damage                 25\n",
      "little_or_no_damage          5\n",
      "dont_know_or_cant_judge      4\n",
      "Name: image_damage, dtype: int64\n",
      "number of NaN records 1200\n",
      "===========================================================\n",
      "current tsv file: srilanka_floods_final_data.tsv\n",
      "number of records 1025\n",
      "counts\n",
      " severe_damage              60\n",
      "mild_damage                30\n",
      "little_or_no_damage         5\n",
      "dont_know_or_cant_judge     1\n",
      "Name: image_damage, dtype: int64\n",
      "number of NaN records 929\n",
      "===========================================================\n"
     ]
    }
   ],
   "source": [
    "for cur_file in tsv_files:\n",
    "    print('current tsv file:', cur_file)\n",
    "    cur_df = pd.read_csv('annotations/' + cur_file, sep='\\t')\n",
    "    print('number of records', len(cur_df))\n",
    "    print('counts\\n', cur_df['image_damage'].value_counts())\n",
    "    print('number of NaN records', cur_df['image_damage'].isna().sum())\n",
    "    print(\"===========================================================\")"
   ]
  },
  {
   "cell_type": "code",
   "execution_count": null,
   "metadata": {},
   "outputs": [],
   "source": []
  }
 ],
 "metadata": {
  "kernelspec": {
   "display_name": "Python 3",
   "language": "python",
   "name": "python3"
  },
  "language_info": {
   "codemirror_mode": {
    "name": "ipython",
    "version": 3
   },
   "file_extension": ".py",
   "mimetype": "text/x-python",
   "name": "python",
   "nbconvert_exporter": "python",
   "pygments_lexer": "ipython3",
   "version": "3.7.0"
  }
 },
 "nbformat": 4,
 "nbformat_minor": 2
}
