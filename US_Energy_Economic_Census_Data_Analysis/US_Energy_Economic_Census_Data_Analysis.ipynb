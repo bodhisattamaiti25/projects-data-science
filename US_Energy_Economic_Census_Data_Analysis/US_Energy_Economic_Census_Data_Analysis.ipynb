{
 "cells": [
  {
   "cell_type": "markdown",
   "metadata": {},
   "source": [
    "# I have just started working on this data set. This is a work in progress. You can check my \"Chicago crime data analysis\" project. I have done comprehensive analysis in that project. Thanks."
   ]
  },
  {
   "cell_type": "markdown",
   "metadata": {},
   "source": [
    "# This data set has been obtained from Kaggle. This is the following URL:\n",
    "\n",
    "https://www.kaggle.com/lislejoem/us_energy_census_gdp_10-14/data"
   ]
  },
  {
   "cell_type": "markdown",
   "metadata": {},
   "source": [
    "# To get an understanding about the columns in the data set, please visit the following URL:\n",
    "    \n",
    "https://www.kaggle.com/lislejoem/us_energy_census_gdp_10-14"
   ]
  },
  {
   "cell_type": "markdown",
   "metadata": {},
   "source": [
    "# Important Note: When viewing this notebook in github directly, the choropleth maps might not be visible. To view those plots in github directly, use this URL:\n",
    "        \n",
    "http://nbviewer.jupyter.org/github/bodhisattamaiti25/projects-data-science/blob/master/US_Energy_Economic_Census_Data_Analysis/US_Energy_Economic_Census_Data_Analysis.ipynb"
   ]
  },
  {
   "cell_type": "code",
   "execution_count": 28,
   "metadata": {
    "collapsed": false
   },
   "outputs": [],
   "source": [
    "import pandas as pd\n",
    "import numpy as np\n",
    "import matplotlib.pyplot as plt\n",
    "import matplotlib.pylab as pylab \n",
    "import seaborn as sns\n",
    "import plotly\n",
    "from plotly.offline import init_notebook_mode, iplot\n",
    "import plotly.plotly as py"
   ]
  },
  {
   "cell_type": "markdown",
   "metadata": {},
   "source": [
    "# Reading the dataset (in csv format) and creating dataframe"
   ]
  },
  {
   "cell_type": "code",
   "execution_count": 29,
   "metadata": {
    "collapsed": true
   },
   "outputs": [],
   "source": [
    "energy_economic_census_df = pd.read_csv('Energy Census and Economic Data US 2010-2014.csv')"
   ]
  },
  {
   "cell_type": "markdown",
   "metadata": {},
   "source": [
    "# Preliminary analysis of the data set"
   ]
  },
  {
   "cell_type": "code",
   "execution_count": 30,
   "metadata": {
    "collapsed": false
   },
   "outputs": [
    {
     "data": {
      "text/html": [
       "<div>\n",
       "<table border=\"1\" class=\"dataframe\">\n",
       "  <thead>\n",
       "    <tr style=\"text-align: right;\">\n",
       "      <th></th>\n",
       "      <th>StateCodes</th>\n",
       "      <th>State</th>\n",
       "      <th>Region</th>\n",
       "      <th>Division</th>\n",
       "      <th>Coast</th>\n",
       "      <th>Great Lakes</th>\n",
       "      <th>TotalC2010</th>\n",
       "      <th>TotalC2011</th>\n",
       "      <th>TotalC2012</th>\n",
       "      <th>TotalC2013</th>\n",
       "      <th>...</th>\n",
       "      <th>RINTERNATIONALMIG2013</th>\n",
       "      <th>RINTERNATIONALMIG2014</th>\n",
       "      <th>RDOMESTICMIG2011</th>\n",
       "      <th>RDOMESTICMIG2012</th>\n",
       "      <th>RDOMESTICMIG2013</th>\n",
       "      <th>RDOMESTICMIG2014</th>\n",
       "      <th>RNETMIG2011</th>\n",
       "      <th>RNETMIG2012</th>\n",
       "      <th>RNETMIG2013</th>\n",
       "      <th>RNETMIG2014</th>\n",
       "    </tr>\n",
       "  </thead>\n",
       "  <tbody>\n",
       "    <tr>\n",
       "      <th>0</th>\n",
       "      <td>AL</td>\n",
       "      <td>Alabama</td>\n",
       "      <td>3.0</td>\n",
       "      <td>6.0</td>\n",
       "      <td>1.0</td>\n",
       "      <td>0.0</td>\n",
       "      <td>1931522</td>\n",
       "      <td>1905207</td>\n",
       "      <td>1879716</td>\n",
       "      <td>1919365</td>\n",
       "      <td>...</td>\n",
       "      <td>1.165832</td>\n",
       "      <td>1.157861</td>\n",
       "      <td>-0.020443</td>\n",
       "      <td>-0.168414</td>\n",
       "      <td>0.396416</td>\n",
       "      <td>0.420102</td>\n",
       "      <td>1.011941</td>\n",
       "      <td>1.001333</td>\n",
       "      <td>1.562247</td>\n",
       "      <td>1.577963</td>\n",
       "    </tr>\n",
       "    <tr>\n",
       "      <th>1</th>\n",
       "      <td>AK</td>\n",
       "      <td>Alaska</td>\n",
       "      <td>4.0</td>\n",
       "      <td>9.0</td>\n",
       "      <td>1.0</td>\n",
       "      <td>0.0</td>\n",
       "      <td>653221</td>\n",
       "      <td>653637</td>\n",
       "      <td>649341</td>\n",
       "      <td>621107</td>\n",
       "      <td>...</td>\n",
       "      <td>3.203618</td>\n",
       "      <td>2.869760</td>\n",
       "      <td>-1.175137</td>\n",
       "      <td>-1.949571</td>\n",
       "      <td>-3.789313</td>\n",
       "      <td>-13.754494</td>\n",
       "      <td>0.948185</td>\n",
       "      <td>1.835376</td>\n",
       "      <td>-0.585695</td>\n",
       "      <td>-10.884734</td>\n",
       "    </tr>\n",
       "    <tr>\n",
       "      <th>2</th>\n",
       "      <td>AZ</td>\n",
       "      <td>Arizona</td>\n",
       "      <td>4.0</td>\n",
       "      <td>8.0</td>\n",
       "      <td>0.0</td>\n",
       "      <td>0.0</td>\n",
       "      <td>1383531</td>\n",
       "      <td>1424944</td>\n",
       "      <td>1395839</td>\n",
       "      <td>1414383</td>\n",
       "      <td>...</td>\n",
       "      <td>1.090035</td>\n",
       "      <td>1.091283</td>\n",
       "      <td>1.341472</td>\n",
       "      <td>-0.420875</td>\n",
       "      <td>-0.580562</td>\n",
       "      <td>-1.313050</td>\n",
       "      <td>2.317801</td>\n",
       "      <td>0.621971</td>\n",
       "      <td>0.509473</td>\n",
       "      <td>-0.221767</td>\n",
       "    </tr>\n",
       "    <tr>\n",
       "      <th>3</th>\n",
       "      <td>AR</td>\n",
       "      <td>Arkansas</td>\n",
       "      <td>3.0</td>\n",
       "      <td>7.0</td>\n",
       "      <td>0.0</td>\n",
       "      <td>0.0</td>\n",
       "      <td>1120632</td>\n",
       "      <td>1122544</td>\n",
       "      <td>1067642</td>\n",
       "      <td>1096438</td>\n",
       "      <td>...</td>\n",
       "      <td>2.141877</td>\n",
       "      <td>2.129805</td>\n",
       "      <td>1.369514</td>\n",
       "      <td>5.131282</td>\n",
       "      <td>3.910476</td>\n",
       "      <td>6.280636</td>\n",
       "      <td>3.336628</td>\n",
       "      <td>7.155212</td>\n",
       "      <td>6.052353</td>\n",
       "      <td>8.410441</td>\n",
       "    </tr>\n",
       "    <tr>\n",
       "      <th>4</th>\n",
       "      <td>CA</td>\n",
       "      <td>California</td>\n",
       "      <td>4.0</td>\n",
       "      <td>9.0</td>\n",
       "      <td>1.0</td>\n",
       "      <td>0.0</td>\n",
       "      <td>7760629</td>\n",
       "      <td>7777115</td>\n",
       "      <td>7564063</td>\n",
       "      <td>7665241</td>\n",
       "      <td>...</td>\n",
       "      <td>4.207353</td>\n",
       "      <td>4.177389</td>\n",
       "      <td>-1.162079</td>\n",
       "      <td>-1.173951</td>\n",
       "      <td>-1.341226</td>\n",
       "      <td>-0.830982</td>\n",
       "      <td>2.761377</td>\n",
       "      <td>2.772770</td>\n",
       "      <td>2.866127</td>\n",
       "      <td>3.346406</td>\n",
       "    </tr>\n",
       "  </tbody>\n",
       "</table>\n",
       "<p>5 rows × 192 columns</p>\n",
       "</div>"
      ],
      "text/plain": [
       "  StateCodes       State  Region  Division  Coast  Great Lakes  TotalC2010  \\\n",
       "0         AL     Alabama     3.0       6.0    1.0          0.0     1931522   \n",
       "1         AK      Alaska     4.0       9.0    1.0          0.0      653221   \n",
       "2         AZ     Arizona     4.0       8.0    0.0          0.0     1383531   \n",
       "3         AR    Arkansas     3.0       7.0    0.0          0.0     1120632   \n",
       "4         CA  California     4.0       9.0    1.0          0.0     7760629   \n",
       "\n",
       "   TotalC2011  TotalC2012  TotalC2013     ...       RINTERNATIONALMIG2013  \\\n",
       "0     1905207     1879716     1919365     ...                    1.165832   \n",
       "1      653637      649341      621107     ...                    3.203618   \n",
       "2     1424944     1395839     1414383     ...                    1.090035   \n",
       "3     1122544     1067642     1096438     ...                    2.141877   \n",
       "4     7777115     7564063     7665241     ...                    4.207353   \n",
       "\n",
       "   RINTERNATIONALMIG2014  RDOMESTICMIG2011  RDOMESTICMIG2012  \\\n",
       "0               1.157861         -0.020443         -0.168414   \n",
       "1               2.869760         -1.175137         -1.949571   \n",
       "2               1.091283          1.341472         -0.420875   \n",
       "3               2.129805          1.369514          5.131282   \n",
       "4               4.177389         -1.162079         -1.173951   \n",
       "\n",
       "   RDOMESTICMIG2013  RDOMESTICMIG2014  RNETMIG2011  RNETMIG2012  RNETMIG2013  \\\n",
       "0          0.396416          0.420102     1.011941     1.001333     1.562247   \n",
       "1         -3.789313        -13.754494     0.948185     1.835376    -0.585695   \n",
       "2         -0.580562         -1.313050     2.317801     0.621971     0.509473   \n",
       "3          3.910476          6.280636     3.336628     7.155212     6.052353   \n",
       "4         -1.341226         -0.830982     2.761377     2.772770     2.866127   \n",
       "\n",
       "   RNETMIG2014  \n",
       "0     1.577963  \n",
       "1   -10.884734  \n",
       "2    -0.221767  \n",
       "3     8.410441  \n",
       "4     3.346406  \n",
       "\n",
       "[5 rows x 192 columns]"
      ]
     },
     "execution_count": 30,
     "metadata": {},
     "output_type": "execute_result"
    }
   ],
   "source": [
    "energy_economic_census_df.head()"
   ]
  },
  {
   "cell_type": "code",
   "execution_count": 31,
   "metadata": {
    "collapsed": false
   },
   "outputs": [
    {
     "data": {
      "text/plain": [
       "(52, 192)"
      ]
     },
     "execution_count": 31,
     "metadata": {},
     "output_type": "execute_result"
    }
   ],
   "source": [
    "energy_economic_census_df.shape"
   ]
  },
  {
   "cell_type": "code",
   "execution_count": 32,
   "metadata": {
    "collapsed": false
   },
   "outputs": [
    {
     "data": {
      "text/plain": [
       "['StateCodes',\n",
       " 'State',\n",
       " 'Region',\n",
       " 'Division',\n",
       " 'Coast',\n",
       " 'Great Lakes',\n",
       " 'TotalC2010',\n",
       " 'TotalC2011',\n",
       " 'TotalC2012',\n",
       " 'TotalC2013',\n",
       " 'TotalC2014',\n",
       " 'TotalP2010',\n",
       " 'TotalP2011',\n",
       " 'TotalP2012',\n",
       " 'TotalP2013',\n",
       " 'TotalP2014',\n",
       " 'TotalE2010',\n",
       " 'TotalE2011',\n",
       " 'TotalE2012',\n",
       " 'TotalE2013',\n",
       " 'TotalE2014',\n",
       " 'TotalPrice2010',\n",
       " 'TotalPrice2011',\n",
       " 'TotalPrice2012',\n",
       " 'TotalPrice2013',\n",
       " 'TotalPrice2014',\n",
       " 'TotalC10-11',\n",
       " 'TotalC11-12',\n",
       " 'TotalC12-13',\n",
       " 'TotalC13-14',\n",
       " 'TotalP10-11',\n",
       " 'TotalP11-12',\n",
       " 'TotalP12-13',\n",
       " 'TotalP13-14',\n",
       " 'TotalE10-11',\n",
       " 'TotalE11-12',\n",
       " 'TotalE12-13',\n",
       " 'TotalE13-14',\n",
       " 'TotalPrice10-11',\n",
       " 'TotalPrice11-12',\n",
       " 'TotalPrice12-13',\n",
       " 'TotalPrice13-14',\n",
       " 'BiomassC2010',\n",
       " 'BiomassC2011',\n",
       " 'BiomassC2012',\n",
       " 'BiomassC2013',\n",
       " 'BiomassC2014',\n",
       " 'CoalC2010',\n",
       " 'CoalC2011',\n",
       " 'CoalC2012',\n",
       " 'CoalC2013',\n",
       " 'CoalC2014',\n",
       " 'CoalP2010',\n",
       " 'CoalP2011',\n",
       " 'CoalP2012',\n",
       " 'CoalP2013',\n",
       " 'CoalP2014',\n",
       " 'CoalE2010',\n",
       " 'CoalE2011',\n",
       " 'CoalE2012',\n",
       " 'CoalE2013',\n",
       " 'CoalE2014',\n",
       " 'CoalPrice2010',\n",
       " 'CoalPrice2011',\n",
       " 'CoalPrice2012',\n",
       " 'CoalPrice2013',\n",
       " 'CoalPrice2014',\n",
       " 'ElecC2010',\n",
       " 'ElecC2011',\n",
       " 'ElecC2012',\n",
       " 'ElecC2013',\n",
       " 'ElecC2014',\n",
       " 'ElecE2010',\n",
       " 'ElecE2011',\n",
       " 'ElecE2012',\n",
       " 'ElecE2013',\n",
       " 'ElecE2014',\n",
       " 'ElecPrice2010',\n",
       " 'ElecPrice2011',\n",
       " 'ElecPrice2012',\n",
       " 'ElecPrice2013',\n",
       " 'ElecPrice2014',\n",
       " 'FossFuelC2010',\n",
       " 'FossFuelC2011',\n",
       " 'FossFuelC2012',\n",
       " 'FossFuelC2013',\n",
       " 'FossFuelC2014',\n",
       " 'GeoC2010',\n",
       " 'GeoC2011',\n",
       " 'GeoC2012',\n",
       " 'GeoC2013',\n",
       " 'GeoC2014',\n",
       " 'GeoP2010',\n",
       " 'GeoP2011',\n",
       " 'GeoP2012',\n",
       " 'GeoP2013',\n",
       " 'GeoP2014',\n",
       " 'HydroC2010',\n",
       " 'HydroC2011',\n",
       " 'HydroC2012',\n",
       " 'HydroC2013',\n",
       " 'HydroC2014',\n",
       " 'HydroP2010',\n",
       " 'HydroP2011',\n",
       " 'HydroP2012',\n",
       " 'HydroP2013',\n",
       " 'HydroP2014',\n",
       " 'NatGasC2010',\n",
       " 'NatGasC2011',\n",
       " 'NatGasC2012',\n",
       " 'NatGasC2013',\n",
       " 'NatGasC2014',\n",
       " 'NatGasE2010',\n",
       " 'NatGasE2011',\n",
       " 'NatGasE2012',\n",
       " 'NatGasE2013',\n",
       " 'NatGasE2014',\n",
       " 'NatGasPrice2010',\n",
       " 'NatGasPrice2011',\n",
       " 'NatGasPrice2012',\n",
       " 'NatGasPrice2013',\n",
       " 'NatGasPrice2014',\n",
       " 'LPGC2010',\n",
       " 'LPGC2011',\n",
       " 'LPGC2012',\n",
       " 'LPGC2013',\n",
       " 'LPGC2014',\n",
       " 'LPGE2010',\n",
       " 'LPGE2011',\n",
       " 'LPGE2012',\n",
       " 'LPGE2013',\n",
       " 'LPGE2014',\n",
       " 'LPGPrice2010',\n",
       " 'LPGPrice2011',\n",
       " 'LPGPrice2012',\n",
       " 'LPGPrice2013',\n",
       " 'LPGPrice2014',\n",
       " 'GDP2010Q1',\n",
       " 'GDP2010Q2',\n",
       " 'GDP2010Q3',\n",
       " 'GDP2010Q4',\n",
       " 'GDP2010',\n",
       " 'GDP2011Q1',\n",
       " 'GDP2011Q2',\n",
       " 'GDP2011Q3',\n",
       " 'GDP2011Q4',\n",
       " 'GDP2011',\n",
       " 'GDP2012Q1',\n",
       " 'GDP2012Q2',\n",
       " 'GDP2012Q3',\n",
       " 'GDP2012Q4',\n",
       " 'GDP2012',\n",
       " 'GDP2013Q1',\n",
       " 'GDP2013Q2',\n",
       " 'GDP2013Q3',\n",
       " 'GDP2013Q4',\n",
       " 'GDP2013',\n",
       " 'GDP2014Q1',\n",
       " 'GDP2014Q2',\n",
       " 'GDP2014Q3',\n",
       " 'GDP2014Q4',\n",
       " 'GDP2014',\n",
       " 'CENSUS2010POP',\n",
       " 'POPESTIMATE2010',\n",
       " 'POPESTIMATE2011',\n",
       " 'POPESTIMATE2012',\n",
       " 'POPESTIMATE2013',\n",
       " 'POPESTIMATE2014',\n",
       " 'RBIRTH2011',\n",
       " 'RBIRTH2012',\n",
       " 'RBIRTH2013',\n",
       " 'RBIRTH2014',\n",
       " 'RDEATH2011',\n",
       " 'RDEATH2012',\n",
       " 'RDEATH2013',\n",
       " 'RDEATH2014',\n",
       " 'RNATURALINC2011',\n",
       " 'RNATURALINC2012',\n",
       " 'RNATURALINC2013',\n",
       " 'RNATURALINC2014',\n",
       " 'RINTERNATIONALMIG2011',\n",
       " 'RINTERNATIONALMIG2012',\n",
       " 'RINTERNATIONALMIG2013',\n",
       " 'RINTERNATIONALMIG2014',\n",
       " 'RDOMESTICMIG2011',\n",
       " 'RDOMESTICMIG2012',\n",
       " 'RDOMESTICMIG2013',\n",
       " 'RDOMESTICMIG2014',\n",
       " 'RNETMIG2011',\n",
       " 'RNETMIG2012',\n",
       " 'RNETMIG2013',\n",
       " 'RNETMIG2014']"
      ]
     },
     "execution_count": 32,
     "metadata": {},
     "output_type": "execute_result"
    }
   ],
   "source": [
    "list(energy_economic_census_df.columns)"
   ]
  },
  {
   "cell_type": "code",
   "execution_count": 33,
   "metadata": {
    "collapsed": false
   },
   "outputs": [
    {
     "data": {
      "text/plain": [
       "StateCodes                object\n",
       "State                     object\n",
       "Region                   float64\n",
       "Division                 float64\n",
       "Coast                    float64\n",
       "Great Lakes              float64\n",
       "TotalC2010                 int64\n",
       "TotalC2011                 int64\n",
       "TotalC2012                 int64\n",
       "TotalC2013                 int64\n",
       "TotalC2014                 int64\n",
       "TotalP2010                 int64\n",
       "TotalP2011                 int64\n",
       "TotalP2012                 int64\n",
       "TotalP2013                 int64\n",
       "TotalP2014                 int64\n",
       "TotalE2010               float64\n",
       "TotalE2011               float64\n",
       "TotalE2012               float64\n",
       "TotalE2013               float64\n",
       "TotalE2014               float64\n",
       "TotalPrice2010           float64\n",
       "TotalPrice2011           float64\n",
       "TotalPrice2012           float64\n",
       "TotalPrice2013           float64\n",
       "TotalPrice2014           float64\n",
       "TotalC10-11              float64\n",
       "TotalC11-12              float64\n",
       "TotalC12-13              float64\n",
       "TotalC13-14              float64\n",
       "                          ...   \n",
       "CENSUS2010POP              int64\n",
       "POPESTIMATE2010            int64\n",
       "POPESTIMATE2011            int64\n",
       "POPESTIMATE2012            int64\n",
       "POPESTIMATE2013            int64\n",
       "POPESTIMATE2014            int64\n",
       "RBIRTH2011               float64\n",
       "RBIRTH2012               float64\n",
       "RBIRTH2013               float64\n",
       "RBIRTH2014               float64\n",
       "RDEATH2011               float64\n",
       "RDEATH2012               float64\n",
       "RDEATH2013               float64\n",
       "RDEATH2014               float64\n",
       "RNATURALINC2011          float64\n",
       "RNATURALINC2012          float64\n",
       "RNATURALINC2013          float64\n",
       "RNATURALINC2014          float64\n",
       "RINTERNATIONALMIG2011    float64\n",
       "RINTERNATIONALMIG2012    float64\n",
       "RINTERNATIONALMIG2013    float64\n",
       "RINTERNATIONALMIG2014    float64\n",
       "RDOMESTICMIG2011         float64\n",
       "RDOMESTICMIG2012         float64\n",
       "RDOMESTICMIG2013         float64\n",
       "RDOMESTICMIG2014         float64\n",
       "RNETMIG2011              float64\n",
       "RNETMIG2012              float64\n",
       "RNETMIG2013              float64\n",
       "RNETMIG2014              float64\n",
       "dtype: object"
      ]
     },
     "execution_count": 33,
     "metadata": {},
     "output_type": "execute_result"
    }
   ],
   "source": [
    "energy_economic_census_df.dtypes"
   ]
  },
  {
   "cell_type": "code",
   "execution_count": 34,
   "metadata": {
    "collapsed": false
   },
   "outputs": [
    {
     "data": {
      "text/plain": [
       "array(['Alabama', 'Alaska', 'Arizona', 'Arkansas', 'California',\n",
       "       'Colorado', 'Connecticut', 'Delaware', 'Florida', 'Georgia',\n",
       "       'Hawaii', 'Idaho', 'Illinois', 'Indiana', 'Iowa', 'Kansas',\n",
       "       'Kentucky', 'Louisiana', 'Maine', 'Maryland', 'Massachusetts',\n",
       "       'Michigan', 'Minnesota', 'Mississippi', 'Missouri', 'Montana',\n",
       "       'Nebraska', 'Nevada', 'New Hampshire', 'New Jersey', 'New Mexico',\n",
       "       'New York', 'North Carolina', 'North Dakota', 'Ohio', 'Oklahoma',\n",
       "       'Oregon', 'Pennsylvania', 'Rhode Island', 'South Carolina',\n",
       "       'South Dakota', 'Tennessee', 'Texas', 'Utah', 'Vermont', 'Virginia',\n",
       "       'Washington', 'West Virginia', 'Wisconsin', 'Wyoming',\n",
       "       'District of Columbia', 'United States'], dtype=object)"
      ]
     },
     "execution_count": 34,
     "metadata": {},
     "output_type": "execute_result"
    }
   ],
   "source": [
    "energy_economic_census_df['State'].unique()"
   ]
  },
  {
   "cell_type": "markdown",
   "metadata": {},
   "source": [
    "# As per today's date 19th Feb, 2018, there are 50 states in USA, extracting the same from the data set"
   ]
  },
  {
   "cell_type": "code",
   "execution_count": 35,
   "metadata": {
    "collapsed": false
   },
   "outputs": [],
   "source": [
    "energy_economic_census_df_filtered = energy_economic_census_df[(energy_economic_census_df['State'] != 'District of Columbia') & (energy_economic_census_df['State'] != 'United States')]"
   ]
  },
  {
   "cell_type": "code",
   "execution_count": 36,
   "metadata": {
    "collapsed": false
   },
   "outputs": [
    {
     "data": {
      "text/plain": [
       "array(['Alabama', 'Alaska', 'Arizona', 'Arkansas', 'California',\n",
       "       'Colorado', 'Connecticut', 'Delaware', 'Florida', 'Georgia',\n",
       "       'Hawaii', 'Idaho', 'Illinois', 'Indiana', 'Iowa', 'Kansas',\n",
       "       'Kentucky', 'Louisiana', 'Maine', 'Maryland', 'Massachusetts',\n",
       "       'Michigan', 'Minnesota', 'Mississippi', 'Missouri', 'Montana',\n",
       "       'Nebraska', 'Nevada', 'New Hampshire', 'New Jersey', 'New Mexico',\n",
       "       'New York', 'North Carolina', 'North Dakota', 'Ohio', 'Oklahoma',\n",
       "       'Oregon', 'Pennsylvania', 'Rhode Island', 'South Carolina',\n",
       "       'South Dakota', 'Tennessee', 'Texas', 'Utah', 'Vermont', 'Virginia',\n",
       "       'Washington', 'West Virginia', 'Wisconsin', 'Wyoming'], dtype=object)"
      ]
     },
     "execution_count": 36,
     "metadata": {},
     "output_type": "execute_result"
    }
   ],
   "source": [
    "energy_economic_census_df_filtered['State'].unique()"
   ]
  },
  {
   "cell_type": "code",
   "execution_count": 37,
   "metadata": {
    "collapsed": false
   },
   "outputs": [
    {
     "name": "stderr",
     "output_type": "stream",
     "text": [
      "/anaconda/lib/python2.7/site-packages/ipykernel/__main__.py:8: SettingWithCopyWarning:\n",
      "\n",
      "\n",
      "A value is trying to be set on a copy of a slice from a DataFrame.\n",
      "Try using .loc[row_indexer,col_indexer] = value instead\n",
      "\n",
      "See the caveats in the documentation: http://pandas.pydata.org/pandas-docs/stable/indexing.html#indexing-view-versus-copy\n",
      "\n"
     ]
    }
   ],
   "source": [
    "region_code_name_mapping = {\n",
    "    1 : 'Northeast', 2 : 'Midwest', 3 : 'South', 4 : 'West'\n",
    "}\n",
    "def get_RegionName(cur_region):\n",
    "    \n",
    "    return region_code_name_mapping[cur_region]\n",
    "\n",
    "energy_economic_census_df_filtered['Region Name'] = energy_economic_census_df_filtered['Region'].apply(get_RegionName)"
   ]
  },
  {
   "cell_type": "code",
   "execution_count": 38,
   "metadata": {
    "collapsed": false
   },
   "outputs": [
    {
     "name": "stderr",
     "output_type": "stream",
     "text": [
      "/anaconda/lib/python2.7/site-packages/ipykernel/__main__.py:16: SettingWithCopyWarning:\n",
      "\n",
      "\n",
      "A value is trying to be set on a copy of a slice from a DataFrame.\n",
      "Try using .loc[row_indexer,col_indexer] = value instead\n",
      "\n",
      "See the caveats in the documentation: http://pandas.pydata.org/pandas-docs/stable/indexing.html#indexing-view-versus-copy\n",
      "\n"
     ]
    }
   ],
   "source": [
    "division_code_name_mapping = {\n",
    "    1 : 'New England', \n",
    "    2 : 'Middle Atlantic', \n",
    "    3 : 'East North Central', \n",
    "    4 : 'West North Central', \n",
    "    5 : 'South Atlantic', \n",
    "    6 : 'East South Central', \n",
    "    7 : 'West South Central', \n",
    "    8 : 'Mountain', \n",
    "    9 : 'Pacific'\n",
    "}\n",
    "def get_DivisionName(cur_division):\n",
    "    \n",
    "    return division_code_name_mapping[cur_division]\n",
    "\n",
    "energy_economic_census_df_filtered['Division Name'] = energy_economic_census_df_filtered['Division'].apply(get_DivisionName)"
   ]
  },
  {
   "cell_type": "code",
   "execution_count": 49,
   "metadata": {
    "collapsed": true
   },
   "outputs": [],
   "source": [
    "def generate_horizontalBarChart(ax, y_pos, count, color, yTickLabels, xLabel, yLabel, plotTitle, rotation=35):\n",
    "    \n",
    "    \n",
    "    ax.barh(y_pos, count, align='center', color=color)\n",
    "    ax.set_yticks(y_pos)\n",
    "    \n",
    "    ax.set_yticklabels(yTickLabels, fontweight='bold')\n",
    "    ax.invert_yaxis()  \n",
    "    ax.set_xlabel(xLabel, fontweight='bold', fontsize=18)\n",
    "    ax.set_ylabel(yLabel, fontweight='bold', fontsize=18)\n",
    "    ax.set_title(plotTitle, fontweight='bold')\n",
    "    \n",
    "    for cur_tick in ax.get_xticklabels():\n",
    "        cur_tick.set_rotation(rotation)\n",
    "        cur_tick.set_fontweight('bold')\n",
    "    plt.show()"
   ]
  },
  {
   "cell_type": "code",
   "execution_count": 62,
   "metadata": {
    "collapsed": false
   },
   "outputs": [
    {
     "data": {
      "image/png": "[encoded data removed]",
      "text/plain": [
       "<matplotlib.figure.Figure at 0x1a1c0f4410>"
      ]
     },
     "metadata": {},
     "output_type": "display_data"
    }
   ],
   "source": [
    "states_in_region_counts = energy_economic_census_df_filtered['Region Name'].value_counts().to_dict()\n",
    "states_in_region_counts = sorted(states_in_region_counts.items(), key=lambda x:x[1], reverse=True)\n",
    "unzip_state_region_data = zip(*states_in_region_counts)\n",
    "regions = unzip_state_region_data[0]\n",
    "states_count = unzip_state_region_data[1]\n",
    "\n",
    "pylab.rcParams['figure.figsize'] = 10, 6\n",
    "fig1, ax1 = plt.subplots()\n",
    "generate_horizontalBarChart(ax1, np.arange(len(regions)), states_count, 'green', regions, 'Number of States', 'Name of Region', 'Analysis of number of states in different regions in USA', 0)"
   ]
  },
  {
   "cell_type": "code",
   "execution_count": 61,
   "metadata": {
    "collapsed": false
   },
   "outputs": [
    {
     "data": {
      "image/png": "[encoded data removed]",
      "text/plain": [
       "<matplotlib.figure.Figure at 0x1a1bdfbf90>"
      ]
     },
     "metadata": {},
     "output_type": "display_data"
    }
   ],
   "source": [
    "states_in_division_counts = energy_economic_census_df_filtered['Division Name'].value_counts().to_dict()\n",
    "states_in_division_counts = sorted(states_in_division_counts.items(), key=lambda x:x[1], reverse=True)\n",
    "unzip_state_division_data = zip(*states_in_division_counts)\n",
    "divisions = unzip_state_division_data[0]\n",
    "states_in_division_count = unzip_state_division_data[1]\n",
    "\n",
    "pylab.rcParams['figure.figsize'] = 10, 8\n",
    "fig2, ax2 = plt.subplots()\n",
    "generate_horizontalBarChart(ax2, np.arange(len(divisions)), states_in_division_count, 'brown', divisions, 'Number of States', 'Name of Division', 'Analysis of number of states in different divisions in USA', 0)"
   ]
  },
  {
   "cell_type": "code",
   "execution_count": 92,
   "metadata": {
    "collapsed": false
   },
   "outputs": [],
   "source": [
    "popestimate_by_division_df = energy_economic_census_df_filtered.groupby(['Division Name'])[[\"POPESTIMATE2010\", \"POPESTIMATE2014\"]].sum()"
   ]
  },
  {
   "cell_type": "code",
   "execution_count": 93,
   "metadata": {
    "collapsed": false
   },
   "outputs": [
    {
     "data": {
      "text/html": [
       "<div>\n",
       "<table border=\"1\" class=\"dataframe\">\n",
       "  <thead>\n",
       "    <tr style=\"text-align: right;\">\n",
       "      <th></th>\n",
       "      <th>POPESTIMATE2010 (in Millions)</th>\n",
       "      <th>POPESTIMATE2014 (in Millions)</th>\n",
       "      <th>POPESTIMATE_PERCENT_CHANGE_2010_2014</th>\n",
       "    </tr>\n",
       "    <tr>\n",
       "      <th>Division Name</th>\n",
       "      <th></th>\n",
       "      <th></th>\n",
       "      <th></th>\n",
       "    </tr>\n",
       "  </thead>\n",
       "  <tbody>\n",
       "    <tr>\n",
       "      <th>East North Central</th>\n",
       "      <td>46.436241</td>\n",
       "      <td>46.739039</td>\n",
       "      <td>0.652073</td>\n",
       "    </tr>\n",
       "    <tr>\n",
       "      <th>East South Central</th>\n",
       "      <td>18.463099</td>\n",
       "      <td>18.806265</td>\n",
       "      <td>1.858659</td>\n",
       "    </tr>\n",
       "    <tr>\n",
       "      <th>Middle Atlantic</th>\n",
       "      <td>40.915524</td>\n",
       "      <td>41.471611</td>\n",
       "      <td>1.359110</td>\n",
       "    </tr>\n",
       "    <tr>\n",
       "      <th>Mountain</th>\n",
       "      <td>18.639233</td>\n",
       "      <td>19.432004</td>\n",
       "      <td>4.253238</td>\n",
       "    </tr>\n",
       "    <tr>\n",
       "      <th>New England</th>\n",
       "      <td>14.466166</td>\n",
       "      <td>14.680722</td>\n",
       "      <td>1.483157</td>\n",
       "    </tr>\n",
       "    <tr>\n",
       "      <th>Pacific</th>\n",
       "      <td>49.992811</td>\n",
       "      <td>51.990562</td>\n",
       "      <td>3.996077</td>\n",
       "    </tr>\n",
       "    <tr>\n",
       "      <th>South Atlantic</th>\n",
       "      <td>59.329846</td>\n",
       "      <td>61.855722</td>\n",
       "      <td>4.257345</td>\n",
       "    </tr>\n",
       "    <tr>\n",
       "      <th>West North Central</th>\n",
       "      <td>20.536149</td>\n",
       "      <td>21.006069</td>\n",
       "      <td>2.288258</td>\n",
       "    </tr>\n",
       "    <tr>\n",
       "      <th>West South Central</th>\n",
       "      <td>39.962778</td>\n",
       "      <td>42.216169</td>\n",
       "      <td>5.638725</td>\n",
       "    </tr>\n",
       "  </tbody>\n",
       "</table>\n",
       "</div>"
      ],
      "text/plain": [
       "                    POPESTIMATE2010 (in Millions)  \\\n",
       "Division Name                                       \n",
       "East North Central                      46.436241   \n",
       "East South Central                      18.463099   \n",
       "Middle Atlantic                         40.915524   \n",
       "Mountain                                18.639233   \n",
       "New England                             14.466166   \n",
       "Pacific                                 49.992811   \n",
       "South Atlantic                          59.329846   \n",
       "West North Central                      20.536149   \n",
       "West South Central                      39.962778   \n",
       "\n",
       "                    POPESTIMATE2014 (in Millions)  \\\n",
       "Division Name                                       \n",
       "East North Central                      46.739039   \n",
       "East South Central                      18.806265   \n",
       "Middle Atlantic                         41.471611   \n",
       "Mountain                                19.432004   \n",
       "New England                             14.680722   \n",
       "Pacific                                 51.990562   \n",
       "South Atlantic                          61.855722   \n",
       "West North Central                      21.006069   \n",
       "West South Central                      42.216169   \n",
       "\n",
       "                    POPESTIMATE_PERCENT_CHANGE_2010_2014  \n",
       "Division Name                                             \n",
       "East North Central                              0.652073  \n",
       "East South Central                              1.858659  \n",
       "Middle Atlantic                                 1.359110  \n",
       "Mountain                                        4.253238  \n",
       "New England                                     1.483157  \n",
       "Pacific                                         3.996077  \n",
       "South Atlantic                                  4.257345  \n",
       "West North Central                              2.288258  \n",
       "West South Central                              5.638725  "
      ]
     },
     "execution_count": 93,
     "metadata": {},
     "output_type": "execute_result"
    }
   ],
   "source": [
    "popestimate_by_division_df['POPESTIMATE_PERCENT_CHANGE_2010_2014'] = ((popestimate_by_division_df['POPESTIMATE2014'] - popestimate_by_division_df['POPESTIMATE2010'])/popestimate_by_division_df['POPESTIMATE2010'])*100\n",
    "popestimate_by_division_df['POPESTIMATE2010'] = popestimate_by_division_df['POPESTIMATE2010']/1e6\n",
    "popestimate_by_division_df['POPESTIMATE2014'] = popestimate_by_division_df['POPESTIMATE2014']/1e6\n",
    "popestimate_by_division_df.rename(index=str, columns={\"POPESTIMATE2010\": \"POPESTIMATE2010 (in Millions)\", \"POPESTIMATE2014\": \"POPESTIMATE2014 (in Millions)\"}, inplace=True)\n",
    "popestimate_by_division_df"
   ]
  },
  {
   "cell_type": "code",
   "execution_count": 94,
   "metadata": {
    "collapsed": false
   },
   "outputs": [],
   "source": [
    "popestimate2010_vals = []\n",
    "popestimate2014_vals = []\n",
    "popestimate_percent_change_vals = []\n",
    "for cur_division in divisions:\n",
    "    popestimate2010_vals.append((cur_division, popestimate_by_division_df.get_value(cur_division, 'POPESTIMATE2010 (in Millions)')))\n",
    "    popestimate2014_vals.append((cur_division, popestimate_by_division_df.get_value(cur_division, 'POPESTIMATE2014 (in Millions)')))\n",
    "    popestimate_percent_change_vals.append((cur_division, popestimate_by_division_df.get_value(cur_division, 'POPESTIMATE_PERCENT_CHANGE_2010_2014')))"
   ]
  },
  {
   "cell_type": "code",
   "execution_count": 95,
   "metadata": {
    "collapsed": true
   },
   "outputs": [],
   "source": [
    "popestimate2010_vals = sorted(popestimate2010_vals, key=lambda x:x[1], reverse=True)\n",
    "popestimate2014_vals = sorted(popestimate2014_vals, key=lambda x:x[1], reverse=True)\n",
    "popestimate_percent_change_vals = sorted(popestimate_percent_change_vals, key=lambda x:x[1], reverse=True)"
   ]
  },
  {
   "cell_type": "code",
   "execution_count": 96,
   "metadata": {
    "collapsed": false
   },
   "outputs": [
    {
     "data": {
      "image/png": "[encoded data removed]",
      "text/plain": [
       "<matplotlib.figure.Figure at 0x1a1cecb610>"
      ]
     },
     "metadata": {},
     "output_type": "display_data"
    }
   ],
   "source": [
    "unzip_popestimate2010_division_data = zip(*popestimate2010_vals)\n",
    "divisions_popestimate2010 = unzip_popestimate2010_division_data[0]\n",
    "popestimate2010_in_division_val = unzip_popestimate2010_division_data[1]\n",
    "\n",
    "pylab.rcParams['figure.figsize'] = 14, 10\n",
    "fig3, ax3 = plt.subplots()\n",
    "generate_horizontalBarChart(ax3, np.arange(len(divisions_popestimate2010)), popestimate2010_in_division_val, 'orange', divisions_popestimate2010, 'Population estimate (in millions) for the year 2010', 'Name of Division', 'Analysis of population estimate (2010) in different divisions of USA', 0)"
   ]
  },
  {
   "cell_type": "code",
   "execution_count": 97,
   "metadata": {
    "collapsed": false
   },
   "outputs": [
    {
     "data": {
      "image/png": "[encoded data removed]",
      "text/plain": [
       "<matplotlib.figure.Figure at 0x1a1ba565d0>"
      ]
     },
     "metadata": {},
     "output_type": "display_data"
    }
   ],
   "source": [
    "unzip_popestimate2014_division_data = zip(*popestimate2014_vals)\n",
    "divisions_popestimate2014 = unzip_popestimate2014_division_data[0]\n",
    "popestimate2014_in_division_val = unzip_popestimate2014_division_data[1]\n",
    "\n",
    "pylab.rcParams['figure.figsize'] = 14, 10\n",
    "fig4, ax4 = plt.subplots()\n",
    "generate_horizontalBarChart(ax4, np.arange(len(divisions_popestimate2014)), popestimate2014_in_division_val, 'gold', divisions_popestimate2014, 'Population estimate (in millions) for the year 2014', 'Name of Division', 'Analysis of population estimate (2014) in different divisions of USA', 0)"
   ]
  },
  {
   "cell_type": "code",
   "execution_count": 98,
   "metadata": {
    "collapsed": false
   },
   "outputs": [
    {
     "data": {
      "image/png": "[encoded data removed]",
      "text/plain": [
       "<matplotlib.figure.Figure at 0x1a1b886750>"
      ]
     },
     "metadata": {},
     "output_type": "display_data"
    }
   ],
   "source": [
    "unzip_popestimate_percent_change_division_data = zip(*popestimate_percent_change_vals)\n",
    "divisions_popestimate_percent_change = unzip_popestimate_percent_change_division_data[0]\n",
    "popestimate_percent_change_in_division_val = unzip_popestimate_percent_change_division_data[1]\n",
    "\n",
    "pylab.rcParams['figure.figsize'] = 14, 10\n",
    "fig5, ax5 = plt.subplots()\n",
    "generate_horizontalBarChart(ax5, np.arange(len(divisions_popestimate_percent_change)), popestimate_percent_change_in_division_val, '#ff6347', divisions_popestimate_percent_change, 'Population estimate percent change', 'Name of Division', 'Analysis of population estimate percent change (2010-2014) in different divisions of USA', 0)"
   ]
  },
  {
   "cell_type": "markdown",
   "metadata": {},
   "source": [
    "# To understand how to plot a choropleth map, please visit the following URL: \n",
    "\n",
    "https://plot.ly/python/choropleth-maps/"
   ]
  },
  {
   "cell_type": "code",
   "execution_count": 39,
   "metadata": {
    "collapsed": true
   },
   "outputs": [],
   "source": [
    "default_scale = [[0.0, '#add8e6'],[0.2, '#ffdab9'],\\\n",
    "       [0.4, '#d79f67'],[0.6, '#808000'],\\\n",
    "       [0.8, '#4682b4'], [1.0, '#cd5c5c']]"
   ]
  },
  {
   "cell_type": "code",
   "execution_count": 40,
   "metadata": {
    "collapsed": true
   },
   "outputs": [],
   "source": [
    "def generate_choropleth_map_usa(feature, colorbarTitle, plotTitle, tooltipText, filename, df=energy_economic_census_df_filtered, colorscale=default_scale):\n",
    "    \n",
    "    data = [ dict(\n",
    "            type='choropleth',\n",
    "            colorscale = colorscale,\n",
    "            autocolorscale = False,\n",
    "            locations = df['StateCodes'],\n",
    "            z = df[feature].astype(float),\n",
    "            locationmode = 'USA-states',\n",
    "            text = tooltipText,\n",
    "            marker = dict(\n",
    "                line = dict (\n",
    "                    color = 'rgb(255,255,255)',\n",
    "                    width = 2\n",
    "                ) ),\n",
    "            colorbar = dict(\n",
    "                title = colorbarTitle)\n",
    "            ) ]\n",
    "\n",
    "    layout = dict(\n",
    "            title = plotTitle+'<br>(Hover over chart for further information)',\n",
    "            geo = dict(\n",
    "                scope='usa',\n",
    "                projection=dict( type='albers usa' ),\n",
    "                showlakes = True,\n",
    "                lakecolor = 'rgb(255, 255, 255)'),\n",
    "                 )\n",
    "\n",
    "    fig = dict( data=data, layout=layout )\n",
    "    init_notebook_mode(connected=True)\n",
    "    iplot(fig)\n",
    "    \n",
    "    '''\n",
    "        currently if someone wants to view the notebook from github, the choropleth maps are not visible due to\n",
    "        limited rendering. We are generating the html file of the plot, so that the user can alternatively view \n",
    "        the plot from the html file. This is a workaround.\n",
    "    '''\n",
    "    plotly.offline.plot(fig, filename='html-output-files/'+filename)\n",
    "    "
   ]
  },
  {
   "cell_type": "code",
   "execution_count": 41,
   "metadata": {
    "collapsed": false
   },
   "outputs": [
    {
     "name": "stderr",
     "output_type": "stream",
     "text": [
      "/anaconda/lib/python2.7/site-packages/ipykernel/__main__.py:1: SettingWithCopyWarning:\n",
      "\n",
      "\n",
      "A value is trying to be set on a copy of a slice from a DataFrame.\n",
      "Try using .loc[row_indexer,col_indexer] = value instead\n",
      "\n",
      "See the caveats in the documentation: http://pandas.pydata.org/pandas-docs/stable/indexing.html#indexing-view-versus-copy\n",
      "\n"
     ]
    }
   ],
   "source": [
    "energy_economic_census_df_filtered['basic tooltip text'] = energy_economic_census_df_filtered['State'] + '<br>' +\\\n",
    "            'Region: ' + energy_economic_census_df_filtered['Region Name'] + '<br>' +\\\n",
    "            'Division: ' + energy_economic_census_df_filtered['Division Name'] + '<br>'"
   ]
  },
  {
   "cell_type": "code",
   "execution_count": 42,
   "metadata": {
    "collapsed": false
   },
   "outputs": [
    {
     "data": {
      "text/html": [
       "<script>requirejs.config({paths: { 'plotly': ['https://cdn.plot.ly/plotly-latest.min']},});if(!window.Plotly) {{require(['plotly'],function(plotly) {window.Plotly=plotly;});}}</script>"
      ],
      "text/vnd.plotly.v1+html": [
       "<script>requirejs.config({paths: { 'plotly': ['https://cdn.plot.ly/plotly-latest.min']},});if(!window.Plotly) {{require(['plotly'],function(plotly) {window.Plotly=plotly;});}}</script>"
      ]
     },
     "metadata": {},
     "output_type": "display_data"
    },
    {
     "data": {
      "application/vnd.plotly.v1+json": {
       "data": [
        {
         "autocolorscale": false,
         "colorbar": {
          "title": "Population estimate"
         },
         "colorscale": [
          [
           0,
           "#add8e6"
          ],
          [
           0.2,
           "#ffdab9"
          ],
          [
           0.4,
           "#d79f67"
          ],
          [
           0.6,
           "#808000"
          ],
          [
           0.8,
           "#4682b4"
          ],
          [
           1,
           "#cd5c5c"
          ]
         ],
         "locationmode": "USA-states",
         "locations": [
          "AL",
          "AK",
          "AZ",
          "AR",
          "CA",
          "CO",
          "CT",
          "DE",
          "FL",
          "GA",
          "HI",
          "ID",
          "IL",
          "IN",
          "IA",
          "KS",
          "KY",
          "LA",
          "ME",
          "MD",
          "MA",
          "MI",
          "MN",
          "MS",
          "MO",
          "MT",
          "NE",
          "NV",
          "NH",
          "NJ",
          "NM",
          "NY",
          "NC",
          "ND",
          "OH",
          "OK",
          "OR",
          "PA",
          "RI",
          "SC",
          "SD",
          "TN",
          "TX",
          "UT",
          "VT",
          "VA",
          "WA",
          "WV",
          "WI",
          "WY"
         ],
         "marker": {
          "line": {
           "color": "rgb(255,255,255)",
           "width": 2
          }
         },
         "text": [
          "Alabama<br>Region: South<br>Division: East South Central<br>",
          "Alaska<br>Region: West<br>Division: Pacific<br>",
          "Arizona<br>Region: West<br>Division: Mountain<br>",
          "Arkansas<br>Region: South<br>Division: West South Central<br>",
          "California<br>Region: West<br>Division: Pacific<br>",
          "Colorado<br>Region: West<br>Division: Mountain<br>",
          "Connecticut<br>Region: Northeast<br>Division: New England<br>",
          "Delaware<br>Region: South<br>Division: South Atlantic<br>",
          "Florida<br>Region: South<br>Division: South Atlantic<br>",
          "Georgia<br>Region: South<br>Division: South Atlantic<br>",
          "Hawaii<br>Region: West<br>Division: Pacific<br>",
          "Idaho<br>Region: West<br>Division: Mountain<br>",
          "Illinois<br>Region: Midwest<br>Division: East North Central<br>",
          "Indiana<br>Region: Midwest<br>Division: East North Central<br>",
          "Iowa<br>Region: Midwest<br>Division: West North Central<br>",
          "Kansas<br>Region: Midwest<br>Division: West North Central<br>",
          "Kentucky<br>Region: South<br>Division: East South Central<br>",
          "Louisiana<br>Region: South<br>Division: West South Central<br>",
          "Maine<br>Region: Northeast<br>Division: New England<br>",
          "Maryland<br>Region: South<br>Division: South Atlantic<br>",
          "Massachusetts<br>Region: Northeast<br>Division: New England<br>",
          "Michigan<br>Region: Midwest<br>Division: East North Central<br>",
          "Minnesota<br>Region: Midwest<br>Division: West North Central<br>",
          "Mississippi<br>Region: South<br>Division: East South Central<br>",
          "Missouri<br>Region: Midwest<br>Division: West North Central<br>",
          "Montana<br>Region: West<br>Division: Mountain<br>",
          "Nebraska<br>Region: Midwest<br>Division: West North Central<br>",
          "Nevada<br>Region: West<br>Division: Mountain<br>",
          "New Hampshire<br>Region: Northeast<br>Division: New England<br>",
          "New Jersey<br>Region: Northeast<br>Division: Middle Atlantic<br>",
          "New Mexico<br>Region: West<br>Division: Mountain<br>",
          "New York<br>Region: Northeast<br>Division: Middle Atlantic<br>",
          "North Carolina<br>Region: South<br>Division: South Atlantic<br>",
          "North Dakota<br>Region: Midwest<br>Division: West North Central<br>",
          "Ohio<br>Region: Midwest<br>Division: East North Central<br>",
          "Oklahoma<br>Region: South<br>Division: West South Central<br>",
          "Oregon<br>Region: West<br>Division: Pacific<br>",
          "Pennsylvania<br>Region: Northeast<br>Division: Middle Atlantic<br>",
          "Rhode Island<br>Region: Northeast<br>Division: New England<br>",
          "South Carolina<br>Region: South<br>Division: South Atlantic<br>",
          "South Dakota<br>Region: Midwest<br>Division: West North Central<br>",
          "Tennessee<br>Region: South<br>Division: East South Central<br>",
          "Texas<br>Region: South<br>Division: West South Central<br>",
          "Utah<br>Region: West<br>Division: Mountain<br>",
          "Vermont<br>Region: Northeast<br>Division: New England<br>",
          "Virginia<br>Region: South<br>Division: South Atlantic<br>",
          "Washington<br>Region: West<br>Division: Pacific<br>",
          "West Virginia<br>Region: South<br>Division: South Atlantic<br>",
          "Wisconsin<br>Region: Midwest<br>Division: East North Central<br>",
          "Wyoming<br>Region: West<br>Division: Mountain<br>"
         ],
         "type": "choropleth",
         "z": [
          4849377,
          736732,
          2966369,
          6731484,
          38802500,
          5355866,
          3596677,
          935614,
          19893297,
          10097343,
          1419561,
          1634464,
          12880580,
          6596855,
          3107126,
          2904021,
          4413457,
          4649676,
          1330089,
          5976407,
          6745408,
          9909877,
          5457173,
          2994079,
          6063589,
          1023579,
          1881503,
          2839099,
          1326813,
          8938175,
          2085572,
          19746227,
          9943964,
          739482,
          11594163,
          3878051,
          3970239,
          12787209,
          1055173,
          4832482,
          853175,
          6549352,
          26956958,
          2942902,
          626562,
          8326289,
          7061530,
          1850326,
          5757564,
          584153
         ]
        }
       ],
       "layout": {
        "geo": {
         "lakecolor": "rgb(255, 255, 255)",
         "projection": {
          "type": "albers usa"
         },
         "scope": "usa",
         "showlakes": true
        },
        "title": "Population estimate in the year 2014<br>(Hover over chart for further information)"
       }
      },
      "text/html": [
       "<div id=\"7bd2bec7-29e5-4ff6-84b5-399a41c42a2e\" style=\"height: 525px; width: 100%;\" class=\"plotly-graph-div\"></div><script type=\"text/javascript\">require([\"plotly\"], function(Plotly) { window.PLOTLYENV=window.PLOTLYENV || {};window.PLOTLYENV.BASE_URL=\"https://plot.ly\";Plotly.newPlot(\"7bd2bec7-29e5-4ff6-84b5-399a41c42a2e\", [{\"autocolorscale\": false, \"colorscale\": [[0.0, \"#add8e6\"], [0.2, \"#ffdab9\"], [0.4, \"#d79f67\"], [0.6, \"#808000\"], [0.8, \"#4682b4\"], [1.0, \"#cd5c5c\"]], \"text\": [\"Alabama<br>Region: South<br>Division: East South Central<br>\", \"Alaska<br>Region: West<br>Division: Pacific<br>\", \"Arizona<br>Region: West<br>Division: Mountain<br>\", \"Arkansas<br>Region: South<br>Division: West South Central<br>\", \"California<br>Region: West<br>Division: Pacific<br>\", \"Colorado<br>Region: West<br>Division: Mountain<br>\", \"Connecticut<br>Region: Northeast<br>Division: New England<br>\", \"Delaware<br>Region: South<br>Division: South Atlantic<br>\", \"Florida<br>Region: South<br>Division: South Atlantic<br>\", \"Georgia<br>Region: South<br>Division: South Atlantic<br>\", \"Hawaii<br>Region: West<br>Division: Pacific<br>\", \"Idaho<br>Region: West<br>Division: Mountain<br>\", \"Illinois<br>Region: Midwest<br>Division: East North Central<br>\", \"Indiana<br>Region: Midwest<br>Division: East North Central<br>\", \"Iowa<br>Region: Midwest<br>Division: West North Central<br>\", \"Kansas<br>Region: Midwest<br>Division: West North Central<br>\", \"Kentucky<br>Region: South<br>Division: East South Central<br>\", \"Louisiana<br>Region: South<br>Division: West South Central<br>\", \"Maine<br>Region: Northeast<br>Division: New England<br>\", \"Maryland<br>Region: South<br>Division: South Atlantic<br>\", \"Massachusetts<br>Region: Northeast<br>Division: New England<br>\", \"Michigan<br>Region: Midwest<br>Division: East North Central<br>\", \"Minnesota<br>Region: Midwest<br>Division: West North Central<br>\", \"Mississippi<br>Region: South<br>Division: East South Central<br>\", \"Missouri<br>Region: Midwest<br>Division: West North Central<br>\", \"Montana<br>Region: West<br>Division: Mountain<br>\", \"Nebraska<br>Region: Midwest<br>Division: West North Central<br>\", \"Nevada<br>Region: West<br>Division: Mountain<br>\", \"New Hampshire<br>Region: Northeast<br>Division: New England<br>\", \"New Jersey<br>Region: Northeast<br>Division: Middle Atlantic<br>\", \"New Mexico<br>Region: West<br>Division: Mountain<br>\", \"New York<br>Region: Northeast<br>Division: Middle Atlantic<br>\", \"North Carolina<br>Region: South<br>Division: South Atlantic<br>\", \"North Dakota<br>Region: Midwest<br>Division: West North Central<br>\", \"Ohio<br>Region: Midwest<br>Division: East North Central<br>\", \"Oklahoma<br>Region: South<br>Division: West South Central<br>\", \"Oregon<br>Region: West<br>Division: Pacific<br>\", \"Pennsylvania<br>Region: Northeast<br>Division: Middle Atlantic<br>\", \"Rhode Island<br>Region: Northeast<br>Division: New England<br>\", \"South Carolina<br>Region: South<br>Division: South Atlantic<br>\", \"South Dakota<br>Region: Midwest<br>Division: West North Central<br>\", \"Tennessee<br>Region: South<br>Division: East South Central<br>\", \"Texas<br>Region: South<br>Division: West South Central<br>\", \"Utah<br>Region: West<br>Division: Mountain<br>\", \"Vermont<br>Region: Northeast<br>Division: New England<br>\", \"Virginia<br>Region: South<br>Division: South Atlantic<br>\", \"Washington<br>Region: West<br>Division: Pacific<br>\", \"West Virginia<br>Region: South<br>Division: South Atlantic<br>\", \"Wisconsin<br>Region: Midwest<br>Division: East North Central<br>\", \"Wyoming<br>Region: West<br>Division: Mountain<br>\"], \"locations\": [\"AL\", \"AK\", \"AZ\", \"AR\", \"CA\", \"CO\", \"CT\", \"DE\", \"FL\", \"GA\", \"HI\", \"ID\", \"IL\", \"IN\", \"IA\", \"KS\", \"KY\", \"LA\", \"ME\", \"MD\", \"MA\", \"MI\", \"MN\", \"MS\", \"MO\", \"MT\", \"NE\", \"NV\", \"NH\", \"NJ\", \"NM\", \"NY\", \"NC\", \"ND\", \"OH\", \"OK\", \"OR\", \"PA\", \"RI\", \"SC\", \"SD\", \"TN\", \"TX\", \"UT\", \"VT\", \"VA\", \"WA\", \"WV\", \"WI\", \"WY\"], \"colorbar\": {\"title\": \"Population estimate\"}, \"type\": \"choropleth\", \"marker\": {\"line\": {\"color\": \"rgb(255,255,255)\", \"width\": 2}}, \"z\": [4849377.0, 736732.0, 2966369.0, 6731484.0, 38802500.0, 5355866.0, 3596677.0, 935614.0, 19893297.0, 10097343.0, 1419561.0, 1634464.0, 12880580.0, 6596855.0, 3107126.0, 2904021.0, 4413457.0, 4649676.0, 1330089.0, 5976407.0, 6745408.0, 9909877.0, 5457173.0, 2994079.0, 6063589.0, 1023579.0, 1881503.0, 2839099.0, 1326813.0, 8938175.0, 2085572.0, 19746227.0, 9943964.0, 739482.0, 11594163.0, 3878051.0, 3970239.0, 12787209.0, 1055173.0, 4832482.0, 853175.0, 6549352.0, 26956958.0, 2942902.0, 626562.0, 8326289.0, 7061530.0, 1850326.0, 5757564.0, 584153.0], \"locationmode\": \"USA-states\"}], {\"geo\": {\"showlakes\": true, \"scope\": \"usa\", \"projection\": {\"type\": \"albers usa\"}, \"lakecolor\": \"rgb(255, 255, 255)\"}, \"title\": \"Population estimate in the year 2014<br>(Hover over chart for further information)\"}, {\"linkText\": \"Export to plot.ly\", \"showLink\": true})});</script>"
      ],
      "text/vnd.plotly.v1+html": [
       "<div id=\"7bd2bec7-29e5-4ff6-84b5-399a41c42a2e\" style=\"height: 525px; width: 100%;\" class=\"plotly-graph-div\"></div><script type=\"text/javascript\">require([\"plotly\"], function(Plotly) { window.PLOTLYENV=window.PLOTLYENV || {};window.PLOTLYENV.BASE_URL=\"https://plot.ly\";Plotly.newPlot(\"7bd2bec7-29e5-4ff6-84b5-399a41c42a2e\", [{\"autocolorscale\": false, \"colorscale\": [[0.0, \"#add8e6\"], [0.2, \"#ffdab9\"], [0.4, \"#d79f67\"], [0.6, \"#808000\"], [0.8, \"#4682b4\"], [1.0, \"#cd5c5c\"]], \"text\": [\"Alabama<br>Region: South<br>Division: East South Central<br>\", \"Alaska<br>Region: West<br>Division: Pacific<br>\", \"Arizona<br>Region: West<br>Division: Mountain<br>\", \"Arkansas<br>Region: South<br>Division: West South Central<br>\", \"California<br>Region: West<br>Division: Pacific<br>\", \"Colorado<br>Region: West<br>Division: Mountain<br>\", \"Connecticut<br>Region: Northeast<br>Division: New England<br>\", \"Delaware<br>Region: South<br>Division: South Atlantic<br>\", \"Florida<br>Region: South<br>Division: South Atlantic<br>\", \"Georgia<br>Region: South<br>Division: South Atlantic<br>\", \"Hawaii<br>Region: West<br>Division: Pacific<br>\", \"Idaho<br>Region: West<br>Division: Mountain<br>\", \"Illinois<br>Region: Midwest<br>Division: East North Central<br>\", \"Indiana<br>Region: Midwest<br>Division: East North Central<br>\", \"Iowa<br>Region: Midwest<br>Division: West North Central<br>\", \"Kansas<br>Region: Midwest<br>Division: West North Central<br>\", \"Kentucky<br>Region: South<br>Division: East South Central<br>\", \"Louisiana<br>Region: South<br>Division: West South Central<br>\", \"Maine<br>Region: Northeast<br>Division: New England<br>\", \"Maryland<br>Region: South<br>Division: South Atlantic<br>\", \"Massachusetts<br>Region: Northeast<br>Division: New England<br>\", \"Michigan<br>Region: Midwest<br>Division: East North Central<br>\", \"Minnesota<br>Region: Midwest<br>Division: West North Central<br>\", \"Mississippi<br>Region: South<br>Division: East South Central<br>\", \"Missouri<br>Region: Midwest<br>Division: West North Central<br>\", \"Montana<br>Region: West<br>Division: Mountain<br>\", \"Nebraska<br>Region: Midwest<br>Division: West North Central<br>\", \"Nevada<br>Region: West<br>Division: Mountain<br>\", \"New Hampshire<br>Region: Northeast<br>Division: New England<br>\", \"New Jersey<br>Region: Northeast<br>Division: Middle Atlantic<br>\", \"New Mexico<br>Region: West<br>Division: Mountain<br>\", \"New York<br>Region: Northeast<br>Division: Middle Atlantic<br>\", \"North Carolina<br>Region: South<br>Division: South Atlantic<br>\", \"North Dakota<br>Region: Midwest<br>Division: West North Central<br>\", \"Ohio<br>Region: Midwest<br>Division: East North Central<br>\", \"Oklahoma<br>Region: South<br>Division: West South Central<br>\", \"Oregon<br>Region: West<br>Division: Pacific<br>\", \"Pennsylvania<br>Region: Northeast<br>Division: Middle Atlantic<br>\", \"Rhode Island<br>Region: Northeast<br>Division: New England<br>\", \"South Carolina<br>Region: South<br>Division: South Atlantic<br>\", \"South Dakota<br>Region: Midwest<br>Division: West North Central<br>\", \"Tennessee<br>Region: South<br>Division: East South Central<br>\", \"Texas<br>Region: South<br>Division: West South Central<br>\", \"Utah<br>Region: West<br>Division: Mountain<br>\", \"Vermont<br>Region: Northeast<br>Division: New England<br>\", \"Virginia<br>Region: South<br>Division: South Atlantic<br>\", \"Washington<br>Region: West<br>Division: Pacific<br>\", \"West Virginia<br>Region: South<br>Division: South Atlantic<br>\", \"Wisconsin<br>Region: Midwest<br>Division: East North Central<br>\", \"Wyoming<br>Region: West<br>Division: Mountain<br>\"], \"locations\": [\"AL\", \"AK\", \"AZ\", \"AR\", \"CA\", \"CO\", \"CT\", \"DE\", \"FL\", \"GA\", \"HI\", \"ID\", \"IL\", \"IN\", \"IA\", \"KS\", \"KY\", \"LA\", \"ME\", \"MD\", \"MA\", \"MI\", \"MN\", \"MS\", \"MO\", \"MT\", \"NE\", \"NV\", \"NH\", \"NJ\", \"NM\", \"NY\", \"NC\", \"ND\", \"OH\", \"OK\", \"OR\", \"PA\", \"RI\", \"SC\", \"SD\", \"TN\", \"TX\", \"UT\", \"VT\", \"VA\", \"WA\", \"WV\", \"WI\", \"WY\"], \"colorbar\": {\"title\": \"Population estimate\"}, \"type\": \"choropleth\", \"marker\": {\"line\": {\"color\": \"rgb(255,255,255)\", \"width\": 2}}, \"z\": [4849377.0, 736732.0, 2966369.0, 6731484.0, 38802500.0, 5355866.0, 3596677.0, 935614.0, 19893297.0, 10097343.0, 1419561.0, 1634464.0, 12880580.0, 6596855.0, 3107126.0, 2904021.0, 4413457.0, 4649676.0, 1330089.0, 5976407.0, 6745408.0, 9909877.0, 5457173.0, 2994079.0, 6063589.0, 1023579.0, 1881503.0, 2839099.0, 1326813.0, 8938175.0, 2085572.0, 19746227.0, 9943964.0, 739482.0, 11594163.0, 3878051.0, 3970239.0, 12787209.0, 1055173.0, 4832482.0, 853175.0, 6549352.0, 26956958.0, 2942902.0, 626562.0, 8326289.0, 7061530.0, 1850326.0, 5757564.0, 584153.0], \"locationmode\": \"USA-states\"}], {\"geo\": {\"showlakes\": true, \"scope\": \"usa\", \"projection\": {\"type\": \"albers usa\"}, \"lakecolor\": \"rgb(255, 255, 255)\"}, \"title\": \"Population estimate in the year 2014<br>(Hover over chart for further information)\"}, {\"linkText\": \"Export to plot.ly\", \"showLink\": true})});</script>"
      ]
     },
     "metadata": {},
     "output_type": "display_data"
    }
   ],
   "source": [
    "generate_choropleth_map_usa('POPESTIMATE2014', 'Population estimate', 'Population estimate in the year 2014', energy_economic_census_df_filtered['basic tooltip text'], 'popestimate_2014.html')"
   ]
  },
  {
   "cell_type": "markdown",
   "metadata": {},
   "source": [
    "# If you are viewing the notebook directly from github, there are chances that the choropleth map might not be visible due to limited rendering, to view the plot visit the following URL:\n",
    "\n",
    "\n",
    "http://htmlpreview.github.io/?https://github.com/bodhisattamaiti25/projects-data-science/blob/master/US_Energy_Economic_Census_Data_Analysis/html-output-files/popestimate_2014.html"
   ]
  },
  {
   "cell_type": "code",
   "execution_count": 43,
   "metadata": {
    "collapsed": false
   },
   "outputs": [
    {
     "name": "stderr",
     "output_type": "stream",
     "text": [
      "/anaconda/lib/python2.7/site-packages/ipykernel/__main__.py:3: SettingWithCopyWarning:\n",
      "\n",
      "\n",
      "A value is trying to be set on a copy of a slice from a DataFrame.\n",
      "Try using .loc[row_indexer,col_indexer] = value instead\n",
      "\n",
      "See the caveats in the documentation: http://pandas.pydata.org/pandas-docs/stable/indexing.html#indexing-view-versus-copy\n",
      "\n"
     ]
    }
   ],
   "source": [
    "popestimate2014 = energy_economic_census_df_filtered['POPESTIMATE2014']\n",
    "popestimate2010 = energy_economic_census_df_filtered['POPESTIMATE2010']\n",
    "energy_economic_census_df_filtered['POPESTIMATE_PERCENT_CHANGE_2010_2014'] = ((popestimate2014 - popestimate2010)/popestimate2010)*100"
   ]
  },
  {
   "cell_type": "code",
   "execution_count": 44,
   "metadata": {
    "collapsed": false
   },
   "outputs": [
    {
     "data": {
      "text/html": [
       "<script>requirejs.config({paths: { 'plotly': ['https://cdn.plot.ly/plotly-latest.min']},});if(!window.Plotly) {{require(['plotly'],function(plotly) {window.Plotly=plotly;});}}</script>"
      ],
      "text/vnd.plotly.v1+html": [
       "<script>requirejs.config({paths: { 'plotly': ['https://cdn.plot.ly/plotly-latest.min']},});if(!window.Plotly) {{require(['plotly'],function(plotly) {window.Plotly=plotly;});}}</script>"
      ]
     },
     "metadata": {},
     "output_type": "display_data"
    },
    {
     "data": {
      "application/vnd.plotly.v1+json": {
       "data": [
        {
         "autocolorscale": false,
         "colorbar": {
          "title": "Population Estimate % Change"
         },
         "colorscale": [
          [
           0,
           "#add8e6"
          ],
          [
           0.2,
           "#ffdab9"
          ],
          [
           0.4,
           "#d79f67"
          ],
          [
           0.6,
           "#808000"
          ],
          [
           0.8,
           "#4682b4"
          ],
          [
           1,
           "#cd5c5c"
          ]
         ],
         "locationmode": "USA-states",
         "locations": [
          "AL",
          "AK",
          "AZ",
          "AR",
          "CA",
          "CO",
          "CT",
          "DE",
          "FL",
          "GA",
          "HI",
          "ID",
          "IL",
          "IN",
          "IA",
          "KS",
          "KY",
          "LA",
          "ME",
          "MD",
          "MA",
          "MI",
          "MN",
          "MS",
          "MO",
          "MT",
          "NE",
          "NV",
          "NH",
          "NJ",
          "NM",
          "NY",
          "NC",
          "ND",
          "OH",
          "OK",
          "OR",
          "PA",
          "RI",
          "SC",
          "SD",
          "TN",
          "TX",
          "UT",
          "VT",
          "VA",
          "WA",
          "WV",
          "WI",
          "WY"
         ],
         "marker": {
          "line": {
           "color": "rgb(255,255,255)",
           "width": 2
          }
         },
         "text": [
          "Alabama<br>Region: South<br>Division: East South Central<br>",
          "Alaska<br>Region: West<br>Division: Pacific<br>",
          "Arizona<br>Region: West<br>Division: Mountain<br>",
          "Arkansas<br>Region: South<br>Division: West South Central<br>",
          "California<br>Region: West<br>Division: Pacific<br>",
          "Colorado<br>Region: West<br>Division: Mountain<br>",
          "Connecticut<br>Region: Northeast<br>Division: New England<br>",
          "Delaware<br>Region: South<br>Division: South Atlantic<br>",
          "Florida<br>Region: South<br>Division: South Atlantic<br>",
          "Georgia<br>Region: South<br>Division: South Atlantic<br>",
          "Hawaii<br>Region: West<br>Division: Pacific<br>",
          "Idaho<br>Region: West<br>Division: Mountain<br>",
          "Illinois<br>Region: Midwest<br>Division: East North Central<br>",
          "Indiana<br>Region: Midwest<br>Division: East North Central<br>",
          "Iowa<br>Region: Midwest<br>Division: West North Central<br>",
          "Kansas<br>Region: Midwest<br>Division: West North Central<br>",
          "Kentucky<br>Region: South<br>Division: East South Central<br>",
          "Louisiana<br>Region: South<br>Division: West South Central<br>",
          "Maine<br>Region: Northeast<br>Division: New England<br>",
          "Maryland<br>Region: South<br>Division: South Atlantic<br>",
          "Massachusetts<br>Region: Northeast<br>Division: New England<br>",
          "Michigan<br>Region: Midwest<br>Division: East North Central<br>",
          "Minnesota<br>Region: Midwest<br>Division: West North Central<br>",
          "Mississippi<br>Region: South<br>Division: East South Central<br>",
          "Missouri<br>Region: Midwest<br>Division: West North Central<br>",
          "Montana<br>Region: West<br>Division: Mountain<br>",
          "Nebraska<br>Region: Midwest<br>Division: West North Central<br>",
          "Nevada<br>Region: West<br>Division: Mountain<br>",
          "New Hampshire<br>Region: Northeast<br>Division: New England<br>",
          "New Jersey<br>Region: Northeast<br>Division: Middle Atlantic<br>",
          "New Mexico<br>Region: West<br>Division: Mountain<br>",
          "New York<br>Region: Northeast<br>Division: Middle Atlantic<br>",
          "North Carolina<br>Region: South<br>Division: South Atlantic<br>",
          "North Dakota<br>Region: Midwest<br>Division: West North Central<br>",
          "Ohio<br>Region: Midwest<br>Division: East North Central<br>",
          "Oklahoma<br>Region: South<br>Division: West South Central<br>",
          "Oregon<br>Region: West<br>Division: Pacific<br>",
          "Pennsylvania<br>Region: Northeast<br>Division: Middle Atlantic<br>",
          "Rhode Island<br>Region: Northeast<br>Division: New England<br>",
          "South Carolina<br>Region: South<br>Division: South Atlantic<br>",
          "South Dakota<br>Region: Midwest<br>Division: West North Central<br>",
          "Tennessee<br>Region: South<br>Division: East South Central<br>",
          "Texas<br>Region: South<br>Division: West South Central<br>",
          "Utah<br>Region: West<br>Division: Mountain<br>",
          "Vermont<br>Region: Northeast<br>Division: New England<br>",
          "Virginia<br>Region: South<br>Division: South Atlantic<br>",
          "Washington<br>Region: West<br>Division: Pacific<br>",
          "West Virginia<br>Region: South<br>Division: South Atlantic<br>",
          "Wisconsin<br>Region: Midwest<br>Division: East North Central<br>",
          "Wyoming<br>Region: West<br>Division: Mountain<br>"
         ],
         "type": "choropleth",
         "z": [
          1.327985035799493,
          3.2045678680294065,
          1.5081287083414177,
          4.982611506957502,
          3.9278138202819792,
          6.086687827753376,
          0.484222672025189,
          3.9881920262834116,
          5.522304534956626,
          3.941329135606452,
          4.077202243483999,
          4.063632699811987,
          0.31528578016194114,
          1.6416324155956852,
          1.8631312709098629,
          1.576523400732227,
          1.4625602148861636,
          2.290026291468571,
          0.205520578049227,
          3.2533295462535987,
          2.7625378328364114,
          0.3379639220298531,
          2.763530102526769,
          0.7832204741398898,
          1.125801251983586,
          3.3318022360750073,
          2.821956811021578,
          5.015955284515255,
          0.7820635814045698,
          1.528866665606492,
          0.9986682486258747,
          1.780126630423269,
          4.021930881653913,
          9.659299023496875,
          0.4687406575523372,
          3.1538927846689475,
          3.470240284090805,
          0.5989421667416538,
          0.19894062927912273,
          4.231659365570316,
          4.53116423586607,
          3.0318590296616383,
          6.778341847054691,
          6.075521942829049,
          0.12304407854366946,
          3.749519025650636,
          4.740777503589116,
          -0.2076394042421,
          1.2004356272195298,
          3.507525365105128
         ]
        }
       ],
       "layout": {
        "geo": {
         "lakecolor": "rgb(255, 255, 255)",
         "projection": {
          "type": "albers usa"
         },
         "scope": "usa",
         "showlakes": true
        },
        "title": "Population estimate % change from the year 2010 to 2014<br>(Hover over chart for further information)"
       }
      },
      "text/html": [
       "<div id=\"09ded23f-c88a-4fca-83fa-a14ead3b304c\" style=\"height: 525px; width: 100%;\" class=\"plotly-graph-div\"></div><script type=\"text/javascript\">require([\"plotly\"], function(Plotly) { window.PLOTLYENV=window.PLOTLYENV || {};window.PLOTLYENV.BASE_URL=\"https://plot.ly\";Plotly.newPlot(\"09ded23f-c88a-4fca-83fa-a14ead3b304c\", [{\"autocolorscale\": false, \"colorscale\": [[0.0, \"#add8e6\"], [0.2, \"#ffdab9\"], [0.4, \"#d79f67\"], [0.6, \"#808000\"], [0.8, \"#4682b4\"], [1.0, \"#cd5c5c\"]], \"text\": [\"Alabama<br>Region: South<br>Division: East South Central<br>\", \"Alaska<br>Region: West<br>Division: Pacific<br>\", \"Arizona<br>Region: West<br>Division: Mountain<br>\", \"Arkansas<br>Region: South<br>Division: West South Central<br>\", \"California<br>Region: West<br>Division: Pacific<br>\", \"Colorado<br>Region: West<br>Division: Mountain<br>\", \"Connecticut<br>Region: Northeast<br>Division: New England<br>\", \"Delaware<br>Region: South<br>Division: South Atlantic<br>\", \"Florida<br>Region: South<br>Division: South Atlantic<br>\", \"Georgia<br>Region: South<br>Division: South Atlantic<br>\", \"Hawaii<br>Region: West<br>Division: Pacific<br>\", \"Idaho<br>Region: West<br>Division: Mountain<br>\", \"Illinois<br>Region: Midwest<br>Division: East North Central<br>\", \"Indiana<br>Region: Midwest<br>Division: East North Central<br>\", \"Iowa<br>Region: Midwest<br>Division: West North Central<br>\", \"Kansas<br>Region: Midwest<br>Division: West North Central<br>\", \"Kentucky<br>Region: South<br>Division: East South Central<br>\", \"Louisiana<br>Region: South<br>Division: West South Central<br>\", \"Maine<br>Region: Northeast<br>Division: New England<br>\", \"Maryland<br>Region: South<br>Division: South Atlantic<br>\", \"Massachusetts<br>Region: Northeast<br>Division: New England<br>\", \"Michigan<br>Region: Midwest<br>Division: East North Central<br>\", \"Minnesota<br>Region: Midwest<br>Division: West North Central<br>\", \"Mississippi<br>Region: South<br>Division: East South Central<br>\", \"Missouri<br>Region: Midwest<br>Division: West North Central<br>\", \"Montana<br>Region: West<br>Division: Mountain<br>\", \"Nebraska<br>Region: Midwest<br>Division: West North Central<br>\", \"Nevada<br>Region: West<br>Division: Mountain<br>\", \"New Hampshire<br>Region: Northeast<br>Division: New England<br>\", \"New Jersey<br>Region: Northeast<br>Division: Middle Atlantic<br>\", \"New Mexico<br>Region: West<br>Division: Mountain<br>\", \"New York<br>Region: Northeast<br>Division: Middle Atlantic<br>\", \"North Carolina<br>Region: South<br>Division: South Atlantic<br>\", \"North Dakota<br>Region: Midwest<br>Division: West North Central<br>\", \"Ohio<br>Region: Midwest<br>Division: East North Central<br>\", \"Oklahoma<br>Region: South<br>Division: West South Central<br>\", \"Oregon<br>Region: West<br>Division: Pacific<br>\", \"Pennsylvania<br>Region: Northeast<br>Division: Middle Atlantic<br>\", \"Rhode Island<br>Region: Northeast<br>Division: New England<br>\", \"South Carolina<br>Region: South<br>Division: South Atlantic<br>\", \"South Dakota<br>Region: Midwest<br>Division: West North Central<br>\", \"Tennessee<br>Region: South<br>Division: East South Central<br>\", \"Texas<br>Region: South<br>Division: West South Central<br>\", \"Utah<br>Region: West<br>Division: Mountain<br>\", \"Vermont<br>Region: Northeast<br>Division: New England<br>\", \"Virginia<br>Region: South<br>Division: South Atlantic<br>\", \"Washington<br>Region: West<br>Division: Pacific<br>\", \"West Virginia<br>Region: South<br>Division: South Atlantic<br>\", \"Wisconsin<br>Region: Midwest<br>Division: East North Central<br>\", \"Wyoming<br>Region: West<br>Division: Mountain<br>\"], \"locations\": [\"AL\", \"AK\", \"AZ\", \"AR\", \"CA\", \"CO\", \"CT\", \"DE\", \"FL\", \"GA\", \"HI\", \"ID\", \"IL\", \"IN\", \"IA\", \"KS\", \"KY\", \"LA\", \"ME\", \"MD\", \"MA\", \"MI\", \"MN\", \"MS\", \"MO\", \"MT\", \"NE\", \"NV\", \"NH\", \"NJ\", \"NM\", \"NY\", \"NC\", \"ND\", \"OH\", \"OK\", \"OR\", \"PA\", \"RI\", \"SC\", \"SD\", \"TN\", \"TX\", \"UT\", \"VT\", \"VA\", \"WA\", \"WV\", \"WI\", \"WY\"], \"colorbar\": {\"title\": \"Population Estimate % Change\"}, \"type\": \"choropleth\", \"marker\": {\"line\": {\"color\": \"rgb(255,255,255)\", \"width\": 2}}, \"z\": [1.327985035799493, 3.2045678680294065, 1.5081287083414177, 4.982611506957502, 3.9278138202819792, 6.086687827753376, 0.484222672025189, 3.9881920262834116, 5.522304534956626, 3.941329135606452, 4.077202243483999, 4.063632699811987, 0.31528578016194114, 1.6416324155956852, 1.8631312709098629, 1.576523400732227, 1.4625602148861636, 2.290026291468571, 0.205520578049227, 3.2533295462535987, 2.7625378328364114, 0.3379639220298531, 2.763530102526769, 0.7832204741398898, 1.125801251983586, 3.3318022360750073, 2.821956811021578, 5.015955284515255, 0.7820635814045698, 1.528866665606492, 0.9986682486258747, 1.780126630423269, 4.021930881653913, 9.659299023496875, 0.4687406575523372, 3.1538927846689475, 3.470240284090805, 0.5989421667416538, 0.19894062927912273, 4.231659365570316, 4.53116423586607, 3.0318590296616383, 6.778341847054691, 6.075521942829049, 0.12304407854366946, 3.749519025650636, 4.740777503589116, -0.2076394042421, 1.2004356272195298, 3.507525365105128], \"locationmode\": \"USA-states\"}], {\"geo\": {\"showlakes\": true, \"scope\": \"usa\", \"projection\": {\"type\": \"albers usa\"}, \"lakecolor\": \"rgb(255, 255, 255)\"}, \"title\": \"Population estimate % change from the year 2010 to 2014<br>(Hover over chart for further information)\"}, {\"linkText\": \"Export to plot.ly\", \"showLink\": true})});</script>"
      ],
      "text/vnd.plotly.v1+html": [
       "<div id=\"09ded23f-c88a-4fca-83fa-a14ead3b304c\" style=\"height: 525px; width: 100%;\" class=\"plotly-graph-div\"></div><script type=\"text/javascript\">require([\"plotly\"], function(Plotly) { window.PLOTLYENV=window.PLOTLYENV || {};window.PLOTLYENV.BASE_URL=\"https://plot.ly\";Plotly.newPlot(\"09ded23f-c88a-4fca-83fa-a14ead3b304c\", [{\"autocolorscale\": false, \"colorscale\": [[0.0, \"#add8e6\"], [0.2, \"#ffdab9\"], [0.4, \"#d79f67\"], [0.6, \"#808000\"], [0.8, \"#4682b4\"], [1.0, \"#cd5c5c\"]], \"text\": [\"Alabama<br>Region: South<br>Division: East South Central<br>\", \"Alaska<br>Region: West<br>Division: Pacific<br>\", \"Arizona<br>Region: West<br>Division: Mountain<br>\", \"Arkansas<br>Region: South<br>Division: West South Central<br>\", \"California<br>Region: West<br>Division: Pacific<br>\", \"Colorado<br>Region: West<br>Division: Mountain<br>\", \"Connecticut<br>Region: Northeast<br>Division: New England<br>\", \"Delaware<br>Region: South<br>Division: South Atlantic<br>\", \"Florida<br>Region: South<br>Division: South Atlantic<br>\", \"Georgia<br>Region: South<br>Division: South Atlantic<br>\", \"Hawaii<br>Region: West<br>Division: Pacific<br>\", \"Idaho<br>Region: West<br>Division: Mountain<br>\", \"Illinois<br>Region: Midwest<br>Division: East North Central<br>\", \"Indiana<br>Region: Midwest<br>Division: East North Central<br>\", \"Iowa<br>Region: Midwest<br>Division: West North Central<br>\", \"Kansas<br>Region: Midwest<br>Division: West North Central<br>\", \"Kentucky<br>Region: South<br>Division: East South Central<br>\", \"Louisiana<br>Region: South<br>Division: West South Central<br>\", \"Maine<br>Region: Northeast<br>Division: New England<br>\", \"Maryland<br>Region: South<br>Division: South Atlantic<br>\", \"Massachusetts<br>Region: Northeast<br>Division: New England<br>\", \"Michigan<br>Region: Midwest<br>Division: East North Central<br>\", \"Minnesota<br>Region: Midwest<br>Division: West North Central<br>\", \"Mississippi<br>Region: South<br>Division: East South Central<br>\", \"Missouri<br>Region: Midwest<br>Division: West North Central<br>\", \"Montana<br>Region: West<br>Division: Mountain<br>\", \"Nebraska<br>Region: Midwest<br>Division: West North Central<br>\", \"Nevada<br>Region: West<br>Division: Mountain<br>\", \"New Hampshire<br>Region: Northeast<br>Division: New England<br>\", \"New Jersey<br>Region: Northeast<br>Division: Middle Atlantic<br>\", \"New Mexico<br>Region: West<br>Division: Mountain<br>\", \"New York<br>Region: Northeast<br>Division: Middle Atlantic<br>\", \"North Carolina<br>Region: South<br>Division: South Atlantic<br>\", \"North Dakota<br>Region: Midwest<br>Division: West North Central<br>\", \"Ohio<br>Region: Midwest<br>Division: East North Central<br>\", \"Oklahoma<br>Region: South<br>Division: West South Central<br>\", \"Oregon<br>Region: West<br>Division: Pacific<br>\", \"Pennsylvania<br>Region: Northeast<br>Division: Middle Atlantic<br>\", \"Rhode Island<br>Region: Northeast<br>Division: New England<br>\", \"South Carolina<br>Region: South<br>Division: South Atlantic<br>\", \"South Dakota<br>Region: Midwest<br>Division: West North Central<br>\", \"Tennessee<br>Region: South<br>Division: East South Central<br>\", \"Texas<br>Region: South<br>Division: West South Central<br>\", \"Utah<br>Region: West<br>Division: Mountain<br>\", \"Vermont<br>Region: Northeast<br>Division: New England<br>\", \"Virginia<br>Region: South<br>Division: South Atlantic<br>\", \"Washington<br>Region: West<br>Division: Pacific<br>\", \"West Virginia<br>Region: South<br>Division: South Atlantic<br>\", \"Wisconsin<br>Region: Midwest<br>Division: East North Central<br>\", \"Wyoming<br>Region: West<br>Division: Mountain<br>\"], \"locations\": [\"AL\", \"AK\", \"AZ\", \"AR\", \"CA\", \"CO\", \"CT\", \"DE\", \"FL\", \"GA\", \"HI\", \"ID\", \"IL\", \"IN\", \"IA\", \"KS\", \"KY\", \"LA\", \"ME\", \"MD\", \"MA\", \"MI\", \"MN\", \"MS\", \"MO\", \"MT\", \"NE\", \"NV\", \"NH\", \"NJ\", \"NM\", \"NY\", \"NC\", \"ND\", \"OH\", \"OK\", \"OR\", \"PA\", \"RI\", \"SC\", \"SD\", \"TN\", \"TX\", \"UT\", \"VT\", \"VA\", \"WA\", \"WV\", \"WI\", \"WY\"], \"colorbar\": {\"title\": \"Population Estimate % Change\"}, \"type\": \"choropleth\", \"marker\": {\"line\": {\"color\": \"rgb(255,255,255)\", \"width\": 2}}, \"z\": [1.327985035799493, 3.2045678680294065, 1.5081287083414177, 4.982611506957502, 3.9278138202819792, 6.086687827753376, 0.484222672025189, 3.9881920262834116, 5.522304534956626, 3.941329135606452, 4.077202243483999, 4.063632699811987, 0.31528578016194114, 1.6416324155956852, 1.8631312709098629, 1.576523400732227, 1.4625602148861636, 2.290026291468571, 0.205520578049227, 3.2533295462535987, 2.7625378328364114, 0.3379639220298531, 2.763530102526769, 0.7832204741398898, 1.125801251983586, 3.3318022360750073, 2.821956811021578, 5.015955284515255, 0.7820635814045698, 1.528866665606492, 0.9986682486258747, 1.780126630423269, 4.021930881653913, 9.659299023496875, 0.4687406575523372, 3.1538927846689475, 3.470240284090805, 0.5989421667416538, 0.19894062927912273, 4.231659365570316, 4.53116423586607, 3.0318590296616383, 6.778341847054691, 6.075521942829049, 0.12304407854366946, 3.749519025650636, 4.740777503589116, -0.2076394042421, 1.2004356272195298, 3.507525365105128], \"locationmode\": \"USA-states\"}], {\"geo\": {\"showlakes\": true, \"scope\": \"usa\", \"projection\": {\"type\": \"albers usa\"}, \"lakecolor\": \"rgb(255, 255, 255)\"}, \"title\": \"Population estimate % change from the year 2010 to 2014<br>(Hover over chart for further information)\"}, {\"linkText\": \"Export to plot.ly\", \"showLink\": true})});</script>"
      ]
     },
     "metadata": {},
     "output_type": "display_data"
    }
   ],
   "source": [
    "generate_choropleth_map_usa('POPESTIMATE_PERCENT_CHANGE_2010_2014', 'Population Estimate % Change', 'Population estimate % change from the year 2010 to 2014', energy_economic_census_df_filtered['basic tooltip text'], 'popestimate_percent_change_2010_14.html')"
   ]
  },
  {
   "cell_type": "markdown",
   "metadata": {
    "collapsed": true
   },
   "source": [
    "# If you are viewing the notebook directly from github, there are chances that the choropleth map might not be visible due to limited rendering, to view the plot visit the following URL:\n",
    "\n",
    "http://htmlpreview.github.io/?https://github.com/bodhisattamaiti25/projects-data-science/blob/master/US_Energy_Economic_Census_Data_Analysis/html-output-files/popestimate_percent_change_2010_14.html"
   ]
  },
  {
   "cell_type": "code",
   "execution_count": null,
   "metadata": {
    "collapsed": true
   },
   "outputs": [],
   "source": []
  }
 ],
 "metadata": {
  "kernelspec": {
   "display_name": "Python 2",
   "language": "python",
   "name": "python2"
  },
  "language_info": {
   "codemirror_mode": {
    "name": "ipython",
    "version": 2
   },
   "file_extension": ".py",
   "mimetype": "text/x-python",
   "name": "python",
   "nbconvert_exporter": "python",
   "pygments_lexer": "ipython2",
   "version": "2.7.13"
  }
 },
 "nbformat": 4,
 "nbformat_minor": 2
}
